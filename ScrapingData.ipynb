{
 "cells": [
  {
   "cell_type": "code",
   "execution_count": 16,
   "metadata": {},
   "outputs": [],
   "source": [
    "from bs4 import BeautifulSoup\n",
    "from urllib.request import urlopen"
   ]
  },
  {
   "cell_type": "code",
   "execution_count": 17,
   "metadata": {},
   "outputs": [],
   "source": [
    "url=\"https://finance.yahoo.com/quote/AAPL/financials\""
   ]
  },
  {
   "cell_type": "code",
   "execution_count": 18,
   "metadata": {},
   "outputs": [],
   "source": [
    "page = urlopen(url)"
   ]
  },
  {
   "cell_type": "code",
   "execution_count": 19,
   "metadata": {},
   "outputs": [],
   "source": [
    "soup = BeautifulSoup(page)"
   ]
  },
  {
   "cell_type": "code",
   "execution_count": 50,
   "metadata": {},
   "outputs": [
    {
     "data": {
      "text/plain": [
       "['9/29/2018', '9/30/2017', '9/24/2016', '9/26/2015']"
      ]
     },
     "execution_count": 50,
     "metadata": {},
     "output_type": "execute_result"
    }
   ],
   "source": [
    "[soup.find_all(text=\"Gross Profit\")[0]\n",
    " .parent.parent.parent.parent\n",
    " .contents[0].contents[1:][i].contents[0].text \n",
    " for i in range(4)]"
   ]
  },
  {
   "cell_type": "code",
   "execution_count": 54,
   "metadata": {},
   "outputs": [],
   "source": [
    "rows = soup.find_all(text=\"Gross Profit\")[0].parent.parent.parent.parent.contents"
   ]
  },
  {
   "cell_type": "code",
   "execution_count": 93,
   "metadata": {},
   "outputs": [
    {
     "data": {
      "text/plain": [
       "['14,236,000', '11,581,000', '10,045,000', '8,067,000']"
      ]
     },
     "execution_count": 93,
     "metadata": {},
     "output_type": "execute_result"
    }
   ],
   "source": [
    "[col.contents[0].text for col in rows[5].contents[1:]]"
   ]
  },
  {
   "cell_type": "code",
   "execution_count": 117,
   "metadata": {},
   "outputs": [
    {
     "data": {
      "text/plain": [
       "{'Revenue': ['9/29/2018', '9/30/2017', '9/24/2016', '9/26/2015'],\n",
       " 'Total Revenue': ['265,595,000', '229,234,000', '215,639,000', '233,715,000'],\n",
       " 'Cost of Revenue': ['163,756,000',\n",
       "  '141,048,000',\n",
       "  '131,376,000',\n",
       "  '140,089,000'],\n",
       " 'Gross Profit': ['101,839,000', '88,186,000', '84,263,000', '93,626,000'],\n",
       " 'Research Development': ['14,236,000',\n",
       "  '11,581,000',\n",
       "  '10,045,000',\n",
       "  '8,067,000'],\n",
       " 'Selling General and Administrative': ['16,705,000',\n",
       "  '15,261,000',\n",
       "  '14,194,000',\n",
       "  '14,329,000'],\n",
       " 'Total Operating Expenses': ['194,697,000',\n",
       "  '167,890,000',\n",
       "  '155,615,000',\n",
       "  '162,485,000'],\n",
       " 'Operating Income or Loss': ['70,898,000',\n",
       "  '61,344,000',\n",
       "  '60,024,000',\n",
       "  '71,230,000'],\n",
       " 'Total Other Income/Expenses Net': ['2,005,000',\n",
       "  '2,745,000',\n",
       "  '1,348,000',\n",
       "  '1,285,000'],\n",
       " 'Earnings Before Interest and Taxes': ['70,898,000',\n",
       "  '61,344,000',\n",
       "  '60,024,000',\n",
       "  '71,230,000'],\n",
       " 'Interest Expense': ['-3,240,000', '-2,323,000', '-1,456,000', '-733,000'],\n",
       " 'Income Before Tax': ['72,903,000', '64,089,000', '61,372,000', '72,515,000'],\n",
       " 'Income Tax Expense': ['13,372,000',\n",
       "  '15,738,000',\n",
       "  '15,685,000',\n",
       "  '19,121,000'],\n",
       " 'Net Income From Continuing Ops': ['59,531,000',\n",
       "  '48,351,000',\n",
       "  '45,687,000',\n",
       "  '53,394,000'],\n",
       " 'Net Income': ['59,531,000', '48,351,000', '45,687,000', '53,394,000'],\n",
       " 'Net Income Applicable To Common Shares': ['59,531,000',\n",
       "  '48,351,000',\n",
       "  '45,687,000',\n",
       "  '53,394,000']}"
      ]
     },
     "execution_count": 117,
     "metadata": {},
     "output_type": "execute_result"
    }
   ],
   "source": [
    "fundis={}\n",
    "for row in rows:\n",
    "    if len(row.contents) > 3: \n",
    "        try:\n",
    "            fundis[row.contents[0].contents[0].text] = [col.contents[0].text for col in row.contents[1:]]\n",
    "        except:\n",
    "            pass\n",
    "            #print (row)\n",
    "fundis\n",
    "    "
   ]
  },
  {
   "cell_type": "code",
   "execution_count": null,
   "metadata": {},
   "outputs": [],
   "source": []
  }
 ],
 "metadata": {
  "kernelspec": {
   "display_name": "Python 3",
   "language": "python",
   "name": "python3"
  },
  "language_info": {
   "codemirror_mode": {
    "name": "ipython",
    "version": 3
   },
   "file_extension": ".py",
   "mimetype": "text/x-python",
   "name": "python",
   "nbconvert_exporter": "python",
   "pygments_lexer": "ipython3",
   "version": "3.6.8"
  }
 },
 "nbformat": 4,
 "nbformat_minor": 2
}
