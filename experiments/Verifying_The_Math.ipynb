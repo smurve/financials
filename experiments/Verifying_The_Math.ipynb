{
 "cells": [
  {
   "cell_type": "code",
   "execution_count": 1,
   "metadata": {},
   "outputs": [],
   "source": [
    "%load_ext autoreload\n",
    "%autoreload 2"
   ]
  },
  {
   "cell_type": "code",
   "execution_count": 2,
   "metadata": {},
   "outputs": [],
   "source": [
    "import warnings\n",
    "warnings.filterwarnings('ignore')"
   ]
  },
  {
   "cell_type": "code",
   "execution_count": 3,
   "metadata": {},
   "outputs": [
    {
     "name": "stdout",
     "output_type": "stream",
     "text": [
      "Running on scylla\n",
      "2 Physical GPUs, 2 Logical GPUs\n",
      "Tensorflow version is: 2.0.0-beta0\n",
      "GPU available for TF:  True\n"
     ]
    }
   ],
   "source": [
    "import numpy as np\n",
    "import seaborn as sns\n",
    "import tensorflow as tf\n",
    "\n",
    "host,=!uname -n\n",
    "print(\"Running on \" + host)\n",
    "gpus = tf.config.experimental.list_physical_devices('GPU')\n",
    "if gpus:\n",
    "    try:\n",
    "    # Currently, memory growth needs to be the same across GPUs\n",
    "        for gpu in gpus:\n",
    "            tf.config.experimental.set_memory_growth(gpu, True)\n",
    "        logical_gpus = tf.config.experimental.list_logical_devices('GPU')\n",
    "        print(len(gpus), \"Physical GPUs,\", len(logical_gpus), \"Logical GPUs\")\n",
    "    except RuntimeError as e:\n",
    "        # Memory growth must be set before GPUs have been initialized\n",
    "        print(e)\n",
    "print(\"Tensorflow version is: %s\" % tf.__version__)\n",
    "print(\"GPU available for TF:  %s\" % tf.test.is_gpu_available())"
   ]
  },
  {
   "cell_type": "code",
   "execution_count": 4,
   "metadata": {},
   "outputs": [],
   "source": [
    "import tensorflow.keras.layers as tkl"
   ]
  },
  {
   "cell_type": "code",
   "execution_count": 5,
   "metadata": {},
   "outputs": [],
   "source": [
    "N_BATCH=1"
   ]
  },
  {
   "cell_type": "code",
   "execution_count": 6,
   "metadata": {},
   "outputs": [],
   "source": [
    "s_i = np.array([3.,2.,1.]).reshape([1,3]).astype(np.float32)\n",
    "s_i1 = np.array([4.,3.,2.]).reshape([1,3]).astype(np.float32)\n",
    "a_i =  np.array([6.,5.]).reshape([1,2]).astype(np.float32)\n",
    "r_i = np.array([3.]).reshape([1,1]).astype(np.float32)"
   ]
  },
  {
   "cell_type": "code",
   "execution_count": 7,
   "metadata": {},
   "outputs": [],
   "source": [
    "inp_s_i = tf.keras.Input(shape=[3], dtype=tf.float32, name=\"s_i\")\n",
    "#inp_s_i1 = tf.keras.Input(shape=[3], dtype=tf.float32)\n",
    "inp_a_i = tf.keras.Input(shape=[2], dtype=tf.float32, name=\"a_i\")\n",
    "inp_sa_i = tf.keras.Input(shape=[5], dtype=tf.float32, name=\"sa_i\")\n",
    "inp_r_i = tf.keras.Input(shape=[1], dtype=tf.float32)"
   ]
  },
  {
   "cell_type": "markdown",
   "metadata": {},
   "source": [
    "### Compute Q-targets with $Q^\\prime(s_{i+1}, \\mu^\\prime(s_{i+1}))$\n"
   ]
  },
  {
   "cell_type": "code",
   "execution_count": 8,
   "metadata": {},
   "outputs": [
    {
     "data": {
      "text/plain": [
       "array([[ True,  True]])"
      ]
     },
     "execution_count": 8,
     "metadata": {},
     "output_type": "execute_result"
    }
   ],
   "source": [
    "_mu_p = tkl.Dense(units=2)(inp_s_i)\n",
    "mu_p = tf.keras.Model(inputs=inp_s_i, outputs = _mu_p)\n",
    "\n",
    "mu_p.set_weights([np.array([[2., -1.], [1., 3.], [4., -3.]]), np.array([0., 0.])])\n",
    "\n",
    "mu_p(s_i).numpy() == np.array([12., 0.])"
   ]
  },
  {
   "cell_type": "code",
   "execution_count": 9,
   "metadata": {},
   "outputs": [
    {
     "data": {
      "text/plain": [
       "<tf.Tensor: id=100, shape=(1, 1), dtype=float32, numpy=array([[39.]], dtype=float32)>"
      ]
     },
     "execution_count": 9,
     "metadata": {},
     "output_type": "execute_result"
    }
   ],
   "source": [
    "_qa = tf.concat([inp_s_i, _mu_p], axis=1)\n",
    "_q_p = tkl.Dense(units=1)(_qa)\n",
    "q_p = tf.keras.Model(inputs = inp_s_i, outputs = _q_p)\n",
    "q_p.set_weights([\n",
    "    np.array([[2., -1.], [1., 3.], [4., -3.]]),\n",
    "    np.array([0., 0.]),\n",
    "    np.array([[1.], [3.], [2.], [1.], [-3.]]), \n",
    "    np.array([0.])\n",
    "])\n",
    "q_p.trainable_weights\n",
    "q_p(s_i1)"
   ]
  },
  {
   "cell_type": "code",
   "execution_count": 10,
   "metadata": {},
   "outputs": [
    {
     "data": {
      "text/plain": [
       "((1, 1), TensorShape([1, 1]))"
      ]
     },
     "execution_count": 10,
     "metadata": {},
     "output_type": "execute_result"
    }
   ],
   "source": [
    "np.shape(r_i), q_p(s_i1).shape"
   ]
  },
  {
   "cell_type": "code",
   "execution_count": 11,
   "metadata": {},
   "outputs": [
    {
     "data": {
      "text/plain": [
       "<tf.Tensor: id=125, shape=(1, 1), dtype=float32, numpy=array([[6.9]], dtype=float32)>"
      ]
     },
     "execution_count": 11,
     "metadata": {},
     "output_type": "execute_result"
    }
   ],
   "source": [
    "gamma=.1\n",
    "y_i = r_i + gamma * q_p(s_i1)\n",
    "y_i"
   ]
  },
  {
   "cell_type": "markdown",
   "metadata": {},
   "source": [
    "### Update the primary critic $Q(s,a)$"
   ]
  },
  {
   "cell_type": "code",
   "execution_count": 12,
   "metadata": {},
   "outputs": [
    {
     "data": {
      "text/plain": [
       "array([[3., 2., 1., 6., 5.]], dtype=float32)"
      ]
     },
     "execution_count": 12,
     "metadata": {},
     "output_type": "execute_result"
    }
   ],
   "source": [
    "sa_i = np.concatenate([s_i, a_i], axis=-1)\n",
    "sa_i"
   ]
  },
  {
   "cell_type": "code",
   "execution_count": 13,
   "metadata": {},
   "outputs": [
    {
     "data": {
      "text/plain": [
       "<tf.Tensor: id=162, shape=(1, 1), dtype=float32, numpy=array([[2.]], dtype=float32)>"
      ]
     },
     "execution_count": 13,
     "metadata": {},
     "output_type": "execute_result"
    }
   ],
   "source": [
    "QWeights = tkl.Dense(units=1)\n",
    "_qsa = QWeights(inp_sa_i)\n",
    "q = tf.keras.Model(inputs = [inp_sa_i], outputs = _qsa)\n",
    "q.set_weights([\n",
    "    np.array([[1.], [3.], [2.], [1.], [-3.]]), \n",
    "    np.array([0.])\n",
    "])\n",
    "q(sa_i)"
   ]
  },
  {
   "cell_type": "code",
   "execution_count": 14,
   "metadata": {},
   "outputs": [],
   "source": [
    "L = tf.keras.losses.mean_squared_error\n",
    "sgd = tf.keras.optimizers.SGD(learning_rate=1e-2)"
   ]
  },
  {
   "cell_type": "code",
   "execution_count": 15,
   "metadata": {},
   "outputs": [],
   "source": [
    "q.compile(optimizer=sgd, loss=L)"
   ]
  },
  {
   "cell_type": "code",
   "execution_count": 16,
   "metadata": {},
   "outputs": [
    {
     "data": {
      "text/plain": [
       "24.01"
      ]
     },
     "execution_count": 16,
     "metadata": {},
     "output_type": "execute_result"
    }
   ],
   "source": [
    "q.train_on_batch(x=sa_i, y=y_i)"
   ]
  },
  {
   "cell_type": "code",
   "execution_count": 17,
   "metadata": {},
   "outputs": [
    {
     "data": {
      "text/plain": [
       "[<tf.Variable 'dense_2/kernel:0' shape=(5, 1) dtype=float32, numpy=\n",
       " array([[ 1.294],\n",
       "        [ 3.196],\n",
       "        [ 2.098],\n",
       "        [ 1.588],\n",
       "        [-2.51 ]], dtype=float32)>,\n",
       " <tf.Variable 'dense_2/bias:0' shape=(1,) dtype=float32, numpy=array([0.098], dtype=float32)>]"
      ]
     },
     "execution_count": 17,
     "metadata": {},
     "output_type": "execute_result"
    }
   ],
   "source": [
    "q.trainable_variables"
   ]
  },
  {
   "cell_type": "markdown",
   "metadata": {},
   "source": [
    "What we see is the new weight matrix of $Q(s, a | \\phi)$ after a single gradient descent step."
   ]
  },
  {
   "cell_type": "markdown",
   "metadata": {},
   "source": [
    "$$\n",
    "\\phi_{t+1} = \\phi_t - 0.01 \\frac{dL}{dQ} \\cdot \\frac{dQ}{d\\phi}\n",
    "$$\n",
    "\n",
    "Here's the proof:"
   ]
  },
  {
   "cell_type": "code",
   "execution_count": 18,
   "metadata": {},
   "outputs": [
    {
     "data": {
      "text/plain": [
       "array([[ 1.294],\n",
       "       [ 3.196],\n",
       "       [ 2.098],\n",
       "       [ 1.588],\n",
       "       [-2.51 ]])"
      ]
     },
     "execution_count": 18,
     "metadata": {},
     "output_type": "execute_result"
    }
   ],
   "source": [
    "(\n",
    "    np.array([[1.], [3.], [2.], [1.], [-3.]]) #   phi_t\n",
    "    - 0.01 * 2 * (2 - 6.9)                    # - learning rate * dL/dQ\n",
    "    * np.array([[3],[2],[1],[6],[5]]))        # * dQ/dphi (=sa_i)"
   ]
  },
  {
   "cell_type": "markdown",
   "metadata": {},
   "source": [
    "### The Primary Actor"
   ]
  },
  {
   "cell_type": "code",
   "execution_count": 19,
   "metadata": {},
   "outputs": [
    {
     "data": {
      "text/plain": [
       "<tf.Tensor: id=448, shape=(1, 2), dtype=float32, numpy=array([[12.,  0.]], dtype=float32)>"
      ]
     },
     "execution_count": 19,
     "metadata": {},
     "output_type": "execute_result"
    }
   ],
   "source": [
    "_mu = tkl.Dense(units=2)(inp_s_i)\n",
    "mu = tf.keras.Model(inputs=inp_s_i, outputs = _mu)\n",
    "mu.set_weights([np.array([[2., -1.], [1., 3.], [4., -3.]]), np.array([0., 0.])])\n",
    "mu(s_i)"
   ]
  },
  {
   "cell_type": "code",
   "execution_count": 20,
   "metadata": {},
   "outputs": [
    {
     "data": {
      "text/plain": [
       "<tf.Tensor: id=479, shape=(1, 1), dtype=float32, numpy=array([[31.526]], dtype=float32)>"
      ]
     },
     "execution_count": 20,
     "metadata": {},
     "output_type": "execute_result"
    }
   ],
   "source": [
    "_qs = tf.concat([inp_s_i, _mu], axis=1)\n",
    "_q = QWeights(_qs)\n",
    "qs = tf.keras.Model(inputs = inp_s_i, outputs = _q)\n",
    "qs(s_i)"
   ]
  },
  {
   "cell_type": "code",
   "execution_count": 21,
   "metadata": {},
   "outputs": [
    {
     "data": {
      "text/plain": [
       "[<tf.Variable 'dense_3/kernel:0' shape=(3, 2) dtype=float32, numpy=\n",
       " array([[ 2., -1.],\n",
       "        [ 1.,  3.],\n",
       "        [ 4., -3.]], dtype=float32)>,\n",
       " <tf.Variable 'dense_3/bias:0' shape=(2,) dtype=float32, numpy=array([0., 0.], dtype=float32)>,\n",
       " <tf.Variable 'dense_2/kernel:0' shape=(5, 1) dtype=float32, numpy=\n",
       " array([[ 1.294],\n",
       "        [ 3.196],\n",
       "        [ 2.098],\n",
       "        [ 1.588],\n",
       "        [-2.51 ]], dtype=float32)>,\n",
       " <tf.Variable 'dense_2/bias:0' shape=(1,) dtype=float32, numpy=array([0.098], dtype=float32)>]"
      ]
     },
     "execution_count": 21,
     "metadata": {},
     "output_type": "execute_result"
    }
   ],
   "source": [
    "qs.trainable_variables"
   ]
  },
  {
   "cell_type": "markdown",
   "metadata": {},
   "source": [
    "### Update the actor policy using $\\nabla_\\theta J$"
   ]
  },
  {
   "cell_type": "markdown",
   "metadata": {},
   "source": [
    "Now, ```qs``` is the *full* Q-function $Q(s, \\mu(s | \\phi) | \\theta)$, the derivative of which is by virtue of the chain rule just our policy gradient:\n",
    "\n",
    "$$\n",
    "\\nabla_\\theta J \\approx \\frac{1}{N_B}\\sum_{i=1}^{N_B}\\nabla_a Q(s, a|\\phi)|_{s=s_i, a=\\mu(s_i)}\n",
    "\\nabla_\\theta \\mu(s|\\theta)|_{s_i}\n",
    "$$\n"
   ]
  },
  {
   "cell_type": "markdown",
   "metadata": {},
   "source": [
    "Now, we compute the gradients and use an SGD optimizer to handle the parameter updates. Note that we intend to maximize the Q-function itself, so the negative Q-function plays the role of a *loss*."
   ]
  },
  {
   "cell_type": "code",
   "execution_count": 43,
   "metadata": {},
   "outputs": [],
   "source": [
    "with tf.GradientTape() as tape:\n",
    "    loss = -qs(s_i)"
   ]
  },
  {
   "cell_type": "code",
   "execution_count": 44,
   "metadata": {},
   "outputs": [
    {
     "data": {
      "text/plain": [
       "[<tf.Variable 'dense_4/kernel:0' shape=(3, 2) dtype=float32, numpy=\n",
       " array([[ 2.004764, -1.00753 ],\n",
       "        [ 1.003176,  2.99498 ],\n",
       "        [ 4.001588, -3.00251 ]], dtype=float32)>,\n",
       " <tf.Variable 'dense_4/bias:0' shape=(2,) dtype=float32, numpy=array([ 0.001588, -0.00251 ], dtype=float32)>]"
      ]
     },
     "execution_count": 44,
     "metadata": {},
     "output_type": "execute_result"
    }
   ],
   "source": [
    "theta = mu.trainable_variables\n",
    "theta"
   ]
  },
  {
   "cell_type": "code",
   "execution_count": 45,
   "metadata": {},
   "outputs": [],
   "source": [
    "gradients = tape.gradient(loss, theta)"
   ]
  },
  {
   "cell_type": "code",
   "execution_count": 46,
   "metadata": {},
   "outputs": [
    {
     "data": {
      "text/plain": [
       "[<tf.Tensor: id=916, shape=(3, 2), dtype=float32, numpy=\n",
       " array([[-4.764    ,  7.5299997],\n",
       "        [-3.176    ,  5.02     ],\n",
       "        [-1.588    ,  2.51     ]], dtype=float32)>,\n",
       " <tf.Tensor: id=915, shape=(2,), dtype=float32, numpy=array([-1.588,  2.51 ], dtype=float32)>]"
      ]
     },
     "execution_count": 46,
     "metadata": {},
     "output_type": "execute_result"
    }
   ],
   "source": [
    "gradients"
   ]
  },
  {
   "cell_type": "code",
   "execution_count": 47,
   "metadata": {},
   "outputs": [],
   "source": [
    "sgd = tf.keras.optimizers.SGD(learning_rate=1e-3)"
   ]
  },
  {
   "cell_type": "code",
   "execution_count": 48,
   "metadata": {},
   "outputs": [],
   "source": [
    "sgd.apply_gradients(zip(gradients, theta));"
   ]
  },
  {
   "cell_type": "code",
   "execution_count": 49,
   "metadata": {},
   "outputs": [
    {
     "data": {
      "text/plain": [
       "[<tf.Variable 'dense_4/kernel:0' shape=(3, 2) dtype=float32, numpy=\n",
       " array([[ 2.0095282, -1.01506  ],\n",
       "        [ 1.006352 ,  2.9899602],\n",
       "        [ 4.0031757, -3.0050201]], dtype=float32)>,\n",
       " <tf.Variable 'dense_4/bias:0' shape=(2,) dtype=float32, numpy=array([ 0.003176, -0.00502 ], dtype=float32)>,\n",
       " <tf.Variable 'dense_2/kernel:0' shape=(5, 1) dtype=float32, numpy=\n",
       " array([[ 1.294],\n",
       "        [ 3.196],\n",
       "        [ 2.098],\n",
       "        [ 1.588],\n",
       "        [-2.51 ]], dtype=float32)>,\n",
       " <tf.Variable 'dense_2/bias:0' shape=(1,) dtype=float32, numpy=array([0.098], dtype=float32)>]"
      ]
     },
     "execution_count": 49,
     "metadata": {},
     "output_type": "execute_result"
    }
   ],
   "source": [
    "qs.trainable_variables"
   ]
  },
  {
   "cell_type": "markdown",
   "metadata": {},
   "source": [
    "We observe that only $\\theta$ has been updated. Now we expect that $Q(s, \\mu(s))$ increased a bit, that is to say: We updated the policy, such that the target objective $J$ is maximized."
   ]
  },
  {
   "cell_type": "code",
   "execution_count": 50,
   "metadata": {},
   "outputs": [
    {
     "data": {
      "text/plain": [
       "<tf.Tensor: id=971, shape=(1, 1), dtype=float32, numpy=array([[31.790653]], dtype=float32)>"
      ]
     },
     "execution_count": 50,
     "metadata": {},
     "output_type": "execute_result"
    }
   ],
   "source": [
    "qs(s_i)"
   ]
  },
  {
   "cell_type": "markdown",
   "metadata": {},
   "source": [
    "Q.E.D.!"
   ]
  },
  {
   "cell_type": "markdown",
   "metadata": {},
   "source": [
    "### An Alternative: Avoiding the Explicit Calculus\n",
    "We can avoid the gradient calculus by faking the loss function such that we can use it for the ```model.fit(...)``` API. Note that we're not actually fitting anything - we're must maximizing $Q$ by minimizing $-Q$."
   ]
  },
  {
   "cell_type": "code",
   "execution_count": 22,
   "metadata": {},
   "outputs": [],
   "source": [
    "@tf.function\n",
    "def qloss(y_true, y_pred):\n",
    "    return -qs(s_i)"
   ]
  },
  {
   "cell_type": "code",
   "execution_count": 23,
   "metadata": {},
   "outputs": [],
   "source": [
    "QWeights.trainable = False\n",
    "sgd = tf.keras.optimizers.SGD(learning_rate=1e-3)\n",
    "qs.compile(loss=qloss, optimizer=sgd)"
   ]
  },
  {
   "cell_type": "code",
   "execution_count": 25,
   "metadata": {},
   "outputs": [
    {
     "data": {
      "text/plain": [
       "-31.658327"
      ]
     },
     "execution_count": 25,
     "metadata": {},
     "output_type": "execute_result"
    }
   ],
   "source": [
    "qs.train_on_batch(s_i, np.zeros_like(s_i))"
   ]
  },
  {
   "cell_type": "markdown",
   "metadata": {},
   "source": [
    "Here we can see that ```model.train_on_batch(...)``` does exactly the same thing that the gradient step did in the previous section. "
   ]
  },
  {
   "cell_type": "code",
   "execution_count": 26,
   "metadata": {},
   "outputs": [
    {
     "data": {
      "text/plain": [
       "[<tf.Variable 'dense_3/kernel:0' shape=(3, 2) dtype=float32, numpy=\n",
       " array([[ 2.0095282, -1.01506  ],\n",
       "        [ 1.006352 ,  2.9899602],\n",
       "        [ 4.0031757, -3.0050201]], dtype=float32)>,\n",
       " <tf.Variable 'dense_3/bias:0' shape=(2,) dtype=float32, numpy=array([ 0.003176, -0.00502 ], dtype=float32)>,\n",
       " <tf.Variable 'dense_2/kernel:0' shape=(5, 1) dtype=float32, numpy=\n",
       " array([[ 1.294],\n",
       "        [ 3.196],\n",
       "        [ 2.098],\n",
       "        [ 1.588],\n",
       "        [-2.51 ]], dtype=float32)>,\n",
       " <tf.Variable 'dense_2/bias:0' shape=(1,) dtype=float32, numpy=array([0.098], dtype=float32)>]"
      ]
     },
     "execution_count": 26,
     "metadata": {},
     "output_type": "execute_result"
    }
   ],
   "source": [
    "QWeights.trainable = True\n",
    "qs.trainable_variables"
   ]
  },
  {
   "cell_type": "markdown",
   "metadata": {},
   "source": [
    "### Updating the Target Network"
   ]
  },
  {
   "cell_type": "code",
   "execution_count": 27,
   "metadata": {},
   "outputs": [],
   "source": [
    "tau = 1e-1"
   ]
  },
  {
   "cell_type": "code",
   "execution_count": 28,
   "metadata": {},
   "outputs": [],
   "source": [
    "pairs = zip(qs.trainable_weights, q_p.trainable_weights)"
   ]
  },
  {
   "cell_type": "code",
   "execution_count": 29,
   "metadata": {},
   "outputs": [],
   "source": [
    "new_weights = [(1-tau) * target + tau * primary for primary, target in pairs]"
   ]
  },
  {
   "cell_type": "code",
   "execution_count": 30,
   "metadata": {},
   "outputs": [
    {
     "data": {
      "text/plain": [
       "[<tf.Tensor: id=735, shape=(3, 2), dtype=float32, numpy=\n",
       " array([[ 2.0009527, -1.001506 ],\n",
       "        [ 1.0006351,  2.9989958],\n",
       "        [ 4.0003176, -3.0005019]], dtype=float32)>,\n",
       " <tf.Tensor: id=742, shape=(2,), dtype=float32, numpy=array([ 0.0003176, -0.000502 ], dtype=float32)>,\n",
       " <tf.Tensor: id=749, shape=(5, 1), dtype=float32, numpy=\n",
       " array([[ 1.0294   ],\n",
       "        [ 3.0196   ],\n",
       "        [ 2.0098   ],\n",
       "        [ 1.0588   ],\n",
       "        [-2.9509997]], dtype=float32)>,\n",
       " <tf.Tensor: id=756, shape=(1,), dtype=float32, numpy=array([0.0098], dtype=float32)>]"
      ]
     },
     "execution_count": 30,
     "metadata": {},
     "output_type": "execute_result"
    }
   ],
   "source": [
    "new_weights"
   ]
  },
  {
   "cell_type": "code",
   "execution_count": 31,
   "metadata": {},
   "outputs": [
    {
     "data": {
      "text/plain": [
       "[<tf.Variable 'dense/kernel:0' shape=(3, 2) dtype=float32, numpy=\n",
       " array([[ 2., -1.],\n",
       "        [ 1.,  3.],\n",
       "        [ 4., -3.]], dtype=float32)>,\n",
       " <tf.Variable 'dense/bias:0' shape=(2,) dtype=float32, numpy=array([0., 0.], dtype=float32)>,\n",
       " <tf.Variable 'dense_1/kernel:0' shape=(5, 1) dtype=float32, numpy=\n",
       " array([[ 1.],\n",
       "        [ 3.],\n",
       "        [ 2.],\n",
       "        [ 1.],\n",
       "        [-3.]], dtype=float32)>,\n",
       " <tf.Variable 'dense_1/bias:0' shape=(1,) dtype=float32, numpy=array([0.], dtype=float32)>]"
      ]
     },
     "execution_count": 31,
     "metadata": {},
     "output_type": "execute_result"
    }
   ],
   "source": [
    "q_p.trainable_weights"
   ]
  },
  {
   "cell_type": "code",
   "execution_count": 32,
   "metadata": {},
   "outputs": [],
   "source": [
    "q_p.set_weights(new_weights)"
   ]
  },
  {
   "cell_type": "code",
   "execution_count": 33,
   "metadata": {},
   "outputs": [
    {
     "data": {
      "text/plain": [
       "<tf.Tensor: id=786, shape=(1, 1), dtype=float32, numpy=array([[40.31217]], dtype=float32)>"
      ]
     },
     "execution_count": 33,
     "metadata": {},
     "output_type": "execute_result"
    }
   ],
   "source": [
    "q_p(s_i1)"
   ]
  },
  {
   "cell_type": "code",
   "execution_count": null,
   "metadata": {},
   "outputs": [],
   "source": []
  }
 ],
 "metadata": {
  "kernelspec": {
   "display_name": "Python 3",
   "language": "python",
   "name": "python3"
  },
  "language_info": {
   "codemirror_mode": {
    "name": "ipython",
    "version": 3
   },
   "file_extension": ".py",
   "mimetype": "text/x-python",
   "name": "python",
   "nbconvert_exporter": "python",
   "pygments_lexer": "ipython3",
   "version": "3.6.8"
  }
 },
 "nbformat": 4,
 "nbformat_minor": 4
}
