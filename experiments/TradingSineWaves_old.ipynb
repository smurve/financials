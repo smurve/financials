{
 "cells": [
  {
   "cell_type": "code",
   "execution_count": 1,
   "metadata": {},
   "outputs": [],
   "source": [
    "%load_ext autoreload\n",
    "%autoreload 2"
   ]
  },
  {
   "cell_type": "code",
   "execution_count": 2,
   "metadata": {},
   "outputs": [],
   "source": [
    "import warnings\n",
    "warnings.filterwarnings('ignore')"
   ]
  },
  {
   "cell_type": "code",
   "execution_count": 3,
   "metadata": {},
   "outputs": [
    {
     "name": "stdout",
     "output_type": "stream",
     "text": [
      "Running on scylla\n",
      "2 Physical GPUs, 2 Logical GPUs\n",
      "Tensorflow version is: 2.0.0-beta0\n",
      "GPU available for TF:  True\n"
     ]
    }
   ],
   "source": [
    "import numpy as np\n",
    "import seaborn as sns\n",
    "import tensorflow as tf\n",
    "\n",
    "host,=!uname -n\n",
    "print(\"Running on \" + host)\n",
    "gpus = tf.config.experimental.list_physical_devices('GPU')\n",
    "if gpus:\n",
    "    try:\n",
    "    # Currently, memory growth needs to be the same across GPUs\n",
    "        for gpu in gpus:\n",
    "            tf.config.experimental.set_memory_growth(gpu, True)\n",
    "        logical_gpus = tf.config.experimental.list_logical_devices('GPU')\n",
    "        print(len(gpus), \"Physical GPUs,\", len(logical_gpus), \"Logical GPUs\")\n",
    "    except RuntimeError as e:\n",
    "        # Memory growth must be set before GPUs have been initialized\n",
    "        print(e)\n",
    "print(\"Tensorflow version is: %s\" % tf.__version__)\n",
    "print(\"GPU available for TF:  %s\" % tf.test.is_gpu_available())"
   ]
  },
  {
   "cell_type": "code",
   "execution_count": 4,
   "metadata": {},
   "outputs": [],
   "source": [
    "%matplotlib inline"
   ]
  },
  {
   "cell_type": "code",
   "execution_count": 5,
   "metadata": {},
   "outputs": [],
   "source": [
    "import matplotlib.pyplot as plt\n",
    "import seaborn as sns"
   ]
  },
  {
   "cell_type": "code",
   "execution_count": 6,
   "metadata": {},
   "outputs": [],
   "source": [
    "sns.set_style('darkgrid')\n",
    "sns.set(rc={'figure.figsize': (8,4)})"
   ]
  },
  {
   "cell_type": "markdown",
   "metadata": {},
   "source": [
    "---\n",
    "# Putting the Training Setup to a Test \n",
    "Before we engage in a full-blown noisy market model with our setup, we'd better try it at a super-trivial - yet similar - problem. It should be able to solve this. Only after we succeed here it makes sense to conquer the rest of the world. Here's where we can still tell whether it's a bug or just an inappropriate architecture choice, if it doesn't work."
   ]
  },
  {
   "cell_type": "markdown",
   "metadata": {},
   "source": [
    "## Trading Sine Waves\n",
    "The goal of this exercise is to provide a super-simple trading problem that any chartist would outperform the market with. A synthetic equity called 'SINX' exhibits a wave-like structure. The clue is that the local extrema of the resulting chart are easily exploitable: If it looks like a *turnaround signal*, it is a turnaround signal! So a chartist would simply have to observe the last 2 prices at any point in time. If the trend turns, it'll stay in the new direction for long enough to profit from it. To make it slightly less easy we introduce a second equity called 'COSX'. Now the claim is: Every trading algorithm that is supposed to learn patterns MUST be able to exploit this trivial market. Note that we can claim so exactly because this market exhibits *inertia* - continuity in movement."
   ]
  },
  {
   "cell_type": "code",
   "execution_count": 7,
   "metadata": {},
   "outputs": [],
   "source": [
    "def SINX(x):\n",
    "    x1=x+3*np.sin(x/5.5)\n",
    "    return 10 + np.sin(x1/10) + np.sin(x1/33) + np.sin(x1/100)\n",
    "\n",
    "def COSX(x):\n",
    "    x2=0.7*x+2*np.cos(x/5.5)\n",
    "    return 12 + np.cos(x2/10) - np.cos(x2/23) + np.cos(x2/100)"
   ]
  },
  {
   "cell_type": "code",
   "execution_count": 8,
   "metadata": {},
   "outputs": [
    {
     "data": {
      "text/plain": [
       "[<matplotlib.lines.Line2D at 0x7fd06844f668>]"
      ]
     },
     "execution_count": 8,
     "metadata": {},
     "output_type": "execute_result"
    },
    {
     "data": {
      "image/png": "[encoded data removed]",
      "text/plain": [
       "<Figure size 576x288 with 1 Axes>"
      ]
     },
     "metadata": {},
     "output_type": "display_data"
    }
   ],
   "source": [
    "x=np.arange(400)\n",
    "plt.plot(x,SINX(x))\n",
    "plt.plot(x,COSX(x))"
   ]
  },
  {
   "cell_type": "markdown",
   "metadata": {},
   "source": [
    "### Benchmark\n",
    "Observe how easy it is to extract an actionable signal from the above chart!"
   ]
  },
  {
   "cell_type": "code",
   "execution_count": 9,
   "metadata": {},
   "outputs": [
    {
     "data": {
      "text/plain": [
       "array([ 0.21578248,  0.2096061 ,  0.19783383,  0.18152987,  0.16207256,\n",
       "        0.14095171,  0.11957624,  0.09912613,  0.08046718,  0.0641292 ,\n",
       "        0.05033527,  0.03906275,  0.03011663,  0.023199  ,  0.01796462,\n",
       "        0.01405775,  0.01113025,  0.00884408,  0.00686338,  0.00484264,\n",
       "        0.00241767, -0.00079406, -0.00517848, -0.01109199, -0.01881064,\n",
       "       -0.02846559, -0.03997468, -0.05298449, -0.06684129, -0.08060838,\n",
       "       -0.09314158, -0.10322221, -0.10973139, -0.11183365, -0.1091297 ,\n",
       "       -0.10174036, -0.09029881, -0.07585093, -0.05968716, -0.04314527,\n",
       "       -0.02742693, -0.01346185, -0.00183716,  0.00720872,  0.01374174,\n",
       "        0.01805789,  0.02059961,  0.02187844,  0.0224137 ,  0.02269067,\n",
       "        0.02313766,  0.02411862,  0.02593641,  0.02884124,  0.03303882,\n",
       "        0.03869277,  0.04591686,  0.05475445,  0.06514498,  0.07688132,\n",
       "        0.08956644,  0.10258162,  0.11508189,  0.1260329 ,  0.13429807,\n",
       "        0.13877368,  0.13855498,  0.13310261,  0.12237108,  0.10686405,\n",
       "        0.08759596,  0.06596247,  0.04354557,  0.02189546,  0.00233441,\n",
       "       -0.01418194, -0.02712837, -0.03640123, -0.04225392, -0.04520087,\n",
       "       -0.04591354, -0.04512623, -0.04356203, -0.04188232, -0.04065831,\n",
       "       -0.04036036, -0.0413598 , -0.04393744, -0.04829324, -0.054552  ,\n",
       "       -0.06276056, -0.07287368, -0.08472829, -0.09800939, -0.11221517,\n",
       "       -0.12663324, -0.1403422 , -0.15225228, -0.16119335, -0.16604794])"
      ]
     },
     "execution_count": 9,
     "metadata": {},
     "output_type": "execute_result"
    }
   ],
   "source": [
    "# momentum\n",
    "delta_sin = SINX(x)[1:] - SINX(x)[:-1]\n",
    "delta_sin[:100]"
   ]
  },
  {
   "cell_type": "code",
   "execution_count": 10,
   "metadata": {},
   "outputs": [
    {
     "data": {
      "text/plain": [
       "array([ 0.,  0.,  0.,  0.,  0.,  0.,  0.,  0.,  0.,  0.,  0.,  0.,  0.,\n",
       "        0.,  0.,  0.,  0.,  0.,  0.,  0., -1.,  0.,  0.,  0.,  0.,  0.,\n",
       "        0.,  0.,  0.,  0.,  0.,  0.,  0.,  0.,  0.,  0.,  0.,  0.,  0.,\n",
       "        0.,  0.,  0.,  1.,  0.,  0.,  0.,  0.,  0.,  0.,  0.,  0.,  0.,\n",
       "        0.,  0.,  0.,  0.,  0.,  0.,  0.,  0.,  0.,  0.,  0.,  0.,  0.,\n",
       "        0.,  0.,  0.,  0.,  0.,  0.,  0.,  0.,  0., -1.,  0.,  0.,  0.,\n",
       "        0.,  0.,  0.,  0.,  0.,  0.,  0.,  0.,  0.,  0.,  0.,  0.,  0.,\n",
       "        0.,  0.,  0.,  0.,  0.,  0.,  0.,  0.,  0.])"
      ]
     },
     "execution_count": 10,
     "metadata": {},
     "output_type": "execute_result"
    }
   ],
   "source": [
    "# timing of momentum changes\n",
    "chng_sin = .5 * (np.sign(delta_sin[1:]) - np.sign(delta_sin[:-1]))\n",
    "chng_sin[:100] "
   ]
  },
  {
   "cell_type": "code",
   "execution_count": 11,
   "metadata": {},
   "outputs": [],
   "source": [
    "buy_sin = x[np.where(chng_sin == 1)]\n",
    "sell_sin = x[np.where(chng_sin == -1)]"
   ]
  },
  {
   "cell_type": "code",
   "execution_count": 12,
   "metadata": {},
   "outputs": [
    {
     "data": {
      "image/png": "[encoded data removed]",
      "text/plain": [
       "<Figure size 576x288 with 1 Axes>"
      ]
     },
     "metadata": {},
     "output_type": "display_data"
    }
   ],
   "source": [
    "plt.plot(x,SINX(x))\n",
    "plt.scatter(buy_sin, SINX(buy_sin))\n",
    "plt.scatter(sell_sin, SINX(sell_sin));"
   ]
  },
  {
   "cell_type": "markdown",
   "metadata": {},
   "source": [
    "The return per share is obviously the sum of the differences between sell and buy price for each tx pair during the period"
   ]
  },
  {
   "cell_type": "code",
   "execution_count": 13,
   "metadata": {},
   "outputs": [
    {
     "data": {
      "text/plain": [
       "11.0762104995922"
      ]
     },
     "execution_count": 13,
     "metadata": {},
     "output_type": "execute_result"
    }
   ],
   "source": [
    "np.sum(SINX(sell_sin[1:]) - SINX(buy_sin))"
   ]
  },
  {
   "cell_type": "markdown",
   "metadata": {},
   "source": [
    "That's about 100% annual return. Not bad. But for a human being that was easy. Let's see how the machines are doing on this task..."
   ]
  },
  {
   "cell_type": "markdown",
   "metadata": {},
   "source": [
    "# Deep Deterministic Policy Gradient (Silver 2016)"
   ]
  },
  {
   "cell_type": "markdown",
   "metadata": {},
   "source": [
    "In our setup, the state space is given by $\\mathbb{S} = \\mathbb{R}^{(N_M \\cdot N_H+N_P)}$, with $N_M$ being the number of marktet signals to observe - here $N_M=2$, $N_H$ being the length of the history of market signals to take into consideration, here $N_H=3$, and $N_P$ being the size of the portfolio including the cash position, here $N_P=3$. The dimension of the action space $\\mathbb{A} = \\mathbb{R}^{N_P}$ is determined by the size of the portfolio, obviously. "
   ]
  },
  {
   "cell_type": "code",
   "execution_count": 14,
   "metadata": {},
   "outputs": [],
   "source": [
    "N_M = 2\n",
    "N_H = 7\n",
    "N_P = 3"
   ]
  },
  {
   "cell_type": "markdown",
   "metadata": {},
   "source": [
    "DDPG employs two actor-critic network pairs:\n",
    "\n",
    "- Primary actor - a deterministic policy network with trainable parameters $\\theta$: $\\mu(s|\\theta): \\mathbb S \\rightarrow \\mathbb{A}$\n",
    "- Primary critic - an action-value function with trainable parameters $\\phi$:\n",
    "$Q(s,a|\\phi): \\mathbb S \\times \\mathbb A \\rightarrow \\mathbb{R}$\n",
    "\n",
    "- Target actor - a deterministic policy network with trainable parameters $\\theta^\\prime$: $\\mu^\\prime(s|\\theta^\\prime): \\mathbb S \\rightarrow \\mathbb{A}$\n",
    "- Target critic - an action-value function with trainable parameters $\\phi^\\prime$:\n",
    "$Q^\\prime(s,a|\\phi^\\prime): \\mathbb S \\times \\mathbb A \\rightarrow \\mathbb{R}$"
   ]
  },
  {
   "cell_type": "markdown",
   "metadata": {},
   "source": [
    "For the networks we choose combinations of LSTMs and feed forward networks."
   ]
  },
  {
   "cell_type": "markdown",
   "metadata": {},
   "source": [
    "### DDPG - The Algorithm\n",
    "---\n",
    "\n",
    "Using the discount factor $\\gamma$ and the target learning rate $\\tau$<br/>\n",
    "Randomly initialize the primary networks</br>\n",
    "Initialize the target networks $\\mu^\\prime$ and $Q^\\prime$ with the weights of the primary network $\\theta^\\prime \\leftarrow \\theta$, $\\phi^\\prime \\leftarrow \\phi$</br>\n",
    "Initialize replay buffer $R$</br>\n",
    "**for** episode = 1, $N_E$ **do**</br>\n",
    "&nbsp;&nbsp;&nbsp;&nbsp;&nbsp;&nbsp;\n",
    "Initialize random process $\\mathcal N$ for action exploration</br>\n",
    "&nbsp;&nbsp;&nbsp;&nbsp;&nbsp;&nbsp;\n",
    "Receive initial observation state $s_1$<br/>\n",
    "&nbsp;&nbsp;&nbsp;&nbsp;&nbsp;&nbsp;\n",
    "**for** t=1, L (length of each episode), **do**<br/>\n",
    "&nbsp;&nbsp;&nbsp;&nbsp;&nbsp;&nbsp;&nbsp;&nbsp;&nbsp;&nbsp;&nbsp;&nbsp;\n",
    "Select action $a_t = \\mu(s_t|\\theta) + \\mathcal{N}_t$ according to the current policy and exploration noise<br/>\n",
    "&nbsp;&nbsp;&nbsp;&nbsp;&nbsp;&nbsp;&nbsp;&nbsp;&nbsp;&nbsp;&nbsp;&nbsp;\n",
    "Execute action $a_t$ and observe reward $r_t$ and new state $s_{t+1}$<br/>\n",
    "&nbsp;&nbsp;&nbsp;&nbsp;&nbsp;&nbsp;&nbsp;&nbsp;&nbsp;&nbsp;&nbsp;&nbsp;\n",
    "Store transition $(s_t, a_t, r_t, s_{t+1})$ in $R$<br/>\n",
    "&nbsp;&nbsp;&nbsp;&nbsp;&nbsp;&nbsp;&nbsp;&nbsp;&nbsp;&nbsp;&nbsp;&nbsp;\n",
    "Sample a random minibatch of $N_B$ transitions $(s_i, a_i, r_i, s_{i+1})$ from $R$<br/>\n",
    "&nbsp;&nbsp;&nbsp;&nbsp;&nbsp;&nbsp;&nbsp;&nbsp;&nbsp;&nbsp;&nbsp;&nbsp;\n",
    "Calculate the $Q$-targets: $y_i = r_i + \\gamma Q^\\prime(s_{i+1}, \\mu^\\prime(s_{i+1}|\\theta^\\prime)|\\phi^\\prime)$<br/>\n",
    "&nbsp;&nbsp;&nbsp;&nbsp;&nbsp;&nbsp;&nbsp;&nbsp;&nbsp;&nbsp;&nbsp;&nbsp;\n",
    "Update the primary critic by minimizing the loss: $L = \\frac{1}{N_B}\\sum_i(y_i-Q(s_i, a_i|\\phi))^2$<br/>\n",
    "&nbsp;&nbsp;&nbsp;&nbsp;&nbsp;&nbsp;&nbsp;&nbsp;&nbsp;&nbsp;&nbsp;&nbsp;\n",
    "Update the actor policy using the sampled policy gradient:\n",
    "$$\n",
    "\\nabla_\\theta J \\approx \\frac{1}{N_B}\\sum_{i=1}^{N_B}\\nabla_a Q(s, a|\\phi)|_{s=s_i, a=\\mu(s_i)}\n",
    "\\nabla_\\theta \\mu(s|\\theta)|_{s_i}\n",
    "$$\n",
    "&nbsp;&nbsp;&nbsp;&nbsp;&nbsp;&nbsp;&nbsp;&nbsp;&nbsp;&nbsp;&nbsp;&nbsp;\n",
    "Update the target networks: \n",
    "$$\n",
    "\\theta^\\prime \\leftarrow \\tau \\theta + (1-\\tau) \\theta^\\prime\n",
    "$$\n",
    "\n",
    "$$\n",
    "\\phi^\\prime \\leftarrow \\tau \\phi + (1-\\tau) \\phi^\\prime\n",
    "$$\n",
    "&nbsp;&nbsp;&nbsp;&nbsp;&nbsp;&nbsp;\n",
    "**end for**<br/>\n",
    "**end for**<br/>\n",
    "\n",
    "---"
   ]
  },
  {
   "cell_type": "code",
   "execution_count": 15,
   "metadata": {},
   "outputs": [],
   "source": [
    "from tensorflow.python.framework.ops import disable_eager_execution\n",
    "disable_eager_execution()"
   ]
  },
  {
   "cell_type": "markdown",
   "metadata": {},
   "source": [
    "# The Networks"
   ]
  },
  {
   "cell_type": "markdown",
   "metadata": {},
   "source": [
    "## The Primary Actor\n",
    "$\\mu(s|\\theta): \\mathbb S \\rightarrow \\mathbb{A}$, &nbsp;&nbsp;&nbsp;&nbsp;\n",
    "$\\mathbb{S} = \\mathbb{R}^{(N_M \\cdot N_H+N_P)}$, &nbsp;&nbsp;&nbsp;&nbsp;\n",
    "$\\mathbb{A} = \\mathbb{R}^{N_P}$\n",
    "\n",
    "We create an LSTM network with a dense head comprising of $N_P$ output signals\n",
    "These are then concatenated with the signal from the current portfolio \n",
    "the $2 \\cdot N_P$ layer is then fed through a feed-forward network with a configurable number of layers and units per layer. We'll use 2 hidden layers with 32 units each for a start"
   ]
  },
  {
   "cell_type": "code",
   "execution_count": 16,
   "metadata": {},
   "outputs": [],
   "source": [
    "class InvestorActor(tf.keras.Model):\n",
    "    def __init__(self, n_lstm, n_market, n_hist, n_portfolio, hidden_layout):\n",
    "        super(InvestorActor, self).__init__()\n",
    "\n",
    "        self.n_hist = n_hist\n",
    "        self.n_market = n_market\n",
    "        self.n_portfolio = n_portfolio\n",
    "        \n",
    "        self.lstm = tf.keras.layers.LSTM(\n",
    "            units = n_lstm, \n",
    "            input_shape=[None, n_hist, n_market],\n",
    "            return_sequences=False)\n",
    "\n",
    "        # This is the lstm's point of view not yet considering the current portfolio\n",
    "        self.lstm_out = tf.keras.layers.Dense(n_portfolio, activation = 'softmax')\n",
    "\n",
    "        self.dense_layers=[]\n",
    "        for size in hidden_layout:\n",
    "            self.dense_layers.append(\n",
    "                tf.keras.layers.Dense(size, activation = 'relu'))\n",
    "\n",
    "        self.dense_layers.append(\n",
    "            tf.keras.layers.Dense(n_portfolio, activation = 'softmax'))\n",
    "        \n",
    "        \n",
    "    def call(self, inputs):\n",
    "        \"\"\"\n",
    "        We're using this only for the build step of the model. Not ever during training\n",
    "        Use portfolio(market, portfolio) instead.\n",
    "        \"\"\"\n",
    "        market = inputs[:, :self.n_hist * self.n_market]\n",
    "        market = tf.reshape(market, shape = [-1, self.n_hist, self.n_market])\n",
    "        portfolio = inputs[:, self.n_hist * self.n_market:]\n",
    "        return self.portfolio(market, portfolio)\n",
    "        \n",
    "        \n",
    "    def portfolio(self, market, portfolio):\n",
    "        \"\"\"\n",
    "        market: batch of market histories. Shape: [N_B, n_hist, n_market]\n",
    "        portfolio: batch of current portfolios. Shape: [N_B, n_portfolio]\n",
    "        \"\"\"\n",
    "        market = tf.cast(market, dtype=tf.float32)\n",
    "        portfolio = tf.cast(portfolio, dtype=tf.float32)\n",
    "        \n",
    "        # compute the market history's contribution\n",
    "        out = self.lstm(market)\n",
    "        out = self.lstm_out(out) # shape = n_portfolio\n",
    "\n",
    "        # take the current portfolio into considerations\n",
    "        out = tf.concat([out, portfolio], axis=1)\n",
    "        \n",
    "        # compute the final recommendation\n",
    "        for layer in self.dense_layers:\n",
    "            out = layer(out)\n",
    "        return out"
   ]
  },
  {
   "cell_type": "code",
   "execution_count": 17,
   "metadata": {},
   "outputs": [],
   "source": [
    "N_LSTM_UNITS = 128\n",
    "DENSE_LAYOUT= [32, 32, N_P]\n",
    "\n",
    "primary_actor = InvestorActor(\n",
    "    n_lstm=N_LSTM_UNITS, \n",
    "    n_hist=N_H, n_market=N_P-1, \n",
    "    n_portfolio = N_P,\n",
    "    hidden_layout=[32, 32])"
   ]
  },
  {
   "cell_type": "code",
   "execution_count": 18,
   "metadata": {},
   "outputs": [
    {
     "data": {
      "text/plain": [
       "<tf.Tensor 'investor_actor/dense_3/Softmax:0' shape=(1, 3) dtype=float32>"
      ]
     },
     "execution_count": 18,
     "metadata": {},
     "output_type": "execute_result"
    }
   ],
   "source": [
    "primary_actor(np.random.random([1, 7*2+3]))"
   ]
  },
  {
   "cell_type": "code",
   "execution_count": 19,
   "metadata": {},
   "outputs": [
    {
     "name": "stdout",
     "output_type": "stream",
     "text": [
      "Model: \"investor_actor\"\n",
      "_________________________________________________________________\n",
      "Layer (type)                 Output Shape              Param #   \n",
      "=================================================================\n",
      "lstm (LSTM)                  multiple                  67072     \n",
      "_________________________________________________________________\n",
      "dense (Dense)                multiple                  387       \n",
      "_________________________________________________________________\n",
      "dense_1 (Dense)              multiple                  224       \n",
      "_________________________________________________________________\n",
      "dense_2 (Dense)              multiple                  1056      \n",
      "_________________________________________________________________\n",
      "dense_3 (Dense)              multiple                  99        \n",
      "=================================================================\n",
      "Total params: 68,838\n",
      "Trainable params: 68,838\n",
      "Non-trainable params: 0\n",
      "_________________________________________________________________\n"
     ]
    }
   ],
   "source": [
    "primary_actor.summary()"
   ]
  },
  {
   "cell_type": "markdown",
   "metadata": {},
   "source": [
    "### Sanity-checking shapes with random input"
   ]
  },
  {
   "cell_type": "markdown",
   "metadata": {},
   "source": [
    "A batch of five market observations with 7 steps back in history of 2 different equities"
   ]
  },
  {
   "cell_type": "code",
   "execution_count": 20,
   "metadata": {},
   "outputs": [
    {
     "data": {
      "text/plain": [
       "(5, 7, 2)"
      ]
     },
     "execution_count": 20,
     "metadata": {},
     "output_type": "execute_result"
    }
   ],
   "source": [
    "market = np.random.random([5, 7, 2])\n",
    "market.shape"
   ]
  },
  {
   "cell_type": "markdown",
   "metadata": {},
   "source": [
    "A batch of five different current portfolios including the cash position"
   ]
  },
  {
   "cell_type": "code",
   "execution_count": 21,
   "metadata": {},
   "outputs": [
    {
     "data": {
      "text/plain": [
       "(5, 3)"
      ]
     },
     "execution_count": 21,
     "metadata": {},
     "output_type": "execute_result"
    }
   ],
   "source": [
    "portfolio = np.random.random([5, 3])\n",
    "portfolio.shape"
   ]
  },
  {
   "cell_type": "code",
   "execution_count": 22,
   "metadata": {},
   "outputs": [
    {
     "data": {
      "text/plain": [
       "<tf.Tensor 'dense_3/Softmax:0' shape=(5, 3) dtype=float32>"
      ]
     },
     "execution_count": 22,
     "metadata": {},
     "output_type": "execute_result"
    }
   ],
   "source": [
    "primary_actor.portfolio(market, portfolio)"
   ]
  },
  {
   "cell_type": "markdown",
   "metadata": {},
   "source": [
    "Resulting in a batch of 5 different portfolio recommendations, now including the cash position."
   ]
  },
  {
   "cell_type": "markdown",
   "metadata": {},
   "source": [
    "## Target Actor\n",
    "We're initializing the target actor with the weights of the primary actor."
   ]
  },
  {
   "cell_type": "code",
   "execution_count": 23,
   "metadata": {},
   "outputs": [],
   "source": [
    "target_actor = InvestorActor(\n",
    "    n_lstm=N_LSTM_UNITS, \n",
    "    n_hist=N_H, n_market=N_P-1, \n",
    "    n_portfolio = N_P,\n",
    "    hidden_layout=[32, 32])\n",
    "target_actor(np.random.random([1, 7*2+3]));"
   ]
  },
  {
   "cell_type": "code",
   "execution_count": 24,
   "metadata": {},
   "outputs": [],
   "source": [
    "target_actor.set_weights(primary_actor.get_weights())"
   ]
  },
  {
   "cell_type": "markdown",
   "metadata": {},
   "source": [
    "Sanity check: It produces the same recommendations as the primary actor."
   ]
  },
  {
   "cell_type": "code",
   "execution_count": 25,
   "metadata": {},
   "outputs": [
    {
     "data": {
      "text/plain": [
       "<tf.Tensor 'dense_7/Softmax:0' shape=(5, 3) dtype=float32>"
      ]
     },
     "execution_count": 25,
     "metadata": {},
     "output_type": "execute_result"
    }
   ],
   "source": [
    "target_actor.portfolio(market, portfolio)"
   ]
  },
  {
   "cell_type": "markdown",
   "metadata": {},
   "source": [
    "## Primary Critic\n",
    "The critic follows the same architecture, with two obvious differences: The output of the critic is a single number, and the additional input that is - just like the portfolio - also concatenated to the LSTM output before all three: LSTM out, portfolio, and actions are fed into the feed forward network."
   ]
  },
  {
   "cell_type": "code",
   "execution_count": 26,
   "metadata": {},
   "outputs": [],
   "source": [
    "class InvestorCritic(tf.keras.Model):\n",
    "    def __init__(self, n_lstm, n_market, n_hist, n_portfolio, hidden_layout):\n",
    "        super(InvestorCritic, self).__init__()\n",
    "\n",
    "        self.n_hist = n_hist\n",
    "        self.n_market = n_market\n",
    "        self.n_portfolio = n_portfolio\n",
    "        self.n_actions = n_portfolio\n",
    "        \n",
    "        self.lstm = tf.keras.layers.LSTM(\n",
    "            units = n_lstm, \n",
    "            input_shape=[None, n_hist, n_market],\n",
    "            return_sequences=False)\n",
    "\n",
    "        # This is the lstm's point of view not yet considering the current portfolio\n",
    "        self.lstm_out = tf.keras.layers.Dense(n_portfolio, activation = 'softmax')\n",
    "\n",
    "        self.dense_layers=[]\n",
    "        for size in hidden_layout:\n",
    "            self.dense_layers.append(\n",
    "                tf.keras.layers.Dense(size, activation = 'relu'))\n",
    "\n",
    "        self.dense_layers.append(\n",
    "            tf.keras.layers.Dense(1, activation = None))\n",
    "        \n",
    "        \n",
    "    def call(self, inputs):\n",
    "        \"\"\"\n",
    "        We're using this only for the build step of the model. Not ever during training\n",
    "        Use portfolio(market, portfolio) instead.\n",
    "        \"\"\"\n",
    "        market = inputs[:, :self.n_hist * self.n_market]\n",
    "        market = tf.reshape(market, shape = [-1, self.n_hist, self.n_market])\n",
    "        portfolio = inputs[:, self.n_hist * self.n_market:\n",
    "                           self.n_hist * self.n_market + self.n_actions]\n",
    "        actions = inputs[:, self.n_hist * self.n_market + self.n_actions:]\n",
    "        return self.qvalue(market, portfolio, actions)\n",
    "        \n",
    "        \n",
    "    def qvalue(self, market, portfolio, actions):\n",
    "        \"\"\"\n",
    "        market: batch of market histories. Shape: [N_B, n_hist, n_market]\n",
    "        portfolio: batch of current portfolios. Shape: [N_B, n_portfolio]\n",
    "        \"\"\"\n",
    "        market = tf.cast(market, dtype=tf.float32)\n",
    "        portfolio = tf.cast(portfolio, dtype=tf.float32)\n",
    "        actions = tf.cast(actions, dtype=tf.float32)\n",
    "        \n",
    "        # compute the market history's contribution\n",
    "        out = self.lstm(market)\n",
    "        out = self.lstm_out(out) # shape = n_portfolio\n",
    "\n",
    "        # take the current portfolio into considerations\n",
    "        out = tf.concat([out, portfolio, actions], axis=1)\n",
    "        \n",
    "        # compute the final recommendation\n",
    "        for layer in self.dense_layers:\n",
    "            out = layer(out)\n",
    "        return out"
   ]
  },
  {
   "cell_type": "code",
   "execution_count": 27,
   "metadata": {},
   "outputs": [],
   "source": [
    "primary_critic = InvestorCritic(\n",
    "    n_lstm=N_LSTM_UNITS, \n",
    "    n_hist=N_H, n_market=N_P-1, \n",
    "    n_portfolio = N_P,\n",
    "    hidden_layout=[32, 32])\n",
    "primary_critic(np.random.random([1, 7*2+3+3]));"
   ]
  },
  {
   "cell_type": "code",
   "execution_count": 28,
   "metadata": {},
   "outputs": [
    {
     "name": "stdout",
     "output_type": "stream",
     "text": [
      "Model: \"investor_critic\"\n",
      "_________________________________________________________________\n",
      "Layer (type)                 Output Shape              Param #   \n",
      "=================================================================\n",
      "lstm_2 (LSTM)                multiple                  67072     \n",
      "_________________________________________________________________\n",
      "dense_8 (Dense)              multiple                  387       \n",
      "_________________________________________________________________\n",
      "dense_9 (Dense)              multiple                  320       \n",
      "_________________________________________________________________\n",
      "dense_10 (Dense)             multiple                  1056      \n",
      "_________________________________________________________________\n",
      "dense_11 (Dense)             multiple                  33        \n",
      "=================================================================\n",
      "Total params: 68,868\n",
      "Trainable params: 68,868\n",
      "Non-trainable params: 0\n",
      "_________________________________________________________________\n"
     ]
    }
   ],
   "source": [
    "primary_critic.summary()"
   ]
  },
  {
   "cell_type": "code",
   "execution_count": 29,
   "metadata": {},
   "outputs": [
    {
     "data": {
      "text/plain": [
       "<tf.Tensor 'dense_11/BiasAdd:0' shape=(5, 1) dtype=float32>"
      ]
     },
     "execution_count": 29,
     "metadata": {},
     "output_type": "execute_result"
    }
   ],
   "source": [
    "primary_critic.qvalue(market, portfolio, actions=portfolio)"
   ]
  },
  {
   "cell_type": "markdown",
   "metadata": {},
   "source": [
    "## Target Critic\n",
    "We're initializing the target actor with the weights of the primary actor."
   ]
  },
  {
   "cell_type": "code",
   "execution_count": 30,
   "metadata": {},
   "outputs": [],
   "source": [
    "target_critic = InvestorCritic(\n",
    "    n_lstm=N_LSTM_UNITS, \n",
    "    n_hist=N_H, n_market=N_P-1, \n",
    "    n_portfolio = N_P,\n",
    "    hidden_layout=[32, 32])\n",
    "target_critic(np.random.random([1, 7*2+3+3]));"
   ]
  },
  {
   "cell_type": "code",
   "execution_count": 31,
   "metadata": {},
   "outputs": [],
   "source": [
    "target_critic.set_weights(primary_critic.get_weights())"
   ]
  },
  {
   "cell_type": "markdown",
   "metadata": {},
   "source": [
    "Sanity check: It produces the same recommendations as the primary critic."
   ]
  },
  {
   "cell_type": "code",
   "execution_count": 32,
   "metadata": {},
   "outputs": [
    {
     "data": {
      "text/plain": [
       "<tf.Tensor 'dense_15/BiasAdd:0' shape=(5, 1) dtype=float32>"
      ]
     },
     "execution_count": 32,
     "metadata": {},
     "output_type": "execute_result"
    }
   ],
   "source": [
    "target_critic.qvalue(market, portfolio, actions=portfolio)"
   ]
  },
  {
   "cell_type": "markdown",
   "metadata": {},
   "source": [
    "---"
   ]
  },
  {
   "cell_type": "code",
   "execution_count": null,
   "metadata": {},
   "outputs": [],
   "source": []
  },
  {
   "cell_type": "code",
   "execution_count": null,
   "metadata": {},
   "outputs": [],
   "source": []
  },
  {
   "cell_type": "code",
   "execution_count": null,
   "metadata": {},
   "outputs": [],
   "source": []
  },
  {
   "cell_type": "code",
   "execution_count": null,
   "metadata": {},
   "outputs": [],
   "source": []
  }
 ],
 "metadata": {
  "kernelspec": {
   "display_name": "Python 3",
   "language": "python",
   "name": "python3"
  },
  "language_info": {
   "codemirror_mode": {
    "name": "ipython",
    "version": 3
   },
   "file_extension": ".py",
   "mimetype": "text/x-python",
   "name": "python",
   "nbconvert_exporter": "python",
   "pygments_lexer": "ipython3",
   "version": "3.6.8"
  }
 },
 "nbformat": 4,
 "nbformat_minor": 4
}
