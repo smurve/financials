{
 "cells": [
  {
   "cell_type": "code",
   "execution_count": 29,
   "metadata": {},
   "outputs": [],
   "source": [
    "def etf_components(symbol):\n",
    "    from bs4 import BeautifulSoup\n",
    "    from urllib.request import urlopen\n",
    "    url=\"https://finance.yahoo.com/quote/%5E\" + symbol + \"/components/\"\n",
    "    page = urlopen(url)\n",
    "    soup = BeautifulSoup(page)\n",
    "    components = [c.contents[0].text for c in soup.find_all(text=\"Company Name\")[0].parent.parent.parent.parent.parent.contents[1].contents]\n",
    "    return components\n",
    "\n",
    "symbols = etf_components('SOX')\n",
    "symbols\n",
    "\n"
   ]
  }
 ],
 "metadata": {
  "kernelspec": {
   "display_name": "Python 3",
   "language": "python",
   "name": "python3"
  },
  "language_info": {
   "codemirror_mode": {
    "name": "ipython",
    "version": 3
   },
   "file_extension": ".py",
   "mimetype": "text/x-python",
   "name": "python",
   "nbconvert_exporter": "python",
   "pygments_lexer": "ipython3",
   "version": "3.7.4"
  }
 },
 "nbformat": 4,
 "nbformat_minor": 4
}
