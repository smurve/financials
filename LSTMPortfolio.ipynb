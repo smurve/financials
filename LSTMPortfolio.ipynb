{
 "cells": [
  {
   "cell_type": "code",
   "execution_count": 1,
   "metadata": {},
   "outputs": [],
   "source": [
    "%load_ext autoreload\n",
    "%autoreload 2"
   ]
  },
  {
   "cell_type": "code",
   "execution_count": 1,
   "metadata": {},
   "outputs": [],
   "source": [
    "import warnings\n",
    "warnings.filterwarnings('ignore')"
   ]
  },
  {
   "cell_type": "code",
   "execution_count": 2,
   "metadata": {},
   "outputs": [],
   "source": [
    "import numpy as np\n",
    "import tensorflow as tf"
   ]
  },
  {
   "cell_type": "code",
   "execution_count": 3,
   "metadata": {},
   "outputs": [
    {
     "name": "stdout",
     "output_type": "stream",
     "text": [
      "Running on scylla\n",
      "2 Physical GPUs, 2 Logical GPUs\n",
      "Tensorflow version is: 2.0.0-beta0\n",
      "GPU available for TF:  True\n"
     ]
    }
   ],
   "source": [
    "host,=!uname -n\n",
    "print(\"Running on \" + host)\n",
    "gpus = tf.config.experimental.list_physical_devices('GPU')\n",
    "if gpus:\n",
    "    try:\n",
    "    # Currently, memory growth needs to be the same across GPUs\n",
    "        for gpu in gpus:\n",
    "            tf.config.experimental.set_memory_growth(gpu, True)\n",
    "        logical_gpus = tf.config.experimental.list_logical_devices('GPU')\n",
    "        print(len(gpus), \"Physical GPUs,\", len(logical_gpus), \"Logical GPUs\")\n",
    "    except RuntimeError as e:\n",
    "        # Memory growth must be set before GPUs have been initialized\n",
    "        print(e)\n",
    "print(\"Tensorflow version is: %s\" % tf.__version__)\n",
    "print(\"GPU available for TF:  %s\" % tf.test.is_gpu_available())"
   ]
  },
  {
   "cell_type": "markdown",
   "metadata": {},
   "source": [
    "### Learning from dice sequences\n",
    "This is a toy problem. Any sequence of 5 throws is rewarded with a particular value based on some prior *truth*. Ten different independent dice are being rewarded at the same time. \n",
    "\n",
    "Think of this as 5 consecutive days of trading in 10 different stocks. For each stock, there's one day where buying it will give an immediate reward. That reward is different for every stock and every day, based on the *mask* matrix below.\n",
    "\n",
    "We hope that the network learns when what stock to trade on what day."
   ]
  },
  {
   "cell_type": "code",
   "execution_count": 4,
   "metadata": {},
   "outputs": [],
   "source": [
    "BATCH_SIZE = 3\n",
    "N_STEPS = 5\n",
    "N_FEATURES = 10"
   ]
  },
  {
   "cell_type": "markdown",
   "metadata": {},
   "source": [
    "N_STEPS consecutive samples with N_FEATURES dice. Each sequence of N_STEPS gets a score. E.g. the first die gets a tenth of what the first result was. So, each die (feature) is independent of the others."
   ]
  },
  {
   "cell_type": "code",
   "execution_count": 5,
   "metadata": {},
   "outputs": [
    {
     "data": {
      "text/plain": [
       "(3, 5, 10)"
      ]
     },
     "execution_count": 5,
     "metadata": {},
     "output_type": "execute_result"
    }
   ],
   "source": [
    "x = np.floor(np.random.random([BATCH_SIZE, N_STEPS, N_FEATURES]) * 7).astype(np.float32)\n",
    "x.shape"
   ]
  },
  {
   "cell_type": "code",
   "execution_count": 6,
   "metadata": {},
   "outputs": [
    {
     "data": {
      "text/plain": [
       "array([[0.1, 0. , 0. , 0. , 0. , 0.5, 0. , 0. , 0. , 0. ],\n",
       "       [0. , 0.2, 0. , 0. , 0. , 0. , 0.4, 0. , 0. , 0. ],\n",
       "       [0. , 0. , 0.3, 0. , 0. , 0. , 0. , 0.3, 0. , 0. ],\n",
       "       [0. , 0. , 0. , 0.4, 0. , 0. , 0. , 0. , 0.2, 0. ],\n",
       "       [0. , 0. , 0. , 0. , 0.5, 0. , 0. , 0. , 0. , 0.1]], dtype=float32)"
      ]
     },
     "execution_count": 6,
     "metadata": {},
     "output_type": "execute_result"
    }
   ],
   "source": [
    "mask = np.zeros((5,10), dtype=np.float32)\n",
    "\n",
    "for k in range(5):\n",
    "    mask[k][k]=(k+1)/10.\n",
    "    mask[k][k+5]=.6-(k+1)/10.\n",
    "\n",
    "mask"
   ]
  },
  {
   "cell_type": "code",
   "execution_count": 7,
   "metadata": {},
   "outputs": [],
   "source": [
    "def truth(x):\n",
    "    logits = np.round(np.sum(x * mask, axis=0), 3)\n",
    "    e = np.exp(logits)\n",
    "    return e / np.sum(e)"
   ]
  },
  {
   "cell_type": "code",
   "execution_count": 8,
   "metadata": {},
   "outputs": [
    {
     "data": {
      "text/plain": [
       "array([0.066071  , 0.10893267, 0.05409437, 0.04007409, 0.04007409,\n",
       "       0.2961097 , 0.13305067, 0.09856635, 0.10893267, 0.05409437],\n",
       "      dtype=float32)"
      ]
     },
     "execution_count": 8,
     "metadata": {},
     "output_type": "execute_result"
    }
   ],
   "source": [
    "t = truth(x[0]);t"
   ]
  },
  {
   "cell_type": "code",
   "execution_count": 9,
   "metadata": {},
   "outputs": [
    {
     "data": {
      "text/plain": [
       "1.0"
      ]
     },
     "execution_count": 9,
     "metadata": {},
     "output_type": "execute_result"
    }
   ],
   "source": [
    "np.sum(t)"
   ]
  },
  {
   "cell_type": "code",
   "execution_count": 10,
   "metadata": {},
   "outputs": [],
   "source": [
    "from tensorflow.keras import layers\n",
    "from tensorflow.keras import activations"
   ]
  },
  {
   "cell_type": "markdown",
   "metadata": {},
   "source": [
    "## Heuristic\n",
    "Try to just mimic the truth function, let it find out the mask values"
   ]
  },
  {
   "cell_type": "code",
   "execution_count": 11,
   "metadata": {},
   "outputs": [
    {
     "name": "stdout",
     "output_type": "stream",
     "text": [
      "Model: \"heuristic__trade_model\"\n",
      "_________________________________________________________________\n",
      "Layer (type)                 Output Shape              Param #   \n",
      "=================================================================\n",
      "dense (Dense)                multiple                  510       \n",
      "_________________________________________________________________\n",
      "dense_1 (Dense)              multiple                  704       \n",
      "_________________________________________________________________\n",
      "dense_2 (Dense)              multiple                  650       \n",
      "=================================================================\n",
      "Total params: 1,864\n",
      "Trainable params: 1,864\n",
      "Non-trainable params: 0\n",
      "_________________________________________________________________\n"
     ]
    }
   ],
   "source": [
    "class Heuristic_TradeModel(tf.keras.Model):\n",
    "    def __init__(self, units):\n",
    "        super(Heuristic_TradeModel, self).__init__()\n",
    "        self.selector = layers.Dense(\n",
    "            10, activation='relu', \n",
    "            kernel_regularizer=tf.keras.regularizers.l2(l=0.1))\n",
    "        self.denses = [layers.Dense(u, activation='relu') for u in units]\n",
    "        self.logits = layers.Dense(10, activation = None)\n",
    "        \n",
    "    def call(self, inputs):\n",
    "        out = tf.cast(inputs / 100, dtype=tf.float32)\n",
    "        out = tf.reshape(out, shape=[-1, 50])\n",
    "        out = self.selector(out)\n",
    "        for layer in self.denses:\n",
    "            out = layer(out) \n",
    "        out = self.logits(out)\n",
    "        return out\n",
    "    \n",
    "    def portfolio(self, inputs):\n",
    "        return activations.softmax(self.call(inputs))\n",
    "\n",
    "model = Heuristic_TradeModel([64])\n",
    "x = np.floor(np.random.random(\n",
    "    [BATCH_SIZE, N_STEPS, N_FEATURES]) * 7).astype(np.float32)\n",
    "\n",
    "_ = model(x)\n",
    "model.summary()"
   ]
  },
  {
   "cell_type": "markdown",
   "metadata": {},
   "source": [
    "## LSTM and Dense Model \n",
    "...just don't work!!"
   ]
  },
  {
   "cell_type": "code",
   "execution_count": 226,
   "metadata": {},
   "outputs": [
    {
     "name": "stdout",
     "output_type": "stream",
     "text": [
      "Model: \"dense__trade_model_4\"\n",
      "_________________________________________________________________\n",
      "Layer (type)                 Output Shape              Param #   \n",
      "=================================================================\n",
      "dense_17 (Dense)             multiple                  510       \n",
      "_________________________________________________________________\n",
      "dense_18 (Dense)             multiple                  704       \n",
      "_________________________________________________________________\n",
      "dense_19 (Dense)             multiple                  8320      \n",
      "_________________________________________________________________\n",
      "dense_20 (Dense)             multiple                  8256      \n",
      "_________________________________________________________________\n",
      "dense_21 (Dense)             multiple                  650       \n",
      "=================================================================\n",
      "Total params: 18,440\n",
      "Trainable params: 18,440\n",
      "Non-trainable params: 0\n",
      "_________________________________________________________________\n"
     ]
    }
   ],
   "source": [
    "class Dense_TradeModel(tf.keras.Model):\n",
    "    def __init__(self, units):\n",
    "        super(Dense_TradeModel, self).__init__()\n",
    "        self.selector = layers.Dense(\n",
    "            10, activation='relu', \n",
    "            kernel_regularizer=tf.keras.regularizers.l1(l=0.1))\n",
    "        self.denses = [layers.Dense(u, activation='relu') for u in units]\n",
    "        self.logits = layers.Dense(10, activation = None)\n",
    "        \n",
    "    def call(self, inputs):\n",
    "        out = tf.cast(inputs, dtype=tf.float32)\n",
    "        out = tf.reshape(out, shape=[-1, 50])\n",
    "        out = self.selector(out)\n",
    "        for layer in self.denses:\n",
    "            out = layer(out) \n",
    "        out = self.logits(out)\n",
    "        return out\n",
    "    \n",
    "    def portfolio(self, inputs):\n",
    "        return activations.softmax(self.call(inputs))\n",
    "\n",
    "model = Dense_TradeModel([64, 128, 64])\n",
    "x = np.floor(np.random.random(\n",
    "    [BATCH_SIZE, N_STEPS, N_FEATURES]) * 7).astype(np.float32)\n",
    "\n",
    "_ = model(x)\n",
    "model.summary()"
   ]
  },
  {
   "cell_type": "code",
   "execution_count": 424,
   "metadata": {},
   "outputs": [
    {
     "name": "stdout",
     "output_type": "stream",
     "text": [
      "Model: \"lstm__trade_model_3\"\n",
      "_________________________________________________________________\n",
      "Layer (type)                 Output Shape              Param #   \n",
      "=================================================================\n",
      "lstm_3 (LSTM)                multiple                  71168     \n",
      "_________________________________________________________________\n",
      "dense_25 (Dense)             multiple                  1290      \n",
      "=================================================================\n",
      "Total params: 72,458\n",
      "Trainable params: 72,458\n",
      "Non-trainable params: 0\n",
      "_________________________________________________________________\n"
     ]
    }
   ],
   "source": [
    "class LSTM_TradeModel(tf.keras.Model):\n",
    "    def __init__(self, n_neurons):\n",
    "        super(LSTM_TradeModel, self).__init__()\n",
    "        self.lstm = layers.LSTM(\n",
    "            n_neurons, \n",
    "            input_shape=[None, 5, 10],\n",
    "            return_sequences=False)\n",
    "        self.logits = layers.Dense(10, activation = None)\n",
    "        \n",
    "    def call(self, inputs):\n",
    "        out = tf.cast(inputs, dtype=tf.float32)\n",
    "        out = self.lstm(out) \n",
    "        out = self.logits(out)\n",
    "        return out\n",
    "    \n",
    "    def portfolio(self, inputs):\n",
    "        return activations.softmax(self.call(inputs))\n",
    "\n",
    "model = LSTM_TradeModel(128)\n",
    "x = np.floor(np.random.random(\n",
    "    [BATCH_SIZE, N_STEPS, N_FEATURES]) * 7).astype(np.float32)\n",
    "\n",
    "_ = model(x)\n",
    "model.summary()"
   ]
  },
  {
   "cell_type": "code",
   "execution_count": 425,
   "metadata": {},
   "outputs": [
    {
     "data": {
      "text/plain": [
       "array([[0.16817154, 0.08938   , 0.08206645, 0.07084215, 0.06438243,\n",
       "        0.12043565, 0.05463945, 0.12428629, 0.12845062, 0.09734542],\n",
       "       [0.17806405, 0.07707066, 0.10308179, 0.07331615, 0.04551242,\n",
       "        0.14613456, 0.05539326, 0.11012829, 0.10870326, 0.10259555],\n",
       "       [0.16724215, 0.08722932, 0.08776763, 0.07543791, 0.0431552 ,\n",
       "        0.12041067, 0.04920189, 0.17400296, 0.10022201, 0.09533028]],\n",
       "      dtype=float32)"
      ]
     },
     "execution_count": 425,
     "metadata": {},
     "output_type": "execute_result"
    }
   ],
   "source": [
    "model.portfolio(x).numpy()"
   ]
  },
  {
   "cell_type": "code",
   "execution_count": 426,
   "metadata": {},
   "outputs": [],
   "source": [
    "loss = tf.keras.losses.CategoricalCrossentropy(from_logits=True)\n",
    "optimizer = tf.keras.optimizers.Adam(learning_rate=1e-3)\n",
    "model.compile(loss=loss, optimizer=optimizer)"
   ]
  },
  {
   "cell_type": "code",
   "execution_count": 427,
   "metadata": {},
   "outputs": [],
   "source": [
    "def new_data_set(n_steps, n_features, total_size,\n",
    "                 batch_size, buffer_size=1000):\n",
    "    def _generator():\n",
    "        for _ in range(total_size):\n",
    "            x = np.floor( np.random.random(\n",
    "                    [n_steps, n_features]) * 7).astype(np.float32)\n",
    "            y = truth(x)\n",
    "            yield x/20,y\n",
    "\n",
    "    inputs = tf.data.Dataset.from_generator(\n",
    "        _generator, output_types = (tf.float32, tf.float32))\n",
    "\n",
    "    inputs = inputs.shuffle(buffer_size).batch(batch_size)\n",
    "\n",
    "    return inputs"
   ]
  },
  {
   "cell_type": "code",
   "execution_count": 428,
   "metadata": {},
   "outputs": [],
   "source": [
    "dataset = new_data_set(5, 10, 1000, 1)\n",
    "iterator = iter(dataset)"
   ]
  },
  {
   "cell_type": "code",
   "execution_count": 429,
   "metadata": {},
   "outputs": [
    {
     "data": {
      "text/plain": [
       "(<tf.Tensor: id=35252, shape=(1, 5, 10), dtype=float32, numpy=\n",
       " array([[[0.05, 0.3 , 0.2 , 0.2 , 0.15, 0.15, 0.05, 0.1 , 0.  , 0.2 ],\n",
       "         [0.  , 0.1 , 0.05, 0.  , 0.25, 0.2 , 0.05, 0.05, 0.3 , 0.1 ],\n",
       "         [0.  , 0.3 , 0.15, 0.1 , 0.15, 0.25, 0.2 , 0.1 , 0.  , 0.3 ],\n",
       "         [0.3 , 0.1 , 0.  , 0.1 , 0.2 , 0.25, 0.3 , 0.2 , 0.  , 0.  ],\n",
       "         [0.15, 0.2 , 0.  , 0.25, 0.  , 0.2 , 0.3 , 0.1 , 0.15, 0.2 ]]],\n",
       "       dtype=float32)>,\n",
       " <tf.Tensor: id=35253, shape=(1, 10), dtype=float32, numpy=\n",
       " array([[0.05951507, 0.08033694, 0.13245323, 0.11984863, 0.05385146,\n",
       "         0.24134551, 0.08033694, 0.09812377, 0.05385146, 0.08033694]],\n",
       "       dtype=float32)>)"
      ]
     },
     "execution_count": 429,
     "metadata": {},
     "output_type": "execute_result"
    }
   ],
   "source": [
    "next(iterator)"
   ]
  },
  {
   "cell_type": "code",
   "execution_count": 499,
   "metadata": {},
   "outputs": [
    {
     "name": "stdout",
     "output_type": "stream",
     "text": [
      "Epoch 1/20\n",
      "5/5 [==============================] - 13s 3s/step - loss: 2.0045\n",
      "Epoch 2/20\n",
      "5/5 [==============================] - 13s 3s/step - loss: 2.0091\n",
      "Epoch 3/20\n",
      "5/5 [==============================] - 13s 3s/step - loss: 2.0048\n",
      "Epoch 4/20\n",
      "5/5 [==============================] - 12s 2s/step - loss: 2.0032\n",
      "Epoch 5/20\n",
      "5/5 [==============================] - 11s 2s/step - loss: 2.0026\n",
      "Epoch 6/20\n",
      "5/5 [==============================] - 12s 2s/step - loss: 2.0006\n",
      "Epoch 7/20\n",
      "5/5 [==============================] - 12s 2s/step - loss: 1.9995\n",
      "Epoch 8/20\n",
      "5/5 [==============================] - 12s 2s/step - loss: 1.9999\n",
      "Epoch 9/20\n",
      "5/5 [==============================] - 13s 3s/step - loss: 1.9985\n",
      "Epoch 10/20\n",
      "5/5 [==============================] - 13s 3s/step - loss: 1.9974\n",
      "Epoch 11/20\n",
      "5/5 [==============================] - 13s 3s/step - loss: 1.9976\n",
      "Epoch 12/20\n",
      "5/5 [==============================] - 12s 2s/step - loss: 1.9972\n",
      "Epoch 13/20\n",
      "5/5 [==============================] - 12s 2s/step - loss: 1.9958\n",
      "Epoch 14/20\n",
      "5/5 [==============================] - 13s 3s/step - loss: 1.9973\n",
      "Epoch 15/20\n",
      "5/5 [==============================] - 13s 3s/step - loss: 1.9964\n",
      "Epoch 16/20\n",
      "5/5 [==============================] - 12s 2s/step - loss: 1.9958\n",
      "Epoch 17/20\n",
      "5/5 [==============================] - 13s 3s/step - loss: 1.9943\n",
      "Epoch 18/20\n",
      "5/5 [==============================] - 13s 3s/step - loss: 1.9929\n",
      "Epoch 19/20\n",
      "5/5 [==============================] - 13s 3s/step - loss: 1.9929\n",
      "Epoch 20/20\n",
      "5/5 [==============================] - 13s 3s/step - loss: 1.9933\n"
     ]
    },
    {
     "data": {
      "text/plain": [
       "<tensorflow.python.keras.callbacks.History at 0x7f943f0ca7f0>"
      ]
     },
     "execution_count": 499,
     "metadata": {},
     "output_type": "execute_result"
    }
   ],
   "source": [
    "dataset = new_data_set(5, 10, 100000, 20000)\n",
    "model.fit(dataset, epochs=20)"
   ]
  },
  {
   "cell_type": "code",
   "execution_count": 500,
   "metadata": {},
   "outputs": [
    {
     "name": "stdout",
     "output_type": "stream",
     "text": [
      "      1/Unknown - 0s 22ms/step - loss: 2.0112"
     ]
    },
    {
     "data": {
      "text/plain": [
       "2.0112242698669434"
      ]
     },
     "execution_count": 500,
     "metadata": {},
     "output_type": "execute_result"
    }
   ],
   "source": [
    "model.evaluate(new_data_set(5, 10, 100, 100))"
   ]
  },
  {
   "cell_type": "code",
   "execution_count": 501,
   "metadata": {},
   "outputs": [],
   "source": [
    "dataset = new_data_set(5, 10, 1000, 1)\n",
    "iterator = iter(dataset)"
   ]
  },
  {
   "cell_type": "code",
   "execution_count": 502,
   "metadata": {},
   "outputs": [
    {
     "name": "stdout",
     "output_type": "stream",
     "text": [
      "[[0.02355975 0.03918843 0.07514225 0.13082215 0.05361094 0.4620374\n",
      "  0.09835409 0.05506898 0.03777958 0.02443642]] tf.Tensor(\n",
      "[[0.02507842 0.05581304 0.09202015 0.15171559 0.05581304 0.41240573\n",
      "  0.101698   0.0374126  0.0374126  0.03063085]], shape=(1, 10), dtype=float32)\n"
     ]
    }
   ],
   "source": [
    "x, y = next(iterator)\n",
    "print(model.portfolio(x).numpy(), y)"
   ]
  },
  {
   "cell_type": "code",
   "execution_count": null,
   "metadata": {},
   "outputs": [],
   "source": []
  },
  {
   "cell_type": "code",
   "execution_count": 503,
   "metadata": {},
   "outputs": [],
   "source": [
    "import seaborn as sns"
   ]
  },
  {
   "cell_type": "code",
   "execution_count": 557,
   "metadata": {},
   "outputs": [
    {
     "data": {
      "text/plain": [
       "<matplotlib.axes._subplots.AxesSubplot at 0x7f93d8f00358>"
      ]
     },
     "execution_count": 557,
     "metadata": {},
     "output_type": "execute_result"
    },
    {
     "data": {
      "image/png": "[encoded data removed]",
      "text/plain": [
       "<Figure size 432x288 with 1 Axes>"
      ]
     },
     "metadata": {
      "needs_background": "light"
     },
     "output_type": "display_data"
    }
   ],
   "source": [
    "x, y = next(iterator)\n",
    "sns.lineplot(np.arange(10), y[0].numpy())\n",
    "sns.lineplot(np.arange(10), model.portfolio(x)[0].numpy())"
   ]
  },
  {
   "cell_type": "code",
   "execution_count": null,
   "metadata": {},
   "outputs": [],
   "source": []
  }
 ],
 "metadata": {
  "kernelspec": {
   "display_name": "Python 3",
   "language": "python",
   "name": "python3"
  },
  "language_info": {
   "codemirror_mode": {
    "name": "ipython",
    "version": 3
   },
   "file_extension": ".py",
   "mimetype": "text/x-python",
   "name": "python",
   "nbconvert_exporter": "python",
   "pygments_lexer": "ipython3",
   "version": "3.6.8"
  }
 },
 "nbformat": 4,
 "nbformat_minor": 4
}
