{
 "cells": [
  {
   "cell_type": "code",
   "execution_count": 83,
   "id": "enhanced-double",
   "metadata": {},
   "outputs": [],
   "source": [
    "from ipyleaflet import (Map, GeoData, basemaps, WidgetControl, GeoJSON,\n",
    " LayersControl, Icon, Marker,basemap_to_tiles, Choropleth,\n",
    " MarkerCluster, Heatmap,SearchControl, DivIcon,\n",
    " FullScreenControl)\n",
    "from ipywidgets import Text, HTML\n",
    "from branca.colormap import linear\n",
    "import geopandas as gpd\n",
    "import json\n",
    "from datasources.yahoo import YahooResource"
   ]
  },
  {
   "cell_type": "code",
   "execution_count": 12,
   "id": "patent-knife",
   "metadata": {},
   "outputs": [],
   "source": [
    "# Countries\n",
    "countries = gpd.read_file(gpd.datasets.get_path('naturalearth_lowres'))"
   ]
  },
  {
   "cell_type": "code",
   "execution_count": 13,
   "id": "consistent-college",
   "metadata": {},
   "outputs": [
    {
     "data": {
      "text/html": [
       "<div>\n",
       "<style scoped>\n",
       "    .dataframe tbody tr th:only-of-type {\n",
       "        vertical-align: middle;\n",
       "    }\n",
       "\n",
       "    .dataframe tbody tr th {\n",
       "        vertical-align: top;\n",
       "    }\n",
       "\n",
       "    .dataframe thead th {\n",
       "        text-align: right;\n",
       "    }\n",
       "</style>\n",
       "<table border=\"1\" class=\"dataframe\">\n",
       "  <thead>\n",
       "    <tr style=\"text-align: right;\">\n",
       "      <th></th>\n",
       "      <th>pop_est</th>\n",
       "      <th>continent</th>\n",
       "      <th>name</th>\n",
       "      <th>iso_a3</th>\n",
       "      <th>gdp_md_est</th>\n",
       "      <th>geometry</th>\n",
       "    </tr>\n",
       "  </thead>\n",
       "  <tbody>\n",
       "    <tr>\n",
       "      <th>0</th>\n",
       "      <td>920938</td>\n",
       "      <td>Oceania</td>\n",
       "      <td>Fiji</td>\n",
       "      <td>FJI</td>\n",
       "      <td>8374.0</td>\n",
       "      <td>MULTIPOLYGON (((180.00000 -16.06713, 180.00000...</td>\n",
       "    </tr>\n",
       "    <tr>\n",
       "      <th>1</th>\n",
       "      <td>53950935</td>\n",
       "      <td>Africa</td>\n",
       "      <td>Tanzania</td>\n",
       "      <td>TZA</td>\n",
       "      <td>150600.0</td>\n",
       "      <td>POLYGON ((33.90371 -0.95000, 34.07262 -1.05982...</td>\n",
       "    </tr>\n",
       "    <tr>\n",
       "      <th>2</th>\n",
       "      <td>603253</td>\n",
       "      <td>Africa</td>\n",
       "      <td>W. Sahara</td>\n",
       "      <td>ESH</td>\n",
       "      <td>906.5</td>\n",
       "      <td>POLYGON ((-8.66559 27.65643, -8.66512 27.58948...</td>\n",
       "    </tr>\n",
       "    <tr>\n",
       "      <th>3</th>\n",
       "      <td>35623680</td>\n",
       "      <td>North America</td>\n",
       "      <td>Canada</td>\n",
       "      <td>CAN</td>\n",
       "      <td>1674000.0</td>\n",
       "      <td>MULTIPOLYGON (((-122.84000 49.00000, -122.9742...</td>\n",
       "    </tr>\n",
       "    <tr>\n",
       "      <th>4</th>\n",
       "      <td>326625791</td>\n",
       "      <td>North America</td>\n",
       "      <td>United States of America</td>\n",
       "      <td>USA</td>\n",
       "      <td>18560000.0</td>\n",
       "      <td>MULTIPOLYGON (((-122.84000 49.00000, -120.0000...</td>\n",
       "    </tr>\n",
       "    <tr>\n",
       "      <th>...</th>\n",
       "      <td>...</td>\n",
       "      <td>...</td>\n",
       "      <td>...</td>\n",
       "      <td>...</td>\n",
       "      <td>...</td>\n",
       "      <td>...</td>\n",
       "    </tr>\n",
       "    <tr>\n",
       "      <th>172</th>\n",
       "      <td>7111024</td>\n",
       "      <td>Europe</td>\n",
       "      <td>Serbia</td>\n",
       "      <td>SRB</td>\n",
       "      <td>101800.0</td>\n",
       "      <td>POLYGON ((18.82982 45.90887, 18.82984 45.90888...</td>\n",
       "    </tr>\n",
       "    <tr>\n",
       "      <th>173</th>\n",
       "      <td>642550</td>\n",
       "      <td>Europe</td>\n",
       "      <td>Montenegro</td>\n",
       "      <td>MNE</td>\n",
       "      <td>10610.0</td>\n",
       "      <td>POLYGON ((20.07070 42.58863, 19.80161 42.50009...</td>\n",
       "    </tr>\n",
       "    <tr>\n",
       "      <th>174</th>\n",
       "      <td>1895250</td>\n",
       "      <td>Europe</td>\n",
       "      <td>Kosovo</td>\n",
       "      <td>-99</td>\n",
       "      <td>18490.0</td>\n",
       "      <td>POLYGON ((20.59025 41.85541, 20.52295 42.21787...</td>\n",
       "    </tr>\n",
       "    <tr>\n",
       "      <th>175</th>\n",
       "      <td>1218208</td>\n",
       "      <td>North America</td>\n",
       "      <td>Trinidad and Tobago</td>\n",
       "      <td>TTO</td>\n",
       "      <td>43570.0</td>\n",
       "      <td>POLYGON ((-61.68000 10.76000, -61.10500 10.890...</td>\n",
       "    </tr>\n",
       "    <tr>\n",
       "      <th>176</th>\n",
       "      <td>13026129</td>\n",
       "      <td>Africa</td>\n",
       "      <td>S. Sudan</td>\n",
       "      <td>SSD</td>\n",
       "      <td>20880.0</td>\n",
       "      <td>POLYGON ((30.83385 3.50917, 29.95350 4.17370, ...</td>\n",
       "    </tr>\n",
       "  </tbody>\n",
       "</table>\n",
       "<p>177 rows × 6 columns</p>\n",
       "</div>"
      ],
      "text/plain": [
       "       pop_est      continent                      name iso_a3  gdp_md_est  \\\n",
       "0       920938        Oceania                      Fiji    FJI      8374.0   \n",
       "1     53950935         Africa                  Tanzania    TZA    150600.0   \n",
       "2       603253         Africa                 W. Sahara    ESH       906.5   \n",
       "3     35623680  North America                    Canada    CAN   1674000.0   \n",
       "4    326625791  North America  United States of America    USA  18560000.0   \n",
       "..         ...            ...                       ...    ...         ...   \n",
       "172    7111024         Europe                    Serbia    SRB    101800.0   \n",
       "173     642550         Europe                Montenegro    MNE     10610.0   \n",
       "174    1895250         Europe                    Kosovo    -99     18490.0   \n",
       "175    1218208  North America       Trinidad and Tobago    TTO     43570.0   \n",
       "176   13026129         Africa                  S. Sudan    SSD     20880.0   \n",
       "\n",
       "                                              geometry  \n",
       "0    MULTIPOLYGON (((180.00000 -16.06713, 180.00000...  \n",
       "1    POLYGON ((33.90371 -0.95000, 34.07262 -1.05982...  \n",
       "2    POLYGON ((-8.66559 27.65643, -8.66512 27.58948...  \n",
       "3    MULTIPOLYGON (((-122.84000 49.00000, -122.9742...  \n",
       "4    MULTIPOLYGON (((-122.84000 49.00000, -120.0000...  \n",
       "..                                                 ...  \n",
       "172  POLYGON ((18.82982 45.90887, 18.82984 45.90888...  \n",
       "173  POLYGON ((20.07070 42.58863, 19.80161 42.50009...  \n",
       "174  POLYGON ((20.59025 41.85541, 20.52295 42.21787...  \n",
       "175  POLYGON ((-61.68000 10.76000, -61.10500 10.890...  \n",
       "176  POLYGON ((30.83385 3.50917, 29.95350 4.17370, ...  \n",
       "\n",
       "[177 rows x 6 columns]"
      ]
     },
     "execution_count": 13,
     "metadata": {},
     "output_type": "execute_result"
    }
   ],
   "source": [
    "countries"
   ]
  },
  {
   "cell_type": "code",
   "execution_count": 108,
   "id": "fixed-player",
   "metadata": {},
   "outputs": [],
   "source": [
    "from pydantic import BaseModel\n",
    "from typing import List, Tuple, Any"
   ]
  },
  {
   "cell_type": "code",
   "execution_count": 84,
   "id": "billion-morning",
   "metadata": {},
   "outputs": [],
   "source": [
    "yahoo = YahooResource()"
   ]
  },
  {
   "cell_type": "code",
   "execution_count": 87,
   "id": "worthy-avatar",
   "metadata": {},
   "outputs": [],
   "source": [
    "import datetime as dt"
   ]
  },
  {
   "cell_type": "code",
   "execution_count": 144,
   "id": "institutional-decade",
   "metadata": {},
   "outputs": [
    {
     "data": {
      "text/plain": [
       "datetime.date(2021, 2, 12)"
      ]
     },
     "execution_count": 144,
     "metadata": {},
     "output_type": "execute_result"
    }
   ],
   "source": [
    "as_of = dt.date.today() - dt.timedelta(days=3)\n",
    "as_of"
   ]
  },
  {
   "cell_type": "code",
   "execution_count": 196,
   "id": "eleven-leonard",
   "metadata": {},
   "outputs": [
    {
     "data": {
      "text/plain": [
       "0.46424324678535633"
      ]
     },
     "execution_count": 196,
     "metadata": {},
     "output_type": "execute_result"
    }
   ],
   "source": [
    "record = yahoo.ohlcav(from_=as_of, to_=as_of, symbol='3067.HK')\n",
    "100 * float(record.Close / record.Open - 1)"
   ]
  },
  {
   "cell_type": "code",
   "execution_count": 167,
   "id": "baking-librarian",
   "metadata": {},
   "outputs": [],
   "source": [
    "class Index(BaseModel):\n",
    "    name: str\n",
    "    symbol: str"
   ]
  },
  {
   "cell_type": "code",
   "execution_count": 177,
   "id": "educated-marker",
   "metadata": {},
   "outputs": [],
   "source": [
    "class MarketInfo(BaseModel):\n",
    "    name: str \n",
    "    geo: List[float]\n",
    "    tz: int\n",
    "    ix1: Index\n",
    "    ixt: Index = None\n",
    "                \n",
    "    def change(self, symbol: str, as_of: dt.date):\n",
    "        yahoo = YahooResource()\n",
    "        record = yahoo.ohlcav(from_=as_of, to_=as_of, symbol=symbol)\n",
    "        return round(100 * float(record.Close / record.Open - 1), 2)\n",
    "        \n",
    "    def style_for(self, change: float):\n",
    "        if change < -.1:\n",
    "            return 'background-color: #FF8080; color: #FFFFFF'\n",
    "        elif -.1 < change < .1:\n",
    "            return 'background-color: #808080; color: #FFFFFF'\n",
    "        else:\n",
    "            return 'background-color: #20E0C0; color: #FFFFFF'\n",
    "    \n",
    "    def to_html(self, as_of: dt.date):\n",
    "        ix1_change = self.change(self.ix1.symbol, as_of)\n",
    "        if self.ixt:\n",
    "            ixt_change = self.change(self.ixt.symbol, as_of)\n",
    "        \n",
    "        return (\n",
    "            '<span>'+\n",
    "            f'<div style=\"\">&nbsp;{self.name} GMT {self.tz:+2}</div>' +\n",
    "            f'<div style=\"{self.style_for(ix1_change)}\">&nbsp;{self.ix1.name}: {ix1_change}</div>' +\n",
    "            (f'<div style=\"{self.style_for(ixt_change)}\">&nbsp;{self.ixt.name}: {ixt_change}</div>' if self.ixt else \"\") +\n",
    "            '</span>'\n",
    "        ) \n"
   ]
  },
  {
   "cell_type": "code",
   "execution_count": 181,
   "id": "latest-amino",
   "metadata": {},
   "outputs": [],
   "source": [
    "nyse = MarketInfo(geo=[42.9, -78.9], name=\"NYSE\", tz=-5,\n",
    "                  ix1=Index(name='DOW', symbol='^DJI'),\n",
    "                  ixt=Index(name='NASDAQ', symbol='^IXIC'))"
   ]
  },
  {
   "cell_type": "code",
   "execution_count": 182,
   "id": "controversial-biodiversity",
   "metadata": {},
   "outputs": [],
   "source": [
    "london = MarketInfo(geo=[51.5, 0.1], name=\"London\", tz=0, \n",
    "                    ix1=Index(name='FTSE100', symbol='^FTSE'),\n",
    "                    ixt=None)"
   ]
  },
  {
   "cell_type": "code",
   "execution_count": 197,
   "id": "derived-punch",
   "metadata": {},
   "outputs": [],
   "source": [
    "hke = MarketInfo(geo=[22, 114], name=\"Hong Kong\", tz=8, \n",
    "                    ix1=Index(name='Hang Seng', symbol='^HSI'),\n",
    "                    ixt=Index(name='HKD', symbol='3067.HK'))"
   ]
  },
  {
   "cell_type": "code",
   "execution_count": 202,
   "id": "actual-burner",
   "metadata": {},
   "outputs": [
    {
     "data": {
      "application/vnd.jupyter.widget-view+json": {
       "model_id": "bd963799773b44ef95c80e4e17571aa7",
       "version_major": 2,
       "version_minor": 0
      },
      "text/plain": [
       "Map(center=[51.5, 0.1], controls=(ZoomControl(options=['position', 'zoom_in_text', 'zoom_in_title', 'zoom_out_…"
      ]
     },
     "metadata": {},
     "output_type": "display_data"
    }
   ],
   "source": [
    "markets = [london, nyse, hke]\n",
    "center = [51.5, 0.1]\n",
    "zoom = 3\n",
    "m = Map(basemap=basemaps.Esri.WorldImagery, center=center, zoom=zoom)\n",
    "m = Map(basemap=basemaps.CartoDB.Positron, center=center, zoom=zoom)\n",
    "m.layout.height=\"1000px\"\n",
    "for market in markets:\n",
    "    icon = DivIcon(html=market.to_html(as_of), bg_pos=[0, 0], icon_size=[120, 36+(18 if market.ixt else 0)])\n",
    "    mark = Marker(location=market.geo, icon=icon)\n",
    "    m.add_layer(mark);\n",
    "m"
   ]
  },
  {
   "cell_type": "code",
   "execution_count": null,
   "id": "english-overview",
   "metadata": {},
   "outputs": [],
   "source": []
  }
 ],
 "metadata": {
  "kernelspec": {
   "display_name": "Python 3",
   "language": "python",
   "name": "python3"
  },
  "language_info": {
   "codemirror_mode": {
    "name": "ipython",
    "version": 3
   },
   "file_extension": ".py",
   "mimetype": "text/x-python",
   "name": "python",
   "nbconvert_exporter": "python",
   "pygments_lexer": "ipython3",
   "version": "3.8.4"
  }
 },
 "nbformat": 4,
 "nbformat_minor": 5
}
