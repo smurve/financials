{
 "cells": [
  {
   "cell_type": "markdown",
   "metadata": {},
   "source": [
    "### 21.09.2019\n",
    "Status: [Trading_Sine_Waves.ipynb](Trading_Sine_Waves.ipynb) shows that DDPG can learn from experience with a small portfolio. I'm still very much in doubt though whether it can handle late rewards well. However, it works. Now there are still multiple packages of workload left:\n",
    "\n",
    "#### 1) Operationalization\n",
    "- Make training runnable as script\n",
    "- introduce MLFlow\n",
    "- Log for Tensorboard\n",
    "- save the model at certain checkpoints\n",
    "- introduce reproducible random\n",
    "\n",
    "#### 2) Get the market simulator ready for DDPG\n",
    "- Pre-train a larger model on SINX?\n",
    "- *DONE* - Experiment w randomly generated sentiments $\\phi(t)$, possibly as random walks. See: [PortfolioActor.ipynb](PortfolioActor.ipynb) \n",
    "- *DONE* - [Market_with_Inertia.ipynb](Market_with_Inertia.ipynb) now has a market model that reliably creates loads of 4y stock price histories\n",
    "- Generate zillions of 4y charts. [Market_with_Inertia.ipynb] (Market_with_Inertia.ipynb) has the code\n",
    "- *DONE* - create a trading_model.StockMarket instance from the above data to power up the RL environment\n",
    "\n",
    "#### 3) Feature Extraction and model\n",
    "- Start with the simple ```statsutils.avg_over_axis``` from static data (128 down to 16) and observe (lack of) convergence.\n",
    "- Extract various moving averages\n",
    "- Extract various downsamplings\n",
    "- Expand the convnet architecture to deal with more features\n",
    "- Have a larger and varying history input\n",
    "\n",
    "#### 3) Documentation\n",
    "- Really wanna do a paper? As long as I don't get into believing it's a real paper, ...ok."
   ]
  },
  {
   "cell_type": "markdown",
   "metadata": {},
   "source": []
  },
  {
   "cell_type": "markdown",
   "metadata": {},
   "source": []
  },
  {
   "cell_type": "markdown",
   "metadata": {},
   "source": []
  },
  {
   "cell_type": "markdown",
   "metadata": {},
   "source": []
  },
  {
   "cell_type": "markdown",
   "metadata": {},
   "source": []
  },
  {
   "cell_type": "markdown",
   "metadata": {},
   "source": []
  },
  {
   "cell_type": "markdown",
   "metadata": {},
   "source": []
  },
  {
   "cell_type": "markdown",
   "metadata": {},
   "source": [
    "# Storyline"
   ]
  },
  {
   "cell_type": "markdown",
   "metadata": {},
   "source": [
    "- Superior returns can only come from predicting the price\n",
    "- Nobody can predict the future\n",
    "- But one can predict the motion of a massive body in physics - inertia makes it possible.\n",
    "- States of motion change, dependent on force and inertia.\n",
    "- If the distribution of unpredictable forces has few large values, inertia may make a system predictable\n",
    "- The slow change of human behaviour may manifest inertia in the market\n",
    "- If there is that effect in the market - will it make some price movements predictable?\n",
    "- Can we even observe oscillations and determine some kind of eigenfrequency at times?\n",
    "- Note that the typical moving average signals try to exploit just that\n",
    "\n",
    "My experiment introduces a a market that is carefully hand-crafted to exhibits inertia.\n",
    "\n",
    "The market features assets that come with a function called *expected average perceived value*. This function is hard-coded. It changes over time mimicking quarterly earnings surprises with jumps in both directions. The perceived value can be sampled with noise for traders to act upon. \n",
    "Our market features a number of traders, each with two kinds of behaviour, differently balanced. Some prefer momentum stocks, they buy stocks that are moving upwards. Some prefer value stocks, they buy stocks that are currently traded below their average perceived value. These two *forces* create a dynamically stable system with stocks essentially oscillating around the perceived value. Note that this is the scenario described in the mean reversion theory.\n",
    "\n",
    "The hypothesis I want to discuss is: \n",
    "\n",
    "#### If there is inertia present in a market, can it be exploited by price observation alone?\n",
    "\n",
    "#### In our synthetic market, inertia is the only phenomenon that can be exploited.\n",
    "\n",
    "#### Hence, if we find a successful algorithm in the synthetic market, and if there's inertia in the real market, then we can use this algorithm to make real money.\n",
    "\n",
    "By using a synthetic market model, we control the left side of the if-clause!"
   ]
  },
  {
   "cell_type": "markdown",
   "metadata": {},
   "source": [
    "# Slides\n",
    "\n",
    "#### Summary\n",
    "If data is the new oil,\n",
    "then DRL is the sexiest drilling equipment\n",
    "and tactical asset allocation the most promising oil field to explore!\n"
   ]
  },
  {
   "cell_type": "markdown",
   "metadata": {},
   "source": []
  },
  {
   "cell_type": "markdown",
   "metadata": {},
   "source": [
    "## Outlook\n",
    "\n",
    "### Risk measures under scrutiny\n",
    "Challenge the risk definition with DRL. If risk is a problem then DRL should find a solution, and that's not likely to be the standard deviation. Synthetic market data will certainly help overcome the massive need for data here\n",
    "\n",
    "### Other market signals\n",
    "Earnings reports and the associated changes in the fundamentals, fundamentals in general, possibly hand-crafted technical signals.++\n",
    "\n",
    "### Sparse rewards\n",
    "It would be super-interesting to see what happens when the rewards don't come immediately. Is there a sweet spot of rewards delay?\n",
    "\n",
    "### RL Algorithms\n",
    "Compare the results in efficiency with PPO and PG(A2C)\n",
    "\n",
    "### Trading large positions\n",
    "The effect of trading large position could be taken into consideration.\n",
    "\n",
    "### More sophisticated synthetic market\n",
    "The synthetic market is super-simple. It would be interesting to explore more sophisticated models.\n",
    "\n",
    "\n"
   ]
  },
  {
   "cell_type": "markdown",
   "metadata": {},
   "source": []
  },
  {
   "cell_type": "markdown",
   "metadata": {},
   "source": []
  },
  {
   "cell_type": "markdown",
   "metadata": {},
   "source": []
  },
  {
   "cell_type": "markdown",
   "metadata": {},
   "source": []
  }
 ],
 "metadata": {
  "kernelspec": {
   "display_name": "Python 3",
   "language": "python",
   "name": "python3"
  },
  "language_info": {
   "codemirror_mode": {
    "name": "ipython",
    "version": 3
   },
   "file_extension": ".py",
   "mimetype": "text/x-python",
   "name": "python",
   "nbconvert_exporter": "python",
   "pygments_lexer": "ipython3",
   "version": "3.7.1"
  }
 },
 "nbformat": 4,
 "nbformat_minor": 4
}
