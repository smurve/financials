{
 "cells": [
  {
   "cell_type": "markdown",
   "metadata": {},
   "source": [
    "### 21.09.2019\n",
    "Status: [Trading_Sine_Waves.ipynb](Trading_Sine_Waves.ipynb) shows that DDPG can learn from experience with a small portfolio. I'm still very much in doubt though whether it can handle late rewards well. However, it works. Now there are still multiple packages of workload left:\n",
    "\n",
    "#### 1) Operationalization\n",
    "- Make training runnable as script\n",
    "- introduce MLFlow\n",
    "- Log for Tensorboard\n",
    "- save the model at certain checkpoints\n",
    "- introduce reproducible random\n",
    "\n",
    "#### 2) Get the market simulator ready for DDPG\n",
    "- Pre-train a larger model on SINX?\n",
    "- DONE - Experiment w randomly generated sentiments $\\phi(t)$, possibly as random walks. See: [PortfolioActor.ipynb](PortfolioActor.ipynb) \n",
    "- [Market_with_Inertia.ipynb](Market_with_Inertia.ipynb) now has a market model that reliably creates loads of 4y stock price histories\n",
    "- Generate zillions of 10y charts\n",
    "- create a trading_model.StockMarket instance from the above data to power up the RL environment\n",
    "\n",
    "#### 3) Feature Extraction and model\n",
    "- Extract various moving averages\n",
    "- Extract various downsamplings\n",
    "- Expand the convnet architecture to deal with more features\n",
    "- Have a larger and varying history input\n",
    "\n",
    "#### 3) Documentation\n",
    "- Really wanna do a paper? As long as I don't get into believing it's a real paper, ...ok."
   ]
  },
  {
   "cell_type": "markdown",
   "metadata": {},
   "source": []
  }
 ],
 "metadata": {
  "kernelspec": {
   "display_name": "Python 3",
   "language": "python",
   "name": "python3"
  },
  "language_info": {
   "codemirror_mode": {
    "name": "ipython",
    "version": 3
   },
   "file_extension": ".py",
   "mimetype": "text/x-python",
   "name": "python",
   "nbconvert_exporter": "python",
   "pygments_lexer": "ipython3",
   "version": "3.6.8"
  }
 },
 "nbformat": 4,
 "nbformat_minor": 4
}
