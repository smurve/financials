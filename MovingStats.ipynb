{
 "cells": [
  {
   "cell_type": "markdown",
   "metadata": {},
   "source": [
    "The N-sample moving average beginning with index $k$ is defined by\n",
    "\n",
    "$$\n",
    "\\bar{x}_k = \\frac{1}{N}\\sum_{i=k}^{k+N}x_i\n",
    "$$\n",
    "It's obviously that \n",
    "$$\n",
    "\\bar{x}_{k+1} = \\bar{x}_k + \\frac{1}{N}\\cdot(x_{k+N+1} - x_k)\n",
    "$$\n",
    "\n",
    "That means that we can calculate $x_{k+1}$ easily and efficiently from $x_k$."
   ]
  },
  {
   "cell_type": "markdown",
   "metadata": {},
   "source": [
    "But what about the standard deviation?\n",
    "\n",
    "$$\n",
    "\\sigma_k = \\sqrt{\\frac{1}{N}}\\sqrt{\\sum_{i=k}^{k+N}(x_i - \\bar{x}_k)^2}\n",
    "$$"
   ]
  },
  {
   "cell_type": "markdown",
   "metadata": {},
   "source": [
    "We can write the $(k+1)^\\text{th}$ standard deviation as \n",
    "\n",
    "$$\n",
    "\\sigma_{k+1} = \\sqrt{\\frac{1}{N}}\\sqrt{\\sum_{i=k+1}^{k+N+1}(x_i - (\\bar{x}_k+\\delta_k))^2}\n",
    "$$\n",
    "\n",
    "where\n",
    "\n",
    "$$\n",
    "\\delta_k = \\frac{1}{N}\\cdot(x_{k+N+1} - x_k)\n",
    "$$"
   ]
  },
  {
   "cell_type": "markdown",
   "metadata": {},
   "source": [
    "But what about the standard deviation?\n",
    "\n",
    "$$\n",
    "\\sigma_{k+1} = \\sqrt{\\frac{1}{N}}\\sqrt{\\sum_{i=k+1}^{k+N+1}(x_i - (\\bar{x}_k+\\delta_k))^2}\n",
    "$$\n",
    "\n"
   ]
  },
  {
   "cell_type": "markdown",
   "metadata": {},
   "source": [
    "Let's look at the inner sum:\n",
    "\n",
    "$$\n",
    "\\sum_{i=k+1}^{k+N+1}(x_i - (\\bar{x}_k+\\delta_k))^2 = \n",
    "$$\n",
    "\n",
    "$$\n",
    "\\sum_{i=k}^{k+N}(x_i - (\\bar{x}_k+\\delta_k))^2 +\n",
    "(x_{k+N+1}-(\\bar{x}_k+\\delta_k))^2 - (x_k-(\\bar{x}_k+\\delta_k))^2\n",
    "$$"
   ]
  },
  {
   "cell_type": "markdown",
   "metadata": {},
   "source": [
    "The leading sum of which is easily approximated:\n",
    "\n",
    "$$\n",
    "\\sum_{i=k}^{k+N}(x_i - (\\bar{x}_k+\\delta_k))^2 = \n",
    "$$\n",
    "\n",
    "$$\n",
    "\\sum_{i=k}^{k+N}( (x_i-\\bar{x}_k)^2 -2 \\delta_k (x_i-\\bar{x}_k) + \\delta_k^2 ) =\n",
    "$$"
   ]
  },
  {
   "cell_type": "markdown",
   "metadata": {},
   "source": [
    "$$\n",
    "\\sum_{i=k}^{k+N}(x_i-\\bar{x}_k)^2 -\n",
    "2 \\delta_k \\sum_{i=k}^{k+N}(x_i-\\bar{x}_k) +\n",
    "\\sum_{i=k}^{k+N}\\delta_k^2 =\n",
    "$$\n",
    "\n",
    "$$\n",
    "\\sum_{i=k}^{k+N}(x_i-\\bar{x}_k)^2 - 0 + \\mathcal{O}(\\delta_k^2) \\approx N\\sigma_k^2\n",
    "$$\n",
    "\n",
    "\n",
    "Because obviously in the second term - the sum of the differences from the mean - is zero.\n",
    "We can interpret this as: The standard deviation is insensitive against a small change in the mean.\n"
   ]
  },
  {
   "cell_type": "markdown",
   "metadata": {},
   "source": [
    "---\n",
    "#### Intermezzo: Verifying mean insensivity\n",
    "Changes in the *disturbed standard deviation*, compared to changes in the mean."
   ]
  },
  {
   "cell_type": "code",
   "execution_count": 52,
   "metadata": {},
   "outputs": [
    {
     "data": {
      "text/plain": [
       "(24, 1.6499158227686108, 2.3333333333333335)"
      ]
     },
     "execution_count": 52,
     "metadata": {},
     "output_type": "execute_result"
    }
   ],
   "source": [
    "series = np.array([1, 2, 3, 2, 1, 1, 5, 3, 2, 2, 1, 0, 2, 3, 5, 3, 1, 0, 2, 6, 4, 2, 5, 0])\n",
    "n, std, mean = len(series), np.std(series), np.mean(series)\n",
    "n, std, mean"
   ]
  },
  {
   "cell_type": "code",
   "execution_count": 64,
   "metadata": {},
   "outputs": [
    {
     "data": {
      "text/plain": [
       "[(0.0, 0.0),\n",
       " (0.04285714285714286, 0.001835050987813558),\n",
       " (0.08571428571428572, 0.00732014650309698),\n",
       " (0.12857142857142856, 0.016396194645471818)]"
      ]
     },
     "execution_count": 64,
     "metadata": {},
     "output_type": "execute_result"
    }
   ],
   "source": [
    "[(delta/mean, np.sqrt(np.sum((series-mean+delta)**2)/n)/std-1) for delta in [0, .1, .2, .3]]"
   ]
  },
  {
   "cell_type": "markdown",
   "metadata": {},
   "source": [
    "---"
   ]
  },
  {
   "cell_type": "markdown",
   "metadata": {},
   "source": [
    "That leaves us with the second and third term calling it $\\zeta_k$ (say: \"zeta kay\")\n",
    "\n",
    "$$\n",
    "\\zeta_k = (x_{k+N+1}-(\\bar{x}_k+\\delta_k))^2 - (x_k-(\\bar{x}_k+\\delta_k))^2 = \n",
    "$$"
   ]
  },
  {
   "cell_type": "markdown",
   "metadata": {},
   "source": [
    "$$\n",
    "x_{k+N+1}^2 - x_k^2 + 2(\\bar{x}_k+\\delta_k)(x_k-x_{k+N+1})\n",
    "$$"
   ]
  },
  {
   "cell_type": "markdown",
   "metadata": {},
   "source": [
    "$$\n",
    "x_{k+N+1}^2 - x_k^2 - 2N(\\bar{x}_k \\delta_k + \\delta_k^2)\n",
    "$$\n"
   ]
  },
  {
   "cell_type": "markdown",
   "metadata": {},
   "source": [
    "With that result we can write the inner sum of $\\sigma_{k+1}$ as\n",
    "\n",
    "$$\n",
    "\\sum_{i=k+1}^{k+N+1}(x_i - (\\bar{x}_k+\\delta_k))^2 \\approx N\\sigma_k^2 + \\zeta_k\n",
    "$$\n",
    "\n"
   ]
  },
  {
   "cell_type": "markdown",
   "metadata": {},
   "source": [
    "Now, the $(k+1)^\\text{th}$ moving standard deviation becomes:\n",
    "\n",
    "$$\n",
    "\\sigma_{k+1} \\approx \\sqrt{\\frac{1}{N}}\\sqrt{N\\sigma_k^2 + \\zeta_k} = \\sqrt{\\sigma_k^2 + \\frac{\\zeta_k}{N}}\n",
    "$$\n",
    "\n"
   ]
  },
  {
   "cell_type": "markdown",
   "metadata": {},
   "source": [
    "And using only the first term of the Taylor series in $\\zeta_k$ for the square root:\n",
    "\n",
    "$$\n",
    "\\sigma_{k+1} \\approx \\sigma_k + \\frac{\\zeta_k}{2N\\sigma_k}\n",
    "$$"
   ]
  },
  {
   "cell_type": "markdown",
   "metadata": {},
   "source": [
    "Time to verify the result!"
   ]
  },
  {
   "cell_type": "code",
   "execution_count": 169,
   "metadata": {},
   "outputs": [],
   "source": [
    "from collections import deque\n",
    "import numpy as np\n",
    "\n",
    "N=30\n",
    "q = deque([np.random.randint(6) for i in range(N)], maxlen=N)\n",
    "m_k, s_k = np.mean(q), np.std(q)"
   ]
  },
  {
   "cell_type": "code",
   "execution_count": 174,
   "metadata": {},
   "outputs": [
    {
     "data": {
      "text/plain": [
       "(4, 2)"
      ]
     },
     "execution_count": 174,
     "metadata": {},
     "output_type": "execute_result"
    }
   ],
   "source": [
    "x_kN1 = np.random.randint(6)\n",
    "x_k = q[0]\n",
    "x_k, x_kN1"
   ]
  },
  {
   "cell_type": "code",
   "execution_count": 193,
   "metadata": {},
   "outputs": [
    {
     "data": {
      "text/plain": [
       "(1.9666666666666666, 1.3120963682898343)"
      ]
     },
     "execution_count": 193,
     "metadata": {},
     "output_type": "execute_result"
    }
   ],
   "source": [
    "delta = (x_kN1-x_k)/N\n",
    "zeta_k = x_kN1**2 - x_k**2 - 2 * N * delta * (m_k + delta)\n",
    "s_k1 = s_k + zeta_k / ( 2 * N * sk )\n",
    "m_k1 = m_k + delta\n",
    "m_k1, s_k1"
   ]
  },
  {
   "cell_type": "code",
   "execution_count": 194,
   "metadata": {},
   "outputs": [
    {
     "name": "stdout",
     "output_type": "stream",
     "text": [
      "correct: m_k1=1.9333333333333333, s_k1=1.2364824660660938\n"
     ]
    }
   ],
   "source": [
    "q.append(x_kN1)\n",
    "m_k, s_k = np.mean(q), np.std(q)\n",
    "print(\"correct: m_k1=%s, s_k1=%s\" % (m_k, s_k))\n"
   ]
  },
  {
   "cell_type": "code",
   "execution_count": null,
   "metadata": {},
   "outputs": [],
   "source": []
  },
  {
   "cell_type": "code",
   "execution_count": null,
   "metadata": {},
   "outputs": [],
   "source": []
  },
  {
   "cell_type": "code",
   "execution_count": null,
   "metadata": {},
   "outputs": [],
   "source": []
  },
  {
   "cell_type": "code",
   "execution_count": null,
   "metadata": {},
   "outputs": [],
   "source": []
  }
 ],
 "metadata": {
  "kernelspec": {
   "display_name": "Python 3",
   "language": "python",
   "name": "python3"
  },
  "language_info": {
   "codemirror_mode": {
    "name": "ipython",
    "version": 3
   },
   "file_extension": ".py",
   "mimetype": "text/x-python",
   "name": "python",
   "nbconvert_exporter": "python",
   "pygments_lexer": "ipython3",
   "version": "3.6.8"
  }
 },
 "nbformat": 4,
 "nbformat_minor": 2
}
