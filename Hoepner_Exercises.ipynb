{
 "cells": [
  {
   "cell_type": "markdown",
   "metadata": {},
   "source": [
    "# The Hoepner Exercises\n",
    "#### My slight deviations from the exercises of Hoepner's excellent CFDS Course on AZEK"
   ]
  },
  {
   "cell_type": "code",
   "execution_count": 68,
   "metadata": {},
   "outputs": [],
   "source": [
    "from __future__ import division, print_function, absolute_import"
   ]
  },
  {
   "cell_type": "code",
   "execution_count": 69,
   "metadata": {},
   "outputs": [],
   "source": [
    "import quandl\n",
    "import pandas as pd\n",
    "import numpy as np\n",
    "import seaborn as sns\n",
    "import statsmodels.api as sm"
   ]
  },
  {
   "cell_type": "code",
   "execution_count": 70,
   "metadata": {},
   "outputs": [],
   "source": [
    "import os\n",
    "key = os.environ.get('QUANDL_KEY')"
   ]
  },
  {
   "cell_type": "code",
   "execution_count": 71,
   "metadata": {},
   "outputs": [
    {
     "data": {
      "text/html": [
       "<div>\n",
       "<style scoped>\n",
       "    .dataframe tbody tr th:only-of-type {\n",
       "        vertical-align: middle;\n",
       "    }\n",
       "\n",
       "    .dataframe tbody tr th {\n",
       "        vertical-align: top;\n",
       "    }\n",
       "\n",
       "    .dataframe thead th {\n",
       "        text-align: right;\n",
       "    }\n",
       "</style>\n",
       "<table border=\"1\" class=\"dataframe\">\n",
       "  <thead>\n",
       "    <tr style=\"text-align: right;\">\n",
       "      <th></th>\n",
       "      <th>WIKI/AAPL - Open</th>\n",
       "      <th>WIKI/AAPL - High</th>\n",
       "      <th>WIKI/AAPL - Low</th>\n",
       "      <th>WIKI/AAPL - Close</th>\n",
       "      <th>WIKI/AAPL - Volume</th>\n",
       "      <th>WIKI/AAPL - Ex-Dividend</th>\n",
       "      <th>WIKI/AAPL - Split Ratio</th>\n",
       "      <th>WIKI/AAPL - Adj. Open</th>\n",
       "      <th>WIKI/AAPL - Adj. High</th>\n",
       "      <th>WIKI/AAPL - Adj. Low</th>\n",
       "      <th>...</th>\n",
       "      <th>WIKI/NDAQ - Low</th>\n",
       "      <th>WIKI/NDAQ - Close</th>\n",
       "      <th>WIKI/NDAQ - Volume</th>\n",
       "      <th>WIKI/NDAQ - Ex-Dividend</th>\n",
       "      <th>WIKI/NDAQ - Split Ratio</th>\n",
       "      <th>WIKI/NDAQ - Adj. Open</th>\n",
       "      <th>WIKI/NDAQ - Adj. High</th>\n",
       "      <th>WIKI/NDAQ - Adj. Low</th>\n",
       "      <th>WIKI/NDAQ - Adj. Close</th>\n",
       "      <th>WIKI/NDAQ - Adj. Volume</th>\n",
       "    </tr>\n",
       "    <tr>\n",
       "      <th>Date</th>\n",
       "      <th></th>\n",
       "      <th></th>\n",
       "      <th></th>\n",
       "      <th></th>\n",
       "      <th></th>\n",
       "      <th></th>\n",
       "      <th></th>\n",
       "      <th></th>\n",
       "      <th></th>\n",
       "      <th></th>\n",
       "      <th></th>\n",
       "      <th></th>\n",
       "      <th></th>\n",
       "      <th></th>\n",
       "      <th></th>\n",
       "      <th></th>\n",
       "      <th></th>\n",
       "      <th></th>\n",
       "      <th></th>\n",
       "      <th></th>\n",
       "      <th></th>\n",
       "    </tr>\n",
       "  </thead>\n",
       "  <tbody>\n",
       "    <tr>\n",
       "      <th>2007-12-31</th>\n",
       "      <td>199.50</td>\n",
       "      <td>200.50</td>\n",
       "      <td>197.75</td>\n",
       "      <td>198.08</td>\n",
       "      <td>19261900.0</td>\n",
       "      <td>0.0</td>\n",
       "      <td>1.0</td>\n",
       "      <td>25.638531</td>\n",
       "      <td>25.767044</td>\n",
       "      <td>25.413631</td>\n",
       "      <td>...</td>\n",
       "      <td>49.26</td>\n",
       "      <td>49.49</td>\n",
       "      <td>1449800.0</td>\n",
       "      <td>0.0</td>\n",
       "      <td>1.0</td>\n",
       "      <td>44.879825</td>\n",
       "      <td>45.206553</td>\n",
       "      <td>44.707384</td>\n",
       "      <td>44.916128</td>\n",
       "      <td>1449800.0</td>\n",
       "    </tr>\n",
       "    <tr>\n",
       "      <th>2008-01-31</th>\n",
       "      <td>129.45</td>\n",
       "      <td>136.65</td>\n",
       "      <td>129.40</td>\n",
       "      <td>135.36</td>\n",
       "      <td>48059800.0</td>\n",
       "      <td>0.0</td>\n",
       "      <td>1.0</td>\n",
       "      <td>16.636129</td>\n",
       "      <td>17.561430</td>\n",
       "      <td>16.629704</td>\n",
       "      <td>...</td>\n",
       "      <td>41.45</td>\n",
       "      <td>46.27</td>\n",
       "      <td>3525200.0</td>\n",
       "      <td>0.0</td>\n",
       "      <td>1.0</td>\n",
       "      <td>38.118355</td>\n",
       "      <td>42.202464</td>\n",
       "      <td>37.619186</td>\n",
       "      <td>41.993721</td>\n",
       "      <td>3525200.0</td>\n",
       "    </tr>\n",
       "    <tr>\n",
       "      <th>2008-02-29</th>\n",
       "      <td>129.75</td>\n",
       "      <td>130.21</td>\n",
       "      <td>124.80</td>\n",
       "      <td>125.02</td>\n",
       "      <td>44838600.0</td>\n",
       "      <td>0.0</td>\n",
       "      <td>1.0</td>\n",
       "      <td>16.674683</td>\n",
       "      <td>16.733800</td>\n",
       "      <td>16.038539</td>\n",
       "      <td>...</td>\n",
       "      <td>40.75</td>\n",
       "      <td>41.51</td>\n",
       "      <td>5633800.0</td>\n",
       "      <td>0.0</td>\n",
       "      <td>1.0</td>\n",
       "      <td>38.653827</td>\n",
       "      <td>39.025934</td>\n",
       "      <td>36.983880</td>\n",
       "      <td>37.673640</td>\n",
       "      <td>5633800.0</td>\n",
       "    </tr>\n",
       "    <tr>\n",
       "      <th>2008-03-31</th>\n",
       "      <td>143.27</td>\n",
       "      <td>145.71</td>\n",
       "      <td>142.52</td>\n",
       "      <td>143.50</td>\n",
       "      <td>27430900.0</td>\n",
       "      <td>0.0</td>\n",
       "      <td>1.0</td>\n",
       "      <td>18.412192</td>\n",
       "      <td>18.725766</td>\n",
       "      <td>18.315806</td>\n",
       "      <td>...</td>\n",
       "      <td>38.08</td>\n",
       "      <td>38.66</td>\n",
       "      <td>2127500.0</td>\n",
       "      <td>0.0</td>\n",
       "      <td>1.0</td>\n",
       "      <td>35.096114</td>\n",
       "      <td>35.713268</td>\n",
       "      <td>34.560641</td>\n",
       "      <td>35.087038</td>\n",
       "      <td>2127500.0</td>\n",
       "    </tr>\n",
       "    <tr>\n",
       "      <th>2008-04-30</th>\n",
       "      <td>176.26</td>\n",
       "      <td>180.00</td>\n",
       "      <td>172.92</td>\n",
       "      <td>173.95</td>\n",
       "      <td>40697300.0</td>\n",
       "      <td>0.0</td>\n",
       "      <td>1.0</td>\n",
       "      <td>22.651867</td>\n",
       "      <td>23.132509</td>\n",
       "      <td>22.222630</td>\n",
       "      <td>...</td>\n",
       "      <td>36.20</td>\n",
       "      <td>36.45</td>\n",
       "      <td>2941500.0</td>\n",
       "      <td>0.0</td>\n",
       "      <td>1.0</td>\n",
       "      <td>34.678627</td>\n",
       "      <td>34.678627</td>\n",
       "      <td>32.854391</td>\n",
       "      <td>33.081286</td>\n",
       "      <td>2941500.0</td>\n",
       "    </tr>\n",
       "  </tbody>\n",
       "</table>\n",
       "<p>5 rows × 24 columns</p>\n",
       "</div>"
      ],
      "text/plain": [
       "            WIKI/AAPL - Open  WIKI/AAPL - High  WIKI/AAPL - Low  \\\n",
       "Date                                                              \n",
       "2007-12-31            199.50            200.50           197.75   \n",
       "2008-01-31            129.45            136.65           129.40   \n",
       "2008-02-29            129.75            130.21           124.80   \n",
       "2008-03-31            143.27            145.71           142.52   \n",
       "2008-04-30            176.26            180.00           172.92   \n",
       "\n",
       "            WIKI/AAPL - Close  WIKI/AAPL - Volume  WIKI/AAPL - Ex-Dividend  \\\n",
       "Date                                                                         \n",
       "2007-12-31             198.08          19261900.0                      0.0   \n",
       "2008-01-31             135.36          48059800.0                      0.0   \n",
       "2008-02-29             125.02          44838600.0                      0.0   \n",
       "2008-03-31             143.50          27430900.0                      0.0   \n",
       "2008-04-30             173.95          40697300.0                      0.0   \n",
       "\n",
       "            WIKI/AAPL - Split Ratio  WIKI/AAPL - Adj. Open  \\\n",
       "Date                                                         \n",
       "2007-12-31                      1.0              25.638531   \n",
       "2008-01-31                      1.0              16.636129   \n",
       "2008-02-29                      1.0              16.674683   \n",
       "2008-03-31                      1.0              18.412192   \n",
       "2008-04-30                      1.0              22.651867   \n",
       "\n",
       "            WIKI/AAPL - Adj. High  WIKI/AAPL - Adj. Low  ...  WIKI/NDAQ - Low  \\\n",
       "Date                                                     ...                    \n",
       "2007-12-31              25.767044             25.413631  ...            49.26   \n",
       "2008-01-31              17.561430             16.629704  ...            41.45   \n",
       "2008-02-29              16.733800             16.038539  ...            40.75   \n",
       "2008-03-31              18.725766             18.315806  ...            38.08   \n",
       "2008-04-30              23.132509             22.222630  ...            36.20   \n",
       "\n",
       "            WIKI/NDAQ - Close  WIKI/NDAQ - Volume  WIKI/NDAQ - Ex-Dividend  \\\n",
       "Date                                                                         \n",
       "2007-12-31              49.49           1449800.0                      0.0   \n",
       "2008-01-31              46.27           3525200.0                      0.0   \n",
       "2008-02-29              41.51           5633800.0                      0.0   \n",
       "2008-03-31              38.66           2127500.0                      0.0   \n",
       "2008-04-30              36.45           2941500.0                      0.0   \n",
       "\n",
       "            WIKI/NDAQ - Split Ratio  WIKI/NDAQ - Adj. Open  \\\n",
       "Date                                                         \n",
       "2007-12-31                      1.0              44.879825   \n",
       "2008-01-31                      1.0              38.118355   \n",
       "2008-02-29                      1.0              38.653827   \n",
       "2008-03-31                      1.0              35.096114   \n",
       "2008-04-30                      1.0              34.678627   \n",
       "\n",
       "            WIKI/NDAQ - Adj. High  WIKI/NDAQ - Adj. Low  \\\n",
       "Date                                                      \n",
       "2007-12-31              45.206553             44.707384   \n",
       "2008-01-31              42.202464             37.619186   \n",
       "2008-02-29              39.025934             36.983880   \n",
       "2008-03-31              35.713268             34.560641   \n",
       "2008-04-30              34.678627             32.854391   \n",
       "\n",
       "            WIKI/NDAQ - Adj. Close  WIKI/NDAQ - Adj. Volume  \n",
       "Date                                                         \n",
       "2007-12-31               44.916128                1449800.0  \n",
       "2008-01-31               41.993721                3525200.0  \n",
       "2008-02-29               37.673640                5633800.0  \n",
       "2008-03-31               35.087038                2127500.0  \n",
       "2008-04-30               33.081286                2941500.0  \n",
       "\n",
       "[5 rows x 24 columns]"
      ]
     },
     "execution_count": 71,
     "metadata": {},
     "output_type": "execute_result"
    }
   ],
   "source": [
    "quandl.ApiConfig.api_key = key\n",
    "frequency='monthly'\n",
    "start='2007-12-31'\n",
    "end = '2017-05-31'\n",
    "data = quandl.get(['WIKI/AAPL', 'WIKI/NDAQ'], collapse=frequency, trim_start=start, trim_end=end)\n",
    "data.head()"
   ]
  },
  {
   "cell_type": "code",
   "execution_count": 72,
   "metadata": {},
   "outputs": [
    {
     "data": {
      "text/html": [
       "<div>\n",
       "<style scoped>\n",
       "    .dataframe tbody tr th:only-of-type {\n",
       "        vertical-align: middle;\n",
       "    }\n",
       "\n",
       "    .dataframe tbody tr th {\n",
       "        vertical-align: top;\n",
       "    }\n",
       "\n",
       "    .dataframe thead th {\n",
       "        text-align: right;\n",
       "    }\n",
       "</style>\n",
       "<table border=\"1\" class=\"dataframe\">\n",
       "  <thead>\n",
       "    <tr style=\"text-align: right;\">\n",
       "      <th></th>\n",
       "      <th>WIKI/AAPL - Open</th>\n",
       "      <th>WIKI/AAPL - High</th>\n",
       "      <th>WIKI/AAPL - Low</th>\n",
       "      <th>WIKI/AAPL - Close</th>\n",
       "      <th>WIKI/AAPL - Volume</th>\n",
       "      <th>WIKI/AAPL - Ex-Dividend</th>\n",
       "      <th>WIKI/AAPL - Split Ratio</th>\n",
       "      <th>WIKI/AAPL - Adj. Open</th>\n",
       "      <th>WIKI/AAPL - Adj. High</th>\n",
       "      <th>WIKI/AAPL - Adj. Low</th>\n",
       "      <th>...</th>\n",
       "      <th>WIKI/NDAQ - Low</th>\n",
       "      <th>WIKI/NDAQ - Close</th>\n",
       "      <th>WIKI/NDAQ - Volume</th>\n",
       "      <th>WIKI/NDAQ - Ex-Dividend</th>\n",
       "      <th>WIKI/NDAQ - Split Ratio</th>\n",
       "      <th>WIKI/NDAQ - Adj. Open</th>\n",
       "      <th>WIKI/NDAQ - Adj. High</th>\n",
       "      <th>WIKI/NDAQ - Adj. Low</th>\n",
       "      <th>WIKI/NDAQ - Adj. Close</th>\n",
       "      <th>WIKI/NDAQ - Adj. Volume</th>\n",
       "    </tr>\n",
       "  </thead>\n",
       "  <tbody>\n",
       "    <tr>\n",
       "      <th>count</th>\n",
       "      <td>114.000000</td>\n",
       "      <td>114.000000</td>\n",
       "      <td>114.000000</td>\n",
       "      <td>114.000000</td>\n",
       "      <td>1.140000e+02</td>\n",
       "      <td>114.0</td>\n",
       "      <td>114.0</td>\n",
       "      <td>114.000000</td>\n",
       "      <td>114.000000</td>\n",
       "      <td>114.000000</td>\n",
       "      <td>...</td>\n",
       "      <td>114.000000</td>\n",
       "      <td>114.000000</td>\n",
       "      <td>1.140000e+02</td>\n",
       "      <td>114.0</td>\n",
       "      <td>114.0</td>\n",
       "      <td>114.000000</td>\n",
       "      <td>114.000000</td>\n",
       "      <td>114.000000</td>\n",
       "      <td>114.000000</td>\n",
       "      <td>1.140000e+02</td>\n",
       "    </tr>\n",
       "    <tr>\n",
       "      <th>mean</th>\n",
       "      <td>270.682761</td>\n",
       "      <td>273.196666</td>\n",
       "      <td>267.916329</td>\n",
       "      <td>270.178670</td>\n",
       "      <td>2.729450e+07</td>\n",
       "      <td>0.0</td>\n",
       "      <td>1.0</td>\n",
       "      <td>65.539889</td>\n",
       "      <td>66.048393</td>\n",
       "      <td>64.913010</td>\n",
       "      <td>...</td>\n",
       "      <td>36.114600</td>\n",
       "      <td>36.548947</td>\n",
       "      <td>1.951090e+06</td>\n",
       "      <td>0.0</td>\n",
       "      <td>1.0</td>\n",
       "      <td>34.403284</td>\n",
       "      <td>34.798806</td>\n",
       "      <td>34.007861</td>\n",
       "      <td>34.413595</td>\n",
       "      <td>1.951090e+06</td>\n",
       "    </tr>\n",
       "    <tr>\n",
       "      <th>std</th>\n",
       "      <td>178.558093</td>\n",
       "      <td>180.102301</td>\n",
       "      <td>176.910085</td>\n",
       "      <td>178.507795</td>\n",
       "      <td>1.687421e+07</td>\n",
       "      <td>0.0</td>\n",
       "      <td>0.0</td>\n",
       "      <td>37.432821</td>\n",
       "      <td>37.561552</td>\n",
       "      <td>37.134394</td>\n",
       "      <td>...</td>\n",
       "      <td>16.280077</td>\n",
       "      <td>16.415478</td>\n",
       "      <td>1.158745e+06</td>\n",
       "      <td>0.0</td>\n",
       "      <td>0.0</td>\n",
       "      <td>16.500981</td>\n",
       "      <td>16.601361</td>\n",
       "      <td>16.421684</td>\n",
       "      <td>16.556152</td>\n",
       "      <td>1.158745e+06</td>\n",
       "    </tr>\n",
       "    <tr>\n",
       "      <th>min</th>\n",
       "      <td>85.970000</td>\n",
       "      <td>87.740000</td>\n",
       "      <td>85.340000</td>\n",
       "      <td>85.350000</td>\n",
       "      <td>6.023900e+06</td>\n",
       "      <td>0.0</td>\n",
       "      <td>1.0</td>\n",
       "      <td>11.048343</td>\n",
       "      <td>11.275813</td>\n",
       "      <td>10.967379</td>\n",
       "      <td>...</td>\n",
       "      <td>17.770000</td>\n",
       "      <td>17.780000</td>\n",
       "      <td>2.358000e+05</td>\n",
       "      <td>0.0</td>\n",
       "      <td>1.0</td>\n",
       "      <td>16.336438</td>\n",
       "      <td>16.409044</td>\n",
       "      <td>16.127694</td>\n",
       "      <td>16.136770</td>\n",
       "      <td>2.358000e+05</td>\n",
       "    </tr>\n",
       "    <tr>\n",
       "      <th>25%</th>\n",
       "      <td>118.092500</td>\n",
       "      <td>119.402500</td>\n",
       "      <td>117.075000</td>\n",
       "      <td>117.445000</td>\n",
       "      <td>1.511132e+07</td>\n",
       "      <td>0.0</td>\n",
       "      <td>1.0</td>\n",
       "      <td>31.532260</td>\n",
       "      <td>31.860212</td>\n",
       "      <td>31.198686</td>\n",
       "      <td>...</td>\n",
       "      <td>23.110000</td>\n",
       "      <td>23.177500</td>\n",
       "      <td>1.123913e+06</td>\n",
       "      <td>0.0</td>\n",
       "      <td>1.0</td>\n",
       "      <td>21.366382</td>\n",
       "      <td>21.529992</td>\n",
       "      <td>21.046777</td>\n",
       "      <td>21.096667</td>\n",
       "      <td>1.123913e+06</td>\n",
       "    </tr>\n",
       "    <tr>\n",
       "      <th>50%</th>\n",
       "      <td>191.778000</td>\n",
       "      <td>193.170000</td>\n",
       "      <td>186.723350</td>\n",
       "      <td>188.625000</td>\n",
       "      <td>2.155055e+07</td>\n",
       "      <td>0.0</td>\n",
       "      <td>1.0</td>\n",
       "      <td>61.399595</td>\n",
       "      <td>61.845402</td>\n",
       "      <td>60.851646</td>\n",
       "      <td>...</td>\n",
       "      <td>30.915000</td>\n",
       "      <td>31.560000</td>\n",
       "      <td>1.659300e+06</td>\n",
       "      <td>0.0</td>\n",
       "      <td>1.0</td>\n",
       "      <td>28.750954</td>\n",
       "      <td>29.588110</td>\n",
       "      <td>28.420195</td>\n",
       "      <td>29.188881</td>\n",
       "      <td>1.659300e+06</td>\n",
       "    </tr>\n",
       "    <tr>\n",
       "      <th>75%</th>\n",
       "      <td>403.237500</td>\n",
       "      <td>408.567500</td>\n",
       "      <td>402.880000</td>\n",
       "      <td>404.945000</td>\n",
       "      <td>3.632489e+07</td>\n",
       "      <td>0.0</td>\n",
       "      <td>1.0</td>\n",
       "      <td>96.811955</td>\n",
       "      <td>97.012962</td>\n",
       "      <td>96.204859</td>\n",
       "      <td>...</td>\n",
       "      <td>48.332500</td>\n",
       "      <td>48.462500</td>\n",
       "      <td>2.532175e+06</td>\n",
       "      <td>0.0</td>\n",
       "      <td>1.0</td>\n",
       "      <td>46.082361</td>\n",
       "      <td>46.164043</td>\n",
       "      <td>45.375952</td>\n",
       "      <td>45.435271</td>\n",
       "      <td>2.532175e+06</td>\n",
       "    </tr>\n",
       "    <tr>\n",
       "      <th>max</th>\n",
       "      <td>678.750000</td>\n",
       "      <td>681.110000</td>\n",
       "      <td>666.750000</td>\n",
       "      <td>667.105000</td>\n",
       "      <td>8.374546e+07</td>\n",
       "      <td>0.0</td>\n",
       "      <td>1.0</td>\n",
       "      <td>153.347799</td>\n",
       "      <td>153.546991</td>\n",
       "      <td>151.764225</td>\n",
       "      <td>...</td>\n",
       "      <td>71.050000</td>\n",
       "      <td>71.210000</td>\n",
       "      <td>7.057200e+06</td>\n",
       "      <td>0.0</td>\n",
       "      <td>1.0</td>\n",
       "      <td>70.126121</td>\n",
       "      <td>70.278826</td>\n",
       "      <td>69.643376</td>\n",
       "      <td>70.057157</td>\n",
       "      <td>7.057200e+06</td>\n",
       "    </tr>\n",
       "  </tbody>\n",
       "</table>\n",
       "<p>8 rows × 24 columns</p>\n",
       "</div>"
      ],
      "text/plain": [
       "       WIKI/AAPL - Open  WIKI/AAPL - High  WIKI/AAPL - Low  WIKI/AAPL - Close  \\\n",
       "count        114.000000        114.000000       114.000000         114.000000   \n",
       "mean         270.682761        273.196666       267.916329         270.178670   \n",
       "std          178.558093        180.102301       176.910085         178.507795   \n",
       "min           85.970000         87.740000        85.340000          85.350000   \n",
       "25%          118.092500        119.402500       117.075000         117.445000   \n",
       "50%          191.778000        193.170000       186.723350         188.625000   \n",
       "75%          403.237500        408.567500       402.880000         404.945000   \n",
       "max          678.750000        681.110000       666.750000         667.105000   \n",
       "\n",
       "       WIKI/AAPL - Volume  WIKI/AAPL - Ex-Dividend  WIKI/AAPL - Split Ratio  \\\n",
       "count        1.140000e+02                    114.0                    114.0   \n",
       "mean         2.729450e+07                      0.0                      1.0   \n",
       "std          1.687421e+07                      0.0                      0.0   \n",
       "min          6.023900e+06                      0.0                      1.0   \n",
       "25%          1.511132e+07                      0.0                      1.0   \n",
       "50%          2.155055e+07                      0.0                      1.0   \n",
       "75%          3.632489e+07                      0.0                      1.0   \n",
       "max          8.374546e+07                      0.0                      1.0   \n",
       "\n",
       "       WIKI/AAPL - Adj. Open  WIKI/AAPL - Adj. High  WIKI/AAPL - Adj. Low  \\\n",
       "count             114.000000             114.000000            114.000000   \n",
       "mean               65.539889              66.048393             64.913010   \n",
       "std                37.432821              37.561552             37.134394   \n",
       "min                11.048343              11.275813             10.967379   \n",
       "25%                31.532260              31.860212             31.198686   \n",
       "50%                61.399595              61.845402             60.851646   \n",
       "75%                96.811955              97.012962             96.204859   \n",
       "max               153.347799             153.546991            151.764225   \n",
       "\n",
       "       ...  WIKI/NDAQ - Low  WIKI/NDAQ - Close  WIKI/NDAQ - Volume  \\\n",
       "count  ...       114.000000         114.000000        1.140000e+02   \n",
       "mean   ...        36.114600          36.548947        1.951090e+06   \n",
       "std    ...        16.280077          16.415478        1.158745e+06   \n",
       "min    ...        17.770000          17.780000        2.358000e+05   \n",
       "25%    ...        23.110000          23.177500        1.123913e+06   \n",
       "50%    ...        30.915000          31.560000        1.659300e+06   \n",
       "75%    ...        48.332500          48.462500        2.532175e+06   \n",
       "max    ...        71.050000          71.210000        7.057200e+06   \n",
       "\n",
       "       WIKI/NDAQ - Ex-Dividend  WIKI/NDAQ - Split Ratio  \\\n",
       "count                    114.0                    114.0   \n",
       "mean                       0.0                      1.0   \n",
       "std                        0.0                      0.0   \n",
       "min                        0.0                      1.0   \n",
       "25%                        0.0                      1.0   \n",
       "50%                        0.0                      1.0   \n",
       "75%                        0.0                      1.0   \n",
       "max                        0.0                      1.0   \n",
       "\n",
       "       WIKI/NDAQ - Adj. Open  WIKI/NDAQ - Adj. High  WIKI/NDAQ - Adj. Low  \\\n",
       "count             114.000000             114.000000            114.000000   \n",
       "mean               34.403284              34.798806             34.007861   \n",
       "std                16.500981              16.601361             16.421684   \n",
       "min                16.336438              16.409044             16.127694   \n",
       "25%                21.366382              21.529992             21.046777   \n",
       "50%                28.750954              29.588110             28.420195   \n",
       "75%                46.082361              46.164043             45.375952   \n",
       "max                70.126121              70.278826             69.643376   \n",
       "\n",
       "       WIKI/NDAQ - Adj. Close  WIKI/NDAQ - Adj. Volume  \n",
       "count              114.000000             1.140000e+02  \n",
       "mean                34.413595             1.951090e+06  \n",
       "std                 16.556152             1.158745e+06  \n",
       "min                 16.136770             2.358000e+05  \n",
       "25%                 21.096667             1.123913e+06  \n",
       "50%                 29.188881             1.659300e+06  \n",
       "75%                 45.435271             2.532175e+06  \n",
       "max                 70.057157             7.057200e+06  \n",
       "\n",
       "[8 rows x 24 columns]"
      ]
     },
     "execution_count": 72,
     "metadata": {},
     "output_type": "execute_result"
    }
   ],
   "source": [
    "data.describe()"
   ]
  },
  {
   "cell_type": "code",
   "execution_count": 73,
   "metadata": {},
   "outputs": [
    {
     "data": {
      "text/html": [
       "<div>\n",
       "<style scoped>\n",
       "    .dataframe tbody tr th:only-of-type {\n",
       "        vertical-align: middle;\n",
       "    }\n",
       "\n",
       "    .dataframe tbody tr th {\n",
       "        vertical-align: top;\n",
       "    }\n",
       "\n",
       "    .dataframe thead th {\n",
       "        text-align: right;\n",
       "    }\n",
       "</style>\n",
       "<table border=\"1\" class=\"dataframe\">\n",
       "  <thead>\n",
       "    <tr style=\"text-align: right;\">\n",
       "      <th></th>\n",
       "      <th>WIKI/AAPL - Adj. Close</th>\n",
       "      <th>WIKI/NDAQ - Adj. Close</th>\n",
       "    </tr>\n",
       "    <tr>\n",
       "      <th>Date</th>\n",
       "      <th></th>\n",
       "      <th></th>\n",
       "    </tr>\n",
       "  </thead>\n",
       "  <tbody>\n",
       "    <tr>\n",
       "      <th>2007-12-31</th>\n",
       "      <td>25.456041</td>\n",
       "      <td>44.916128</td>\n",
       "    </tr>\n",
       "    <tr>\n",
       "      <th>2008-01-31</th>\n",
       "      <td>17.395647</td>\n",
       "      <td>41.993721</td>\n",
       "    </tr>\n",
       "    <tr>\n",
       "      <th>2008-02-29</th>\n",
       "      <td>16.066812</td>\n",
       "      <td>37.673640</td>\n",
       "    </tr>\n",
       "    <tr>\n",
       "      <th>2008-03-31</th>\n",
       "      <td>18.441750</td>\n",
       "      <td>35.087038</td>\n",
       "    </tr>\n",
       "    <tr>\n",
       "      <th>2008-04-30</th>\n",
       "      <td>22.354999</td>\n",
       "      <td>33.081286</td>\n",
       "    </tr>\n",
       "  </tbody>\n",
       "</table>\n",
       "</div>"
      ],
      "text/plain": [
       "            WIKI/AAPL - Adj. Close  WIKI/NDAQ - Adj. Close\n",
       "Date                                                      \n",
       "2007-12-31               25.456041               44.916128\n",
       "2008-01-31               17.395647               41.993721\n",
       "2008-02-29               16.066812               37.673640\n",
       "2008-03-31               18.441750               35.087038\n",
       "2008-04-30               22.354999               33.081286"
      ]
     },
     "execution_count": 73,
     "metadata": {},
     "output_type": "execute_result"
    }
   ],
   "source": [
    "data = data[['WIKI/AAPL - Adj. Close', 'WIKI/NDAQ - Adj. Close']]\n",
    "data.head()"
   ]
  },
  {
   "cell_type": "code",
   "execution_count": 74,
   "metadata": {},
   "outputs": [
    {
     "data": {
      "text/html": [
       "<div>\n",
       "<style scoped>\n",
       "    .dataframe tbody tr th:only-of-type {\n",
       "        vertical-align: middle;\n",
       "    }\n",
       "\n",
       "    .dataframe tbody tr th {\n",
       "        vertical-align: top;\n",
       "    }\n",
       "\n",
       "    .dataframe thead th {\n",
       "        text-align: right;\n",
       "    }\n",
       "</style>\n",
       "<table border=\"1\" class=\"dataframe\">\n",
       "  <thead>\n",
       "    <tr style=\"text-align: right;\">\n",
       "      <th></th>\n",
       "      <th>WIKI/AAPL - Adj. Close</th>\n",
       "      <th>WIKI/NDAQ - Adj. Close</th>\n",
       "    </tr>\n",
       "    <tr>\n",
       "      <th>Date</th>\n",
       "      <th></th>\n",
       "      <th></th>\n",
       "    </tr>\n",
       "  </thead>\n",
       "  <tbody>\n",
       "    <tr>\n",
       "      <th>2007-12-31</th>\n",
       "      <td>NaN</td>\n",
       "      <td>NaN</td>\n",
       "    </tr>\n",
       "    <tr>\n",
       "      <th>2008-01-31</th>\n",
       "      <td>-0.380733</td>\n",
       "      <td>-0.067277</td>\n",
       "    </tr>\n",
       "    <tr>\n",
       "      <th>2008-02-29</th>\n",
       "      <td>-0.079464</td>\n",
       "      <td>-0.108559</td>\n",
       "    </tr>\n",
       "    <tr>\n",
       "      <th>2008-03-31</th>\n",
       "      <td>0.137861</td>\n",
       "      <td>-0.071129</td>\n",
       "    </tr>\n",
       "    <tr>\n",
       "      <th>2008-04-30</th>\n",
       "      <td>0.192433</td>\n",
       "      <td>-0.058864</td>\n",
       "    </tr>\n",
       "  </tbody>\n",
       "</table>\n",
       "</div>"
      ],
      "text/plain": [
       "            WIKI/AAPL - Adj. Close  WIKI/NDAQ - Adj. Close\n",
       "Date                                                      \n",
       "2007-12-31                     NaN                     NaN\n",
       "2008-01-31               -0.380733               -0.067277\n",
       "2008-02-29               -0.079464               -0.108559\n",
       "2008-03-31                0.137861               -0.071129\n",
       "2008-04-30                0.192433               -0.058864"
      ]
     },
     "execution_count": 74,
     "metadata": {},
     "output_type": "execute_result"
    }
   ],
   "source": [
    "np.log(data/data.shift(1)).head()"
   ]
  },
  {
   "cell_type": "code",
   "execution_count": 75,
   "metadata": {},
   "outputs": [],
   "source": [
    "data.rename(columns={'WIKI/AAPL - Adj. Close': 'Apple', 'WIKI/NDAQ - Adj. Close': 'Nasdaq'}, inplace=True)"
   ]
  },
  {
   "cell_type": "code",
   "execution_count": 76,
   "metadata": {},
   "outputs": [
    {
     "data": {
      "text/html": [
       "<div>\n",
       "<style scoped>\n",
       "    .dataframe tbody tr th:only-of-type {\n",
       "        vertical-align: middle;\n",
       "    }\n",
       "\n",
       "    .dataframe tbody tr th {\n",
       "        vertical-align: top;\n",
       "    }\n",
       "\n",
       "    .dataframe thead th {\n",
       "        text-align: right;\n",
       "    }\n",
       "</style>\n",
       "<table border=\"1\" class=\"dataframe\">\n",
       "  <thead>\n",
       "    <tr style=\"text-align: right;\">\n",
       "      <th></th>\n",
       "      <th>Apple</th>\n",
       "      <th>Nasdaq</th>\n",
       "    </tr>\n",
       "    <tr>\n",
       "      <th>Date</th>\n",
       "      <th></th>\n",
       "      <th></th>\n",
       "    </tr>\n",
       "  </thead>\n",
       "  <tbody>\n",
       "    <tr>\n",
       "      <th>2007-12-31</th>\n",
       "      <td>NaN</td>\n",
       "      <td>NaN</td>\n",
       "    </tr>\n",
       "    <tr>\n",
       "      <th>2008-01-31</th>\n",
       "      <td>-0.380733</td>\n",
       "      <td>-0.067277</td>\n",
       "    </tr>\n",
       "    <tr>\n",
       "      <th>2008-02-29</th>\n",
       "      <td>-0.079464</td>\n",
       "      <td>-0.108559</td>\n",
       "    </tr>\n",
       "    <tr>\n",
       "      <th>2008-03-31</th>\n",
       "      <td>0.137861</td>\n",
       "      <td>-0.071129</td>\n",
       "    </tr>\n",
       "    <tr>\n",
       "      <th>2008-04-30</th>\n",
       "      <td>0.192433</td>\n",
       "      <td>-0.058864</td>\n",
       "    </tr>\n",
       "  </tbody>\n",
       "</table>\n",
       "</div>"
      ],
      "text/plain": [
       "               Apple    Nasdaq\n",
       "Date                          \n",
       "2007-12-31       NaN       NaN\n",
       "2008-01-31 -0.380733 -0.067277\n",
       "2008-02-29 -0.079464 -0.108559\n",
       "2008-03-31  0.137861 -0.071129\n",
       "2008-04-30  0.192433 -0.058864"
      ]
     },
     "execution_count": 76,
     "metadata": {},
     "output_type": "execute_result"
    }
   ],
   "source": [
    "data_log = np.log(data/data.shift(1))\n",
    "data_log.head()"
   ]
  },
  {
   "cell_type": "code",
   "execution_count": 77,
   "metadata": {},
   "outputs": [
    {
     "name": "stdout",
     "output_type": "stream",
     "text": [
      "                            OLS Regression Results                            \n",
      "==============================================================================\n",
      "Dep. Variable:                  Apple   R-squared:                       0.061\n",
      "Model:                            OLS   Adj. R-squared:                  0.053\n",
      "Method:                 Least Squares   F-statistic:                     7.302\n",
      "Date:                Tue, 16 Apr 2019   Prob (F-statistic):            0.00796\n",
      "Time:                        23:04:39   Log-Likelihood:                 109.91\n",
      "No. Observations:                 113   AIC:                            -217.8\n",
      "Df Residuals:                     112   BIC:                            -215.1\n",
      "Df Model:                           1                                         \n",
      "Covariance Type:            nonrobust                                         \n",
      "==============================================================================\n",
      "                 coef    std err          t      P>|t|      [0.025      0.975]\n",
      "------------------------------------------------------------------------------\n",
      "Nasdaq         0.2923      0.108      2.702      0.008       0.078       0.507\n",
      "==============================================================================\n",
      "Omnibus:                       40.482   Durbin-Watson:                   1.395\n",
      "Prob(Omnibus):                  0.000   Jarque-Bera (JB):              119.465\n",
      "Skew:                          -1.274   Prob(JB):                     1.14e-26\n",
      "Kurtosis:                       7.345   Cond. No.                         1.00\n",
      "==============================================================================\n",
      "\n",
      "Warnings:\n",
      "[1] Standard Errors assume that the covariance matrix of the errors is correctly specified.\n"
     ]
    }
   ],
   "source": [
    "model = sm.OLS(data_log['Apple'], data_log['Nasdaq'], missing='drop')\n",
    "results = model.fit()\n",
    "print(results.summary())"
   ]
  },
  {
   "cell_type": "markdown",
   "metadata": {},
   "source": [
    "### Plotting Nasdaq vs Apple\n",
    "The $R^2$ value makes sense. We wouldn't expect the regression model to be overly explanatory looking at the below plot."
   ]
  },
  {
   "cell_type": "code",
   "execution_count": 78,
   "metadata": {},
   "outputs": [
    {
     "data": {
      "image/png": "[encoded data removed]",
      "text/plain": [
       "<Figure size 432x288 with 1 Axes>"
      ]
     },
     "metadata": {
      "needs_background": "light"
     },
     "output_type": "display_data"
    }
   ],
   "source": [
    "data_log.plot(y='Apple', x='Nasdaq', style='.');"
   ]
  },
  {
   "cell_type": "markdown",
   "metadata": {},
   "source": [
    "# Project 2"
   ]
  },
  {
   "cell_type": "code",
   "execution_count": 79,
   "metadata": {},
   "outputs": [
    {
     "data": {
      "text/html": [
       "<div>\n",
       "<style scoped>\n",
       "    .dataframe tbody tr th:only-of-type {\n",
       "        vertical-align: middle;\n",
       "    }\n",
       "\n",
       "    .dataframe tbody tr th {\n",
       "        vertical-align: top;\n",
       "    }\n",
       "\n",
       "    .dataframe thead th {\n",
       "        text-align: right;\n",
       "    }\n",
       "</style>\n",
       "<table border=\"1\" class=\"dataframe\">\n",
       "  <thead>\n",
       "    <tr style=\"text-align: right;\">\n",
       "      <th></th>\n",
       "      <th>Apple</th>\n",
       "      <th>Nasdaq</th>\n",
       "    </tr>\n",
       "    <tr>\n",
       "      <th>Date</th>\n",
       "      <th></th>\n",
       "      <th></th>\n",
       "    </tr>\n",
       "  </thead>\n",
       "  <tbody>\n",
       "    <tr>\n",
       "      <th>2007-12-31</th>\n",
       "      <td>25.456041</td>\n",
       "      <td>44.916128</td>\n",
       "    </tr>\n",
       "    <tr>\n",
       "      <th>2008-01-31</th>\n",
       "      <td>17.395647</td>\n",
       "      <td>41.993721</td>\n",
       "    </tr>\n",
       "    <tr>\n",
       "      <th>2008-02-29</th>\n",
       "      <td>16.066812</td>\n",
       "      <td>37.673640</td>\n",
       "    </tr>\n",
       "    <tr>\n",
       "      <th>2008-03-31</th>\n",
       "      <td>18.441750</td>\n",
       "      <td>35.087038</td>\n",
       "    </tr>\n",
       "    <tr>\n",
       "      <th>2008-04-30</th>\n",
       "      <td>22.354999</td>\n",
       "      <td>33.081286</td>\n",
       "    </tr>\n",
       "  </tbody>\n",
       "</table>\n",
       "</div>"
      ],
      "text/plain": [
       "                Apple     Nasdaq\n",
       "Date                            \n",
       "2007-12-31  25.456041  44.916128\n",
       "2008-01-31  17.395647  41.993721\n",
       "2008-02-29  16.066812  37.673640\n",
       "2008-03-31  18.441750  35.087038\n",
       "2008-04-30  22.354999  33.081286"
      ]
     },
     "execution_count": 79,
     "metadata": {},
     "output_type": "execute_result"
    }
   ],
   "source": [
    "frequency=\"monthly\"\n",
    "start=\"2007-12-31\"\n",
    "end=\"2017-12-31\"\n",
    "data = quandl.get(['WIKI/AAPL', 'WIKI/NDAQ'], collapse=frequency, trim_start=start, trim_end=end)\n",
    "data = data[['WIKI/AAPL - Adj. Close', 'WIKI/NDAQ - Adj. Close']]\n",
    "data.rename(columns={'WIKI/AAPL - Adj. Close': 'Apple', 'WIKI/NDAQ - Adj. Close': 'Nasdaq'}, inplace=True)\n",
    "data.head()"
   ]
  },
  {
   "cell_type": "code",
   "execution_count": 80,
   "metadata": {},
   "outputs": [],
   "source": [
    "tb3ms = pd.read_csv('TB3MS.csv')"
   ]
  },
  {
   "cell_type": "code",
   "execution_count": 81,
   "metadata": {},
   "outputs": [
    {
     "data": {
      "text/html": [
       "<div>\n",
       "<style scoped>\n",
       "    .dataframe tbody tr th:only-of-type {\n",
       "        vertical-align: middle;\n",
       "    }\n",
       "\n",
       "    .dataframe tbody tr th {\n",
       "        vertical-align: top;\n",
       "    }\n",
       "\n",
       "    .dataframe thead th {\n",
       "        text-align: right;\n",
       "    }\n",
       "</style>\n",
       "<table border=\"1\" class=\"dataframe\">\n",
       "  <thead>\n",
       "    <tr style=\"text-align: right;\">\n",
       "      <th></th>\n",
       "      <th>Date</th>\n",
       "      <th>ir_3m</th>\n",
       "    </tr>\n",
       "  </thead>\n",
       "  <tbody>\n",
       "    <tr>\n",
       "      <th>0</th>\n",
       "      <td>2008-01-01</td>\n",
       "      <td>2.75</td>\n",
       "    </tr>\n",
       "    <tr>\n",
       "      <th>1</th>\n",
       "      <td>2008-02-01</td>\n",
       "      <td>2.12</td>\n",
       "    </tr>\n",
       "    <tr>\n",
       "      <th>2</th>\n",
       "      <td>2008-03-01</td>\n",
       "      <td>1.26</td>\n",
       "    </tr>\n",
       "    <tr>\n",
       "      <th>3</th>\n",
       "      <td>2008-04-01</td>\n",
       "      <td>1.29</td>\n",
       "    </tr>\n",
       "    <tr>\n",
       "      <th>4</th>\n",
       "      <td>2008-05-01</td>\n",
       "      <td>1.73</td>\n",
       "    </tr>\n",
       "  </tbody>\n",
       "</table>\n",
       "</div>"
      ],
      "text/plain": [
       "         Date  ir_3m\n",
       "0  2008-01-01   2.75\n",
       "1  2008-02-01   2.12\n",
       "2  2008-03-01   1.26\n",
       "3  2008-04-01   1.29\n",
       "4  2008-05-01   1.73"
      ]
     },
     "execution_count": 81,
     "metadata": {},
     "output_type": "execute_result"
    }
   ],
   "source": [
    "ir_3m = tb3ms.rename(columns={'DATE': 'Date', 'TB3MS': 'ir_3m'})\n",
    "ir_3m.head()"
   ]
  },
  {
   "cell_type": "code",
   "execution_count": 82,
   "metadata": {},
   "outputs": [
    {
     "data": {
      "text/html": [
       "<div>\n",
       "<style scoped>\n",
       "    .dataframe tbody tr th:only-of-type {\n",
       "        vertical-align: middle;\n",
       "    }\n",
       "\n",
       "    .dataframe tbody tr th {\n",
       "        vertical-align: top;\n",
       "    }\n",
       "\n",
       "    .dataframe thead th {\n",
       "        text-align: right;\n",
       "    }\n",
       "</style>\n",
       "<table border=\"1\" class=\"dataframe\">\n",
       "  <thead>\n",
       "    <tr style=\"text-align: right;\">\n",
       "      <th></th>\n",
       "      <th>Date</th>\n",
       "      <th>ir_3m</th>\n",
       "    </tr>\n",
       "  </thead>\n",
       "  <tbody>\n",
       "    <tr>\n",
       "      <th>0</th>\n",
       "      <td>2007-12-31</td>\n",
       "      <td>2.75</td>\n",
       "    </tr>\n",
       "    <tr>\n",
       "      <th>1</th>\n",
       "      <td>2008-01-31</td>\n",
       "      <td>2.12</td>\n",
       "    </tr>\n",
       "    <tr>\n",
       "      <th>2</th>\n",
       "      <td>2008-02-29</td>\n",
       "      <td>1.26</td>\n",
       "    </tr>\n",
       "    <tr>\n",
       "      <th>3</th>\n",
       "      <td>2008-03-31</td>\n",
       "      <td>1.29</td>\n",
       "    </tr>\n",
       "    <tr>\n",
       "      <th>4</th>\n",
       "      <td>2008-04-30</td>\n",
       "      <td>1.73</td>\n",
       "    </tr>\n",
       "  </tbody>\n",
       "</table>\n",
       "</div>"
      ],
      "text/plain": [
       "        Date  ir_3m\n",
       "0 2007-12-31   2.75\n",
       "1 2008-01-31   2.12\n",
       "2 2008-02-29   1.26\n",
       "3 2008-03-31   1.29\n",
       "4 2008-04-30   1.73"
      ]
     },
     "execution_count": 82,
     "metadata": {},
     "output_type": "execute_result"
    }
   ],
   "source": [
    "ir_3m[\"Date\"] = pd.to_datetime(ir_3m['Date']) - pd.tseries.offsets.MonthEnd()\n",
    "ir_3m.head()"
   ]
  },
  {
   "cell_type": "code",
   "execution_count": 83,
   "metadata": {},
   "outputs": [
    {
     "data": {
      "text/html": [
       "<div>\n",
       "<style scoped>\n",
       "    .dataframe tbody tr th:only-of-type {\n",
       "        vertical-align: middle;\n",
       "    }\n",
       "\n",
       "    .dataframe tbody tr th {\n",
       "        vertical-align: top;\n",
       "    }\n",
       "\n",
       "    .dataframe thead th {\n",
       "        text-align: right;\n",
       "    }\n",
       "</style>\n",
       "<table border=\"1\" class=\"dataframe\">\n",
       "  <thead>\n",
       "    <tr style=\"text-align: right;\">\n",
       "      <th></th>\n",
       "      <th>ir_3m</th>\n",
       "    </tr>\n",
       "    <tr>\n",
       "      <th>Date</th>\n",
       "      <th></th>\n",
       "    </tr>\n",
       "  </thead>\n",
       "  <tbody>\n",
       "    <tr>\n",
       "      <th>2007-12-31</th>\n",
       "      <td>2.75</td>\n",
       "    </tr>\n",
       "    <tr>\n",
       "      <th>2008-01-31</th>\n",
       "      <td>2.12</td>\n",
       "    </tr>\n",
       "    <tr>\n",
       "      <th>2008-02-29</th>\n",
       "      <td>1.26</td>\n",
       "    </tr>\n",
       "    <tr>\n",
       "      <th>2008-03-31</th>\n",
       "      <td>1.29</td>\n",
       "    </tr>\n",
       "    <tr>\n",
       "      <th>2008-04-30</th>\n",
       "      <td>1.73</td>\n",
       "    </tr>\n",
       "  </tbody>\n",
       "</table>\n",
       "</div>"
      ],
      "text/plain": [
       "            ir_3m\n",
       "Date             \n",
       "2007-12-31   2.75\n",
       "2008-01-31   2.12\n",
       "2008-02-29   1.26\n",
       "2008-03-31   1.29\n",
       "2008-04-30   1.73"
      ]
     },
     "execution_count": 83,
     "metadata": {},
     "output_type": "execute_result"
    }
   ],
   "source": [
    "ir_3m = ir_3m.set_index('Date')\n",
    "ir_3m.head()"
   ]
  },
  {
   "cell_type": "code",
   "execution_count": 84,
   "metadata": {},
   "outputs": [
    {
     "name": "stdout",
     "output_type": "stream",
     "text": [
      "<class 'pandas.core.frame.DataFrame'>\n",
      "DatetimeIndex: 121 entries, 2007-12-31 to 2017-12-31\n",
      "Data columns (total 1 columns):\n",
      "ir_3m    121 non-null float64\n",
      "dtypes: float64(1)\n",
      "memory usage: 1.9 KB\n"
     ]
    }
   ],
   "source": [
    "ir_3m.info()"
   ]
  },
  {
   "cell_type": "code",
   "execution_count": 85,
   "metadata": {},
   "outputs": [
    {
     "name": "stdout",
     "output_type": "stream",
     "text": [
      "<class 'pandas.core.frame.DataFrame'>\n",
      "DatetimeIndex: 121 entries, 2007-12-31 to 2017-12-31\n",
      "Data columns (total 2 columns):\n",
      "Apple     121 non-null float64\n",
      "Nasdaq    121 non-null float64\n",
      "dtypes: float64(2)\n",
      "memory usage: 2.8 KB\n"
     ]
    }
   ],
   "source": [
    "data.info()"
   ]
  },
  {
   "cell_type": "code",
   "execution_count": 86,
   "metadata": {},
   "outputs": [
    {
     "data": {
      "text/html": [
       "<div>\n",
       "<style scoped>\n",
       "    .dataframe tbody tr th:only-of-type {\n",
       "        vertical-align: middle;\n",
       "    }\n",
       "\n",
       "    .dataframe tbody tr th {\n",
       "        vertical-align: top;\n",
       "    }\n",
       "\n",
       "    .dataframe thead th {\n",
       "        text-align: right;\n",
       "    }\n",
       "</style>\n",
       "<table border=\"1\" class=\"dataframe\">\n",
       "  <thead>\n",
       "    <tr style=\"text-align: right;\">\n",
       "      <th></th>\n",
       "      <th>Apple</th>\n",
       "      <th>Nasdaq</th>\n",
       "      <th>ir_3m</th>\n",
       "    </tr>\n",
       "    <tr>\n",
       "      <th>Date</th>\n",
       "      <th></th>\n",
       "      <th></th>\n",
       "      <th></th>\n",
       "    </tr>\n",
       "  </thead>\n",
       "  <tbody>\n",
       "    <tr>\n",
       "      <th>2007-12-31</th>\n",
       "      <td>25.456041</td>\n",
       "      <td>44.916128</td>\n",
       "      <td>2.75</td>\n",
       "    </tr>\n",
       "    <tr>\n",
       "      <th>2008-01-31</th>\n",
       "      <td>17.395647</td>\n",
       "      <td>41.993721</td>\n",
       "      <td>2.12</td>\n",
       "    </tr>\n",
       "    <tr>\n",
       "      <th>2008-02-29</th>\n",
       "      <td>16.066812</td>\n",
       "      <td>37.673640</td>\n",
       "      <td>1.26</td>\n",
       "    </tr>\n",
       "    <tr>\n",
       "      <th>2008-03-31</th>\n",
       "      <td>18.441750</td>\n",
       "      <td>35.087038</td>\n",
       "      <td>1.29</td>\n",
       "    </tr>\n",
       "    <tr>\n",
       "      <th>2008-04-30</th>\n",
       "      <td>22.354999</td>\n",
       "      <td>33.081286</td>\n",
       "      <td>1.73</td>\n",
       "    </tr>\n",
       "  </tbody>\n",
       "</table>\n",
       "</div>"
      ],
      "text/plain": [
       "                Apple     Nasdaq  ir_3m\n",
       "Date                                   \n",
       "2007-12-31  25.456041  44.916128   2.75\n",
       "2008-01-31  17.395647  41.993721   2.12\n",
       "2008-02-29  16.066812  37.673640   1.26\n",
       "2008-03-31  18.441750  35.087038   1.29\n",
       "2008-04-30  22.354999  33.081286   1.73"
      ]
     },
     "execution_count": 86,
     "metadata": {},
     "output_type": "execute_result"
    }
   ],
   "source": [
    "stocks_data = pd.concat([data, ir_3m], axis=1)\n",
    "stocks_data.head()"
   ]
  },
  {
   "cell_type": "code",
   "execution_count": 87,
   "metadata": {},
   "outputs": [
    {
     "data": {
      "text/html": [
       "<div>\n",
       "<style scoped>\n",
       "    .dataframe tbody tr th:only-of-type {\n",
       "        vertical-align: middle;\n",
       "    }\n",
       "\n",
       "    .dataframe tbody tr th {\n",
       "        vertical-align: top;\n",
       "    }\n",
       "\n",
       "    .dataframe thead th {\n",
       "        text-align: right;\n",
       "    }\n",
       "</style>\n",
       "<table border=\"1\" class=\"dataframe\">\n",
       "  <thead>\n",
       "    <tr style=\"text-align: right;\">\n",
       "      <th></th>\n",
       "      <th>Apple</th>\n",
       "      <th>Apple</th>\n",
       "      <th>Apple</th>\n",
       "    </tr>\n",
       "    <tr>\n",
       "      <th>Date</th>\n",
       "      <th></th>\n",
       "      <th></th>\n",
       "      <th></th>\n",
       "    </tr>\n",
       "  </thead>\n",
       "  <tbody>\n",
       "    <tr>\n",
       "      <th>2007-12-31</th>\n",
       "      <td>25.456041</td>\n",
       "      <td>3.236953</td>\n",
       "      <td>NaN</td>\n",
       "    </tr>\n",
       "    <tr>\n",
       "      <th>2008-01-31</th>\n",
       "      <td>17.395647</td>\n",
       "      <td>2.856220</td>\n",
       "      <td>-0.380733</td>\n",
       "    </tr>\n",
       "    <tr>\n",
       "      <th>2008-02-29</th>\n",
       "      <td>16.066812</td>\n",
       "      <td>2.776756</td>\n",
       "      <td>-0.079464</td>\n",
       "    </tr>\n",
       "  </tbody>\n",
       "</table>\n",
       "</div>"
      ],
      "text/plain": [
       "                Apple     Apple     Apple\n",
       "Date                                     \n",
       "2007-12-31  25.456041  3.236953       NaN\n",
       "2008-01-31  17.395647  2.856220 -0.380733\n",
       "2008-02-29  16.066812  2.776756 -0.079464"
      ]
     },
     "execution_count": 87,
     "metadata": {},
     "output_type": "execute_result"
    }
   ],
   "source": [
    "apple = stocks_data['Apple'][:3]\n",
    "pd.concat([apple, np.log(apple), np.log(apple).diff()], axis=1)"
   ]
  },
  {
   "cell_type": "code",
   "execution_count": 88,
   "metadata": {},
   "outputs": [
    {
     "data": {
      "text/html": [
       "<div>\n",
       "<style scoped>\n",
       "    .dataframe tbody tr th:only-of-type {\n",
       "        vertical-align: middle;\n",
       "    }\n",
       "\n",
       "    .dataframe tbody tr th {\n",
       "        vertical-align: top;\n",
       "    }\n",
       "\n",
       "    .dataframe thead th {\n",
       "        text-align: right;\n",
       "    }\n",
       "</style>\n",
       "<table border=\"1\" class=\"dataframe\">\n",
       "  <thead>\n",
       "    <tr style=\"text-align: right;\">\n",
       "      <th></th>\n",
       "      <th>Apple</th>\n",
       "      <th>Nasdaq</th>\n",
       "      <th>ir_3m</th>\n",
       "      <th>log_ret_Apple</th>\n",
       "      <th>log_ret_Nasdaq</th>\n",
       "    </tr>\n",
       "    <tr>\n",
       "      <th>Date</th>\n",
       "      <th></th>\n",
       "      <th></th>\n",
       "      <th></th>\n",
       "      <th></th>\n",
       "      <th></th>\n",
       "    </tr>\n",
       "  </thead>\n",
       "  <tbody>\n",
       "    <tr>\n",
       "      <th>2008-01-31</th>\n",
       "      <td>17.395647</td>\n",
       "      <td>41.993721</td>\n",
       "      <td>2.12</td>\n",
       "      <td>-38.073309</td>\n",
       "      <td>-6.727683</td>\n",
       "    </tr>\n",
       "    <tr>\n",
       "      <th>2008-02-29</th>\n",
       "      <td>16.066812</td>\n",
       "      <td>37.673640</td>\n",
       "      <td>1.26</td>\n",
       "      <td>-7.946417</td>\n",
       "      <td>-10.855944</td>\n",
       "    </tr>\n",
       "    <tr>\n",
       "      <th>2008-03-31</th>\n",
       "      <td>18.441750</td>\n",
       "      <td>35.087038</td>\n",
       "      <td>1.29</td>\n",
       "      <td>13.786131</td>\n",
       "      <td>-7.112889</td>\n",
       "    </tr>\n",
       "    <tr>\n",
       "      <th>2008-04-30</th>\n",
       "      <td>22.354999</td>\n",
       "      <td>33.081286</td>\n",
       "      <td>1.73</td>\n",
       "      <td>19.243287</td>\n",
       "      <td>-5.886402</td>\n",
       "    </tr>\n",
       "    <tr>\n",
       "      <th>2008-05-31</th>\n",
       "      <td>24.257006</td>\n",
       "      <td>31.792523</td>\n",
       "      <td>1.86</td>\n",
       "      <td>8.165549</td>\n",
       "      <td>-3.973662</td>\n",
       "    </tr>\n",
       "  </tbody>\n",
       "</table>\n",
       "</div>"
      ],
      "text/plain": [
       "                Apple     Nasdaq  ir_3m  log_ret_Apple  log_ret_Nasdaq\n",
       "Date                                                                  \n",
       "2008-01-31  17.395647  41.993721   2.12     -38.073309       -6.727683\n",
       "2008-02-29  16.066812  37.673640   1.26      -7.946417      -10.855944\n",
       "2008-03-31  18.441750  35.087038   1.29      13.786131       -7.112889\n",
       "2008-04-30  22.354999  33.081286   1.73      19.243287       -5.886402\n",
       "2008-05-31  24.257006  31.792523   1.86       8.165549       -3.973662"
      ]
     },
     "execution_count": 88,
     "metadata": {},
     "output_type": "execute_result"
    }
   ],
   "source": [
    "stocks_data['log_ret_Apple'] = 100* np.log(stocks_data['Apple']).diff()\n",
    "stocks_data['log_ret_Nasdaq'] = 100* np.log(stocks_data['Nasdaq']).diff()\n",
    "stocks_data.dropna(inplace=True)\n",
    "stocks_data.head()"
   ]
  },
  {
   "cell_type": "markdown",
   "metadata": {},
   "source": [
    "---\n",
    "### Monthly interest rate from 3-month interest rate\n",
    "$$\n",
    "i_m = log((1+i_3) \\cdot \\frac{91}{365.25})^{\\frac{30.4375}{91}})\n",
    "$$"
   ]
  },
  {
   "cell_type": "code",
   "execution_count": 89,
   "metadata": {},
   "outputs": [
    {
     "data": {
      "text/html": [
       "<div>\n",
       "<style scoped>\n",
       "    .dataframe tbody tr th:only-of-type {\n",
       "        vertical-align: middle;\n",
       "    }\n",
       "\n",
       "    .dataframe tbody tr th {\n",
       "        vertical-align: top;\n",
       "    }\n",
       "\n",
       "    .dataframe thead th {\n",
       "        text-align: right;\n",
       "    }\n",
       "</style>\n",
       "<table border=\"1\" class=\"dataframe\">\n",
       "  <thead>\n",
       "    <tr style=\"text-align: right;\">\n",
       "      <th></th>\n",
       "      <th>Apple</th>\n",
       "      <th>Nasdaq</th>\n",
       "      <th>ir_3m</th>\n",
       "      <th>log_ret_Apple</th>\n",
       "      <th>log_ret_Nasdaq</th>\n",
       "      <th>ir</th>\n",
       "    </tr>\n",
       "    <tr>\n",
       "      <th>Date</th>\n",
       "      <th></th>\n",
       "      <th></th>\n",
       "      <th></th>\n",
       "      <th></th>\n",
       "      <th></th>\n",
       "      <th></th>\n",
       "    </tr>\n",
       "  </thead>\n",
       "  <tbody>\n",
       "    <tr>\n",
       "      <th>2008-01-31</th>\n",
       "      <td>17.395647</td>\n",
       "      <td>41.993721</td>\n",
       "      <td>2.12</td>\n",
       "      <td>-38.073309</td>\n",
       "      <td>-6.727683</td>\n",
       "      <td>0.141846</td>\n",
       "    </tr>\n",
       "    <tr>\n",
       "      <th>2008-02-29</th>\n",
       "      <td>16.066812</td>\n",
       "      <td>37.673640</td>\n",
       "      <td>1.26</td>\n",
       "      <td>-7.946417</td>\n",
       "      <td>-10.855944</td>\n",
       "      <td>0.091318</td>\n",
       "    </tr>\n",
       "    <tr>\n",
       "      <th>2008-03-31</th>\n",
       "      <td>18.441750</td>\n",
       "      <td>35.087038</td>\n",
       "      <td>1.29</td>\n",
       "      <td>13.786131</td>\n",
       "      <td>-7.112889</td>\n",
       "      <td>0.093215</td>\n",
       "    </tr>\n",
       "    <tr>\n",
       "      <th>2008-04-30</th>\n",
       "      <td>22.354999</td>\n",
       "      <td>33.081286</td>\n",
       "      <td>1.73</td>\n",
       "      <td>19.243287</td>\n",
       "      <td>-5.886402</td>\n",
       "      <td>0.119873</td>\n",
       "    </tr>\n",
       "    <tr>\n",
       "      <th>2008-05-31</th>\n",
       "      <td>24.257006</td>\n",
       "      <td>31.792523</td>\n",
       "      <td>1.86</td>\n",
       "      <td>8.165549</td>\n",
       "      <td>-3.973662</td>\n",
       "      <td>0.127359</td>\n",
       "    </tr>\n",
       "  </tbody>\n",
       "</table>\n",
       "</div>"
      ],
      "text/plain": [
       "                Apple     Nasdaq  ir_3m  log_ret_Apple  log_ret_Nasdaq  \\\n",
       "Date                                                                     \n",
       "2008-01-31  17.395647  41.993721   2.12     -38.073309       -6.727683   \n",
       "2008-02-29  16.066812  37.673640   1.26      -7.946417      -10.855944   \n",
       "2008-03-31  18.441750  35.087038   1.29      13.786131       -7.112889   \n",
       "2008-04-30  22.354999  33.081286   1.73      19.243287       -5.886402   \n",
       "2008-05-31  24.257006  31.792523   1.86       8.165549       -3.973662   \n",
       "\n",
       "                  ir  \n",
       "Date                  \n",
       "2008-01-31  0.141846  \n",
       "2008-02-29  0.091318  \n",
       "2008-03-31  0.093215  \n",
       "2008-04-30  0.119873  \n",
       "2008-05-31  0.127359  "
      ]
     },
     "execution_count": 89,
     "metadata": {},
     "output_type": "execute_result"
    }
   ],
   "source": [
    "stocks_data['ir'] = np.log((1+stocks_data['ir_3m']*91/365.25)**(30.4375/91))\n",
    "stocks_data.head()"
   ]
  },
  {
   "cell_type": "markdown",
   "metadata": {},
   "source": [
    "---\n",
    "### Excess return"
   ]
  },
  {
   "cell_type": "code",
   "execution_count": 90,
   "metadata": {},
   "outputs": [
    {
     "data": {
      "text/html": [
       "<div>\n",
       "<style scoped>\n",
       "    .dataframe tbody tr th:only-of-type {\n",
       "        vertical-align: middle;\n",
       "    }\n",
       "\n",
       "    .dataframe tbody tr th {\n",
       "        vertical-align: top;\n",
       "    }\n",
       "\n",
       "    .dataframe thead th {\n",
       "        text-align: right;\n",
       "    }\n",
       "</style>\n",
       "<table border=\"1\" class=\"dataframe\">\n",
       "  <thead>\n",
       "    <tr style=\"text-align: right;\">\n",
       "      <th></th>\n",
       "      <th>Apple</th>\n",
       "      <th>Nasdaq</th>\n",
       "      <th>ir_3m</th>\n",
       "      <th>log_ret_Apple</th>\n",
       "      <th>log_ret_Nasdaq</th>\n",
       "      <th>ir</th>\n",
       "      <th>ex_ret_Apple</th>\n",
       "      <th>ex_ret_Nasdaq</th>\n",
       "    </tr>\n",
       "    <tr>\n",
       "      <th>Date</th>\n",
       "      <th></th>\n",
       "      <th></th>\n",
       "      <th></th>\n",
       "      <th></th>\n",
       "      <th></th>\n",
       "      <th></th>\n",
       "      <th></th>\n",
       "      <th></th>\n",
       "    </tr>\n",
       "  </thead>\n",
       "  <tbody>\n",
       "    <tr>\n",
       "      <th>2008-01-31</th>\n",
       "      <td>17.395647</td>\n",
       "      <td>41.993721</td>\n",
       "      <td>2.12</td>\n",
       "      <td>-38.073309</td>\n",
       "      <td>-6.727683</td>\n",
       "      <td>0.141846</td>\n",
       "      <td>-38.215155</td>\n",
       "      <td>-6.869529</td>\n",
       "    </tr>\n",
       "    <tr>\n",
       "      <th>2008-02-29</th>\n",
       "      <td>16.066812</td>\n",
       "      <td>37.673640</td>\n",
       "      <td>1.26</td>\n",
       "      <td>-7.946417</td>\n",
       "      <td>-10.855944</td>\n",
       "      <td>0.091318</td>\n",
       "      <td>-8.037735</td>\n",
       "      <td>-10.947262</td>\n",
       "    </tr>\n",
       "    <tr>\n",
       "      <th>2008-03-31</th>\n",
       "      <td>18.441750</td>\n",
       "      <td>35.087038</td>\n",
       "      <td>1.29</td>\n",
       "      <td>13.786131</td>\n",
       "      <td>-7.112889</td>\n",
       "      <td>0.093215</td>\n",
       "      <td>13.692916</td>\n",
       "      <td>-7.206104</td>\n",
       "    </tr>\n",
       "    <tr>\n",
       "      <th>2008-04-30</th>\n",
       "      <td>22.354999</td>\n",
       "      <td>33.081286</td>\n",
       "      <td>1.73</td>\n",
       "      <td>19.243287</td>\n",
       "      <td>-5.886402</td>\n",
       "      <td>0.119873</td>\n",
       "      <td>19.123414</td>\n",
       "      <td>-6.006274</td>\n",
       "    </tr>\n",
       "    <tr>\n",
       "      <th>2008-05-31</th>\n",
       "      <td>24.257006</td>\n",
       "      <td>31.792523</td>\n",
       "      <td>1.86</td>\n",
       "      <td>8.165549</td>\n",
       "      <td>-3.973662</td>\n",
       "      <td>0.127359</td>\n",
       "      <td>8.038190</td>\n",
       "      <td>-4.101021</td>\n",
       "    </tr>\n",
       "  </tbody>\n",
       "</table>\n",
       "</div>"
      ],
      "text/plain": [
       "                Apple     Nasdaq  ir_3m  log_ret_Apple  log_ret_Nasdaq  \\\n",
       "Date                                                                     \n",
       "2008-01-31  17.395647  41.993721   2.12     -38.073309       -6.727683   \n",
       "2008-02-29  16.066812  37.673640   1.26      -7.946417      -10.855944   \n",
       "2008-03-31  18.441750  35.087038   1.29      13.786131       -7.112889   \n",
       "2008-04-30  22.354999  33.081286   1.73      19.243287       -5.886402   \n",
       "2008-05-31  24.257006  31.792523   1.86       8.165549       -3.973662   \n",
       "\n",
       "                  ir  ex_ret_Apple  ex_ret_Nasdaq  \n",
       "Date                                               \n",
       "2008-01-31  0.141846    -38.215155      -6.869529  \n",
       "2008-02-29  0.091318     -8.037735     -10.947262  \n",
       "2008-03-31  0.093215     13.692916      -7.206104  \n",
       "2008-04-30  0.119873     19.123414      -6.006274  \n",
       "2008-05-31  0.127359      8.038190      -4.101021  "
      ]
     },
     "execution_count": 90,
     "metadata": {},
     "output_type": "execute_result"
    }
   ],
   "source": [
    "stocks_data['ex_ret_Apple'] = stocks_data['log_ret_Apple'] - stocks_data['ir']\n",
    "stocks_data['ex_ret_Nasdaq'] = stocks_data['log_ret_Nasdaq'] - stocks_data['ir']\n",
    "stocks_data.head()"
   ]
  },
  {
   "cell_type": "code",
   "execution_count": 91,
   "metadata": {},
   "outputs": [
    {
     "data": {
      "text/plain": [
       "ex_ret_Apple     1.555612\n",
       "ex_ret_Nasdaq    0.424356\n",
       "dtype: float64"
      ]
     },
     "execution_count": 91,
     "metadata": {},
     "output_type": "execute_result"
    }
   ],
   "source": [
    "stocks_mean = stocks_data[['ex_ret_Apple','ex_ret_Nasdaq']].mean()\n",
    "stocks_mean"
   ]
  },
  {
   "cell_type": "code",
   "execution_count": 92,
   "metadata": {},
   "outputs": [
    {
     "data": {
      "text/plain": [
       "ex_ret_Apple     9.195402\n",
       "ex_ret_Nasdaq    7.881378\n",
       "dtype: float64"
      ]
     },
     "execution_count": 92,
     "metadata": {},
     "output_type": "execute_result"
    }
   ],
   "source": [
    "stocks_std = stocks_data[['ex_ret_Apple','ex_ret_Nasdaq']].std()\n",
    "stocks_std"
   ]
  },
  {
   "cell_type": "code",
   "execution_count": 93,
   "metadata": {},
   "outputs": [
    {
     "data": {
      "text/plain": [
       "ex_ret_Apple    -1.425435\n",
       "ex_ret_Nasdaq   -1.557414\n",
       "dtype: float64"
      ]
     },
     "execution_count": 93,
     "metadata": {},
     "output_type": "execute_result"
    }
   ],
   "source": [
    "stocks_skew = stocks_data[['ex_ret_Apple','ex_ret_Nasdaq']].skew()\n",
    "stocks_skew"
   ]
  },
  {
   "cell_type": "code",
   "execution_count": 94,
   "metadata": {},
   "outputs": [
    {
     "data": {
      "text/plain": [
       "ex_ret_Apple     4.975657\n",
       "ex_ret_Nasdaq    6.457484\n",
       "dtype: float64"
      ]
     },
     "execution_count": 94,
     "metadata": {},
     "output_type": "execute_result"
    }
   ],
   "source": [
    "stocks_kurt = stocks_data[['ex_ret_Apple','ex_ret_Nasdaq']].kurt()\n",
    "stocks_kurt"
   ]
  },
  {
   "cell_type": "code",
   "execution_count": 95,
   "metadata": {},
   "outputs": [
    {
     "data": {
      "text/plain": [
       "ex_ret_Apple     19.123414\n",
       "ex_ret_Nasdaq    16.228322\n",
       "dtype: float64"
      ]
     },
     "execution_count": 95,
     "metadata": {},
     "output_type": "execute_result"
    }
   ],
   "source": [
    "stocks_max = stocks_data[['ex_ret_Apple','ex_ret_Nasdaq']].max()\n",
    "stocks_max"
   ]
  },
  {
   "cell_type": "code",
   "execution_count": 96,
   "metadata": {},
   "outputs": [
    {
     "data": {
      "text/plain": [
       "ex_ret_Apple    -40.033471\n",
       "ex_ret_Nasdaq   -41.198053\n",
       "dtype: float64"
      ]
     },
     "execution_count": 96,
     "metadata": {},
     "output_type": "execute_result"
    }
   ],
   "source": [
    "stocks_min = stocks_data[['ex_ret_Apple','ex_ret_Nasdaq']].min()\n",
    "stocks_min"
   ]
  },
  {
   "cell_type": "code",
   "execution_count": 97,
   "metadata": {},
   "outputs": [
    {
     "data": {
      "text/html": [
       "<div>\n",
       "<style scoped>\n",
       "    .dataframe tbody tr th:only-of-type {\n",
       "        vertical-align: middle;\n",
       "    }\n",
       "\n",
       "    .dataframe tbody tr th {\n",
       "        vertical-align: top;\n",
       "    }\n",
       "\n",
       "    .dataframe thead th {\n",
       "        text-align: right;\n",
       "    }\n",
       "</style>\n",
       "<table border=\"1\" class=\"dataframe\">\n",
       "  <thead>\n",
       "    <tr style=\"text-align: right;\">\n",
       "      <th></th>\n",
       "      <th>ex_ret_Apple</th>\n",
       "      <th>ex_ret_Nasdaq</th>\n",
       "    </tr>\n",
       "  </thead>\n",
       "  <tbody>\n",
       "    <tr>\n",
       "      <th>count</th>\n",
       "      <td>120.000000</td>\n",
       "      <td>120.000000</td>\n",
       "    </tr>\n",
       "    <tr>\n",
       "      <th>mean</th>\n",
       "      <td>1.555612</td>\n",
       "      <td>0.424356</td>\n",
       "    </tr>\n",
       "    <tr>\n",
       "      <th>std</th>\n",
       "      <td>9.195402</td>\n",
       "      <td>7.881378</td>\n",
       "    </tr>\n",
       "    <tr>\n",
       "      <th>min</th>\n",
       "      <td>-40.033471</td>\n",
       "      <td>-41.198053</td>\n",
       "    </tr>\n",
       "    <tr>\n",
       "      <th>25%</th>\n",
       "      <td>-2.540260</td>\n",
       "      <td>-4.259902</td>\n",
       "    </tr>\n",
       "    <tr>\n",
       "      <th>50%</th>\n",
       "      <td>2.273275</td>\n",
       "      <td>1.253511</td>\n",
       "    </tr>\n",
       "    <tr>\n",
       "      <th>75%</th>\n",
       "      <td>7.076321</td>\n",
       "      <td>5.068363</td>\n",
       "    </tr>\n",
       "    <tr>\n",
       "      <th>max</th>\n",
       "      <td>19.123414</td>\n",
       "      <td>16.228322</td>\n",
       "    </tr>\n",
       "  </tbody>\n",
       "</table>\n",
       "</div>"
      ],
      "text/plain": [
       "       ex_ret_Apple  ex_ret_Nasdaq\n",
       "count    120.000000     120.000000\n",
       "mean       1.555612       0.424356\n",
       "std        9.195402       7.881378\n",
       "min      -40.033471     -41.198053\n",
       "25%       -2.540260      -4.259902\n",
       "50%        2.273275       1.253511\n",
       "75%        7.076321       5.068363\n",
       "max       19.123414      16.228322"
      ]
     },
     "execution_count": 97,
     "metadata": {},
     "output_type": "execute_result"
    }
   ],
   "source": [
    "stocks_summary = stocks_data[['ex_ret_Apple','ex_ret_Nasdaq']].describe()\n",
    "stocks_summary"
   ]
  },
  {
   "cell_type": "markdown",
   "metadata": {},
   "source": [
    "---\n",
    "### Lower partial moment of degree $q$\n",
    "Note that I deviate from the script by adding a consistent qth root to the LPM and handling the $q=0$ case mathematically correct."
   ]
  },
  {
   "cell_type": "markdown",
   "metadata": {},
   "source": [
    "$$ \n",
    "\\text{LPM}_{qp}(\\Psi)=[\\frac{1}{T-1}\\sum_{t=1}^{T}\\text{max}((\\Psi-r_{pt})^q, 0)]^\\frac{1}{q}\n",
    "$$\n",
    "\n",
    "where $\\Psi$ is the target return level"
   ]
  },
  {
   "cell_type": "code",
   "execution_count": 98,
   "metadata": {},
   "outputs": [],
   "source": [
    "def lpm(s, q=2, baseline=None):\n",
    "    if baseline is None:\n",
    "        baseline = s.mean()\n",
    "\n",
    "    if q == 0:\n",
    "        return np.sum(\n",
    "            np.where(\n",
    "                s < baseline,\n",
    "                1, 0\n",
    "            ) / (s.shape[0] - 1))\n",
    "    else:\n",
    "        return np.sum(\n",
    "            np.where(\n",
    "                s < baseline,\n",
    "                np.abs(s - baseline)**q, 0\n",
    "            ) / (s.shape[0] - 1))**(1.0/q)"
   ]
  },
  {
   "cell_type": "markdown",
   "metadata": {},
   "source": [
    "The semi-standard deviation is the square root of the lower partial moment $\\text{LPM}_{2,mean}$"
   ]
  },
  {
   "cell_type": "code",
   "execution_count": 99,
   "metadata": {},
   "outputs": [
    {
     "data": {
      "text/plain": [
       "(7.3170136529852465, 6.283075047489827)"
      ]
     },
     "execution_count": 99,
     "metadata": {},
     "output_type": "execute_result"
    }
   ],
   "source": [
    "nasdaq_semi_std = lpm(stocks_data['ex_ret_Nasdaq'])\n",
    "apple_semi_std = lpm(stocks_data['ex_ret_Apple'])\n",
    "apple_semi_std, nasdaq_semi_std"
   ]
  },
  {
   "cell_type": "markdown",
   "metadata": {},
   "source": [
    "---\n",
    "### Shortfall risk\n",
    "The shortfall risk is $\\text{LPM}(0,0)$"
   ]
  },
  {
   "cell_type": "code",
   "execution_count": 100,
   "metadata": {},
   "outputs": [],
   "source": [
    "nasdaq = stocks_data['ex_ret_Nasdaq']\n",
    "apple = stocks_data['ex_ret_Apple']\n",
    "A_N = stocks_data[['ex_ret_Apple','ex_ret_Nasdaq']]"
   ]
  },
  {
   "cell_type": "code",
   "execution_count": 101,
   "metadata": {},
   "outputs": [
    {
     "data": {
      "text/plain": [
       "(0.3949579831932773, 0.42016806722689076)"
      ]
     },
     "execution_count": 101,
     "metadata": {},
     "output_type": "execute_result"
    }
   ],
   "source": [
    "lpm(apple, 0, 0), lpm(nasdaq, 0, 0)"
   ]
  },
  {
   "cell_type": "markdown",
   "metadata": {},
   "source": [
    "An alternative way of computing the shortfall risk, just for a double-check"
   ]
  },
  {
   "cell_type": "code",
   "execution_count": 102,
   "metadata": {},
   "outputs": [
    {
     "data": {
      "text/plain": [
       "ex_ret_Apple     0.394958\n",
       "ex_ret_Nasdaq    0.420168\n",
       "dtype: float64"
      ]
     },
     "execution_count": 102,
     "metadata": {},
     "output_type": "execute_result"
    }
   ],
   "source": [
    "A_N.apply(lambda x: np.where(x<0, 1, 0)).sum()/(A_N.shape[0]-1)"
   ]
  },
  {
   "cell_type": "markdown",
   "metadata": {},
   "source": [
    "Comparing against a zero baseline - $\\text{LPM}_{2,0}$:"
   ]
  },
  {
   "cell_type": "code",
   "execution_count": 103,
   "metadata": {},
   "outputs": [
    {
     "data": {
      "text/plain": [
       "(6.6418469761741505, 6.091935597209448)"
      ]
     },
     "execution_count": 103,
     "metadata": {},
     "output_type": "execute_result"
    }
   ],
   "source": [
    "lpm(apple, 2, 0), lpm(nasdaq, 2, 0)"
   ]
  },
  {
   "cell_type": "markdown",
   "metadata": {},
   "source": [
    "---\n",
    "### Expected shortfall"
   ]
  },
  {
   "cell_type": "code",
   "execution_count": 104,
   "metadata": {},
   "outputs": [
    {
     "data": {
      "text/plain": [
       "ex_ret_Apple     3.306867\n",
       "ex_ret_Nasdaq    3.307540\n",
       "dtype: float64"
      ]
     },
     "execution_count": 104,
     "metadata": {},
     "output_type": "execute_result"
    }
   ],
   "source": [
    "esf = np.abs(A_N.apply(lambda x:np.where(x<0, x, 0)).sum() / \\\n",
    "             (np.count_nonzero(A_N.apply(lambda x: np.where(x<0, 1, 0)))))\n",
    "esf"
   ]
  },
  {
   "cell_type": "markdown",
   "metadata": {},
   "source": [
    "---\n",
    "### Value at Risk\n",
    "The historical Value at Risk at 95% confidence level is the 5% quantile or the returns (???)"
   ]
  },
  {
   "cell_type": "code",
   "execution_count": 105,
   "metadata": {},
   "outputs": [
    {
     "data": {
      "text/plain": [
       "ex_ret_Apple     39.925281\n",
       "ex_ret_Nasdaq    40.402744\n",
       "dtype: float64"
      ]
     },
     "execution_count": 105,
     "metadata": {},
     "output_type": "execute_result"
    }
   ],
   "source": [
    "VaR = np.abs(A_N.apply(np.percentile, q=0.05))\n",
    "VaR"
   ]
  },
  {
   "cell_type": "markdown",
   "metadata": {},
   "source": [
    "---\n",
    "### Sharpe Ratio\n",
    "The Sharp ratio is the mean excess return against the risk-free interest rate divided by its standard deviation\n",
    "$$\n",
    " S_{xp} = \\frac{\\bar{r}_{xp}}{\\sigma_{xp}}\n",
    "$$"
   ]
  },
  {
   "cell_type": "code",
   "execution_count": 106,
   "metadata": {},
   "outputs": [
    {
     "data": {
      "text/plain": [
       "ex_ret_Apple     0.169173\n",
       "ex_ret_Nasdaq    0.053843\n",
       "dtype: float64"
      ]
     },
     "execution_count": 106,
     "metadata": {},
     "output_type": "execute_result"
    }
   ],
   "source": [
    "SR = A_N.mean()/A_N.std()\n",
    "SR"
   ]
  },
  {
   "cell_type": "markdown",
   "metadata": {},
   "source": [
    "---\n",
    "### Information Ratio\n",
    "The mean excess against the market benchmarkdivided by its standard deviation.\n",
    "$$\n",
    "\\text{IR}_{xp} = \\frac{\\bar{r}_{xbp}}{\\sigma_{xbp}}\n",
    "$$"
   ]
  },
  {
   "cell_type": "code",
   "execution_count": 107,
   "metadata": {},
   "outputs": [
    {
     "data": {
      "text/plain": [
       "0.10609518307980093"
      ]
     },
     "execution_count": 107,
     "metadata": {},
     "output_type": "execute_result"
    }
   ],
   "source": [
    "stocks_data['ex_Nasdaq_Apple'] = apple-nasdaq\n",
    "exna=stocks_data['ex_Nasdaq_Apple']\n",
    "Apple_info_ratio=exna.mean()/exna.std()\n",
    "Apple_info_ratio"
   ]
  },
  {
   "cell_type": "markdown",
   "metadata": {},
   "source": [
    "---\n",
    "### Treynor Ratio\n",
    "$$\n",
    "T_{xp} = \\frac{\\bar{r}_{xp}}{\\beta_p}\n",
    "$$"
   ]
  },
  {
   "cell_type": "code",
   "execution_count": 108,
   "metadata": {},
   "outputs": [],
   "source": [
    "import scipy.stats as stats"
   ]
  },
  {
   "cell_type": "code",
   "execution_count": 109,
   "metadata": {},
   "outputs": [],
   "source": [
    "beta, alpha, rval, pval, stderr = stats.linregress(nasdaq, apple)"
   ]
  },
  {
   "cell_type": "code",
   "execution_count": 110,
   "metadata": {},
   "outputs": [
    {
     "data": {
      "text/plain": [
       "5.859941845449977"
      ]
     },
     "execution_count": 110,
     "metadata": {},
     "output_type": "execute_result"
    }
   ],
   "source": [
    "apple.mean()/beta"
   ]
  },
  {
   "cell_type": "markdown",
   "metadata": {},
   "source": [
    "---\n",
    "### Drawdown\n",
    "The drawdown is defined as the maximum consecutive down-trip divided by the value where it started - over a given period."
   ]
  },
  {
   "cell_type": "code",
   "execution_count": 111,
   "metadata": {},
   "outputs": [],
   "source": [
    "def drawdown(series):\n",
    "    ms = 0.\n",
    "    s = 0.\n",
    "    array = series\n",
    "    start = array[0]\n",
    "    for i in range(len(array)-1):\n",
    "\n",
    "        # accumulate down movements only\n",
    "        d = array[i+1] - array[i] \n",
    "        if d <= 0:\n",
    "            s-=d \n",
    "\n",
    "        else:\n",
    "            # see whether we have a new maximum\n",
    "            if s/start>ms:\n",
    "                ms = s/start\n",
    "                \n",
    "            # start again\n",
    "            start=array[i+1]\n",
    "            s = 0.\n",
    "\n",
    "    # Return as percentage\n",
    "    return 100.0 * ms"
   ]
  },
  {
   "cell_type": "code",
   "execution_count": 112,
   "metadata": {},
   "outputs": [
    {
     "data": {
      "text/plain": [
       "Apple     49.654928\n",
       "Nasdaq    42.619408\n",
       "dtype: float64"
      ]
     },
     "execution_count": 112,
     "metadata": {},
     "output_type": "execute_result"
    }
   ],
   "source": [
    "stocks_data[['Apple', 'Nasdaq']].apply(drawdown)"
   ]
  },
  {
   "cell_type": "code",
   "execution_count": 113,
   "metadata": {},
   "outputs": [
    {
     "data": {
      "text/plain": [
       "872.3680984672123"
      ]
     },
     "execution_count": 113,
     "metadata": {},
     "output_type": "execute_result"
    }
   ],
   "source": [
    "drawdown(apple)"
   ]
  },
  {
   "cell_type": "markdown",
   "metadata": {},
   "source": [
    "---\n",
    "Here's the implementation from the script, in case you wonder, whether it's really producing the same numbers...;-)"
   ]
  },
  {
   "cell_type": "code",
   "execution_count": 114,
   "metadata": {},
   "outputs": [
    {
     "data": {
      "text/plain": [
       "872.3680984672121"
      ]
     },
     "execution_count": 114,
     "metadata": {},
     "output_type": "execute_result"
    }
   ],
   "source": [
    "stock=apple\n",
    "stock_nrow=stock.shape[0]\n",
    "stock.index=range(stock_nrow)\n",
    "\n",
    "# Deviating from the script, admittedly, but more concise\n",
    "Pdrop = (stock<stock.shift())\n",
    "\n",
    "Min=0.\n",
    "i=0\n",
    "j=0\n",
    "while i<stock_nrow-1:\n",
    "    j=i+1\n",
    "    if Pdrop[j]:\n",
    "        while j < stock_nrow - 1:\n",
    "            if Pdrop[j+1]:\n",
    "                j=j+1\n",
    "            else:\n",
    "                if stock[j]/stock[i]-1 < Min:\n",
    "                    Min = stock[j]/stock[i]-1\n",
    "                break\n",
    "        if j==stock_nrow-1:\n",
    "            if stock[j]/stock[i]-1 < Min:\n",
    "                Min = stock[i]-1\n",
    "    i=j\n",
    "100*np.abs(Min)"
   ]
  },
  {
   "cell_type": "markdown",
   "metadata": {},
   "source": [
    "---\n",
    "### Stirling Ratio between 2008 and 2018\n",
    "$$\n",
    "\\text{ST}_p = \\frac{\\bar{r}_{xp}}{\\text{DD}_{1TP}}\n",
    "$$\n",
    "\n",
    "Here, $DD_{1Tp}$ is the average drawdown over N years:\n",
    "\n",
    "$$\n",
    "\\text{DD}_{1Tp} = \\frac{1}{N-1}\\sum_{s=1}^N\\text{DD}_{qsTp}\n",
    "$$"
   ]
  },
  {
   "cell_type": "code",
   "execution_count": 115,
   "metadata": {},
   "outputs": [],
   "source": [
    "dd1={}\n",
    "for year in [\"%s\" % (2000 +yy) for yy in range(8, 18)]:\n",
    "    dd1[year] = stocks_data.loc[year+'-01-29':year+'-12-31', ['Apple', 'Nasdaq']].apply(drawdown)"
   ]
  },
  {
   "cell_type": "code",
   "execution_count": 116,
   "metadata": {},
   "outputs": [
    {
     "data": {
      "text/html": [
       "<div>\n",
       "<style scoped>\n",
       "    .dataframe tbody tr th:only-of-type {\n",
       "        vertical-align: middle;\n",
       "    }\n",
       "\n",
       "    .dataframe tbody tr th {\n",
       "        vertical-align: top;\n",
       "    }\n",
       "\n",
       "    .dataframe thead th {\n",
       "        text-align: right;\n",
       "    }\n",
       "</style>\n",
       "<table border=\"1\" class=\"dataframe\">\n",
       "  <thead>\n",
       "    <tr style=\"text-align: right;\">\n",
       "      <th></th>\n",
       "      <th>2008</th>\n",
       "      <th>2009</th>\n",
       "      <th>2010</th>\n",
       "      <th>2011</th>\n",
       "      <th>2012</th>\n",
       "      <th>2013</th>\n",
       "      <th>2014</th>\n",
       "      <th>2015</th>\n",
       "      <th>2016</th>\n",
       "      <th>2017</th>\n",
       "    </tr>\n",
       "  </thead>\n",
       "  <tbody>\n",
       "    <tr>\n",
       "      <th>Apple</th>\n",
       "      <td>15.788079</td>\n",
       "      <td>0.909797</td>\n",
       "      <td>5.500486</td>\n",
       "      <td>5.578339</td>\n",
       "      <td>3.639396</td>\n",
       "      <td>11.830300</td>\n",
       "      <td>1.707317</td>\n",
       "      <td>15.223669</td>\n",
       "      <td>13.992109</td>\n",
       "      <td>6.024390</td>\n",
       "    </tr>\n",
       "    <tr>\n",
       "      <th>Nasdaq</th>\n",
       "      <td>42.619408</td>\n",
       "      <td>17.722096</td>\n",
       "      <td>15.814394</td>\n",
       "      <td>14.675516</td>\n",
       "      <td>16.932422</td>\n",
       "      <td>8.935651</td>\n",
       "      <td>3.564076</td>\n",
       "      <td>5.216626</td>\n",
       "      <td>9.748615</td>\n",
       "      <td>6.342658</td>\n",
       "    </tr>\n",
       "  </tbody>\n",
       "</table>\n",
       "</div>"
      ],
      "text/plain": [
       "             2008       2009       2010       2011       2012       2013  \\\n",
       "Apple   15.788079   0.909797   5.500486   5.578339   3.639396  11.830300   \n",
       "Nasdaq  42.619408  17.722096  15.814394  14.675516  16.932422   8.935651   \n",
       "\n",
       "            2014       2015       2016      2017  \n",
       "Apple   1.707317  15.223669  13.992109  6.024390  \n",
       "Nasdaq  3.564076   5.216626   9.748615  6.342658  "
      ]
     },
     "execution_count": 116,
     "metadata": {},
     "output_type": "execute_result"
    }
   ],
   "source": [
    "dd10y = pd.concat(dd1, axis=1)\n",
    "dd10y"
   ]
  },
  {
   "cell_type": "markdown",
   "metadata": {},
   "source": [
    "Here, we have a yet unexplicable discrepancy with the script for Apple's 2008 draw-down, which will also impact Apple's Stirling ratio"
   ]
  },
  {
   "cell_type": "code",
   "execution_count": 117,
   "metadata": {},
   "outputs": [
    {
     "data": {
      "text/plain": [
       "Apple     0.174583\n",
       "Nasdaq    0.026977\n",
       "dtype: float64"
      ]
     },
     "execution_count": 117,
     "metadata": {},
     "output_type": "execute_result"
    }
   ],
   "source": [
    "A_N.mean().values / (dd10y.sum(axis=1)/(dd10y.shape[1]-1))"
   ]
  },
  {
   "cell_type": "markdown",
   "metadata": {},
   "source": [
    "---\n",
    "### Burke Ratio\n",
    "$$\n",
    "\\text{Burke}_p = \\frac{\\bar{r}_{xp}}{\\sqrt{DD_{2TP}}}\n",
    "$$\n"
   ]
  },
  {
   "cell_type": "code",
   "execution_count": 118,
   "metadata": {},
   "outputs": [],
   "source": [
    "dd2={}\n",
    "for y in [\"%s\" % (2000 +yy) for yy in range(8, 18)]:\n",
    "    dd2[y] = stocks_data.loc[y+'-01-29':y+'-12-31', ['Apple', 'Nasdaq']].apply(drawdown)**2"
   ]
  },
  {
   "cell_type": "code",
   "execution_count": 119,
   "metadata": {},
   "outputs": [
    {
     "data": {
      "text/plain": [
       "Apple      30.255345\n",
       "Nasdaq    250.095056\n",
       "dtype: float64"
      ]
     },
     "execution_count": 119,
     "metadata": {},
     "output_type": "execute_result"
    }
   ],
   "source": [
    "dd2['2010']"
   ]
  },
  {
   "cell_type": "code",
   "execution_count": 120,
   "metadata": {},
   "outputs": [
    {
     "data": {
      "text/html": [
       "<div>\n",
       "<style scoped>\n",
       "    .dataframe tbody tr th:only-of-type {\n",
       "        vertical-align: middle;\n",
       "    }\n",
       "\n",
       "    .dataframe tbody tr th {\n",
       "        vertical-align: top;\n",
       "    }\n",
       "\n",
       "    .dataframe thead th {\n",
       "        text-align: right;\n",
       "    }\n",
       "</style>\n",
       "<table border=\"1\" class=\"dataframe\">\n",
       "  <thead>\n",
       "    <tr style=\"text-align: right;\">\n",
       "      <th></th>\n",
       "      <th>2008</th>\n",
       "      <th>2009</th>\n",
       "      <th>2010</th>\n",
       "      <th>2011</th>\n",
       "      <th>2012</th>\n",
       "      <th>2013</th>\n",
       "      <th>2014</th>\n",
       "      <th>2015</th>\n",
       "      <th>2016</th>\n",
       "      <th>2017</th>\n",
       "    </tr>\n",
       "  </thead>\n",
       "  <tbody>\n",
       "    <tr>\n",
       "      <th>Apple</th>\n",
       "      <td>249.263453</td>\n",
       "      <td>0.827731</td>\n",
       "      <td>30.255345</td>\n",
       "      <td>31.117864</td>\n",
       "      <td>13.245205</td>\n",
       "      <td>139.956000</td>\n",
       "      <td>2.914932</td>\n",
       "      <td>231.760102</td>\n",
       "      <td>195.779125</td>\n",
       "      <td>36.293278</td>\n",
       "    </tr>\n",
       "    <tr>\n",
       "      <th>Nasdaq</th>\n",
       "      <td>1816.413923</td>\n",
       "      <td>314.072675</td>\n",
       "      <td>250.095056</td>\n",
       "      <td>215.370776</td>\n",
       "      <td>286.706921</td>\n",
       "      <td>79.845861</td>\n",
       "      <td>12.702637</td>\n",
       "      <td>27.213188</td>\n",
       "      <td>95.035492</td>\n",
       "      <td>40.229314</td>\n",
       "    </tr>\n",
       "  </tbody>\n",
       "</table>\n",
       "</div>"
      ],
      "text/plain": [
       "               2008        2009        2010        2011        2012  \\\n",
       "Apple    249.263453    0.827731   30.255345   31.117864   13.245205   \n",
       "Nasdaq  1816.413923  314.072675  250.095056  215.370776  286.706921   \n",
       "\n",
       "              2013       2014        2015        2016       2017  \n",
       "Apple   139.956000   2.914932  231.760102  195.779125  36.293278  \n",
       "Nasdaq   79.845861  12.702637   27.213188   95.035492  40.229314  "
      ]
     },
     "execution_count": 120,
     "metadata": {},
     "output_type": "execute_result"
    }
   ],
   "source": [
    "dd10y = pd.concat(dd2, axis=1)\n",
    "dd10y"
   ]
  },
  {
   "cell_type": "markdown",
   "metadata": {},
   "source": [
    "Again, the 2008 value for apple shows a discrepancy with the script."
   ]
  },
  {
   "cell_type": "code",
   "execution_count": 121,
   "metadata": {},
   "outputs": [
    {
     "data": {
      "text/plain": [
       "Apple     0.152915\n",
       "Nasdaq    0.022727\n",
       "dtype: float64"
      ]
     },
     "execution_count": 121,
     "metadata": {},
     "output_type": "execute_result"
    }
   ],
   "source": [
    "A_N.mean().values/np.sqrt(dd10y.sum(axis=1)/(dd10y.shape[1]-1))"
   ]
  },
  {
   "cell_type": "markdown",
   "metadata": {},
   "source": [
    "---\n",
    "### Sortino Ratio\n",
    "Deviating from the script, we don't write the square root here, as it is already provided by $\\text{LPM}$\n",
    "$$\n",
    "\\text{SO}_{xp} = \\frac{\\bar{r}_{xp}}{\\text{LPM}(\\Psi)_{2p}}\n",
    "$$"
   ]
  },
  {
   "cell_type": "code",
   "execution_count": 122,
   "metadata": {},
   "outputs": [
    {
     "data": {
      "text/plain": [
       "[6.6418469761741505, 6.091935597209448]"
      ]
     },
     "execution_count": 122,
     "metadata": {},
     "output_type": "execute_result"
    }
   ],
   "source": [
    "lpm20 = [lpm(apple, 2, 0), lpm(nasdaq, 2, 0)]\n",
    "lpm20"
   ]
  },
  {
   "cell_type": "code",
   "execution_count": 123,
   "metadata": {},
   "outputs": [
    {
     "data": {
      "text/plain": [
       "ex_ret_Apple     0.234214\n",
       "ex_ret_Nasdaq    0.069659\n",
       "dtype: float64"
      ]
     },
     "execution_count": 123,
     "metadata": {},
     "output_type": "execute_result"
    }
   ],
   "source": [
    "A_N.mean() / lpm20"
   ]
  },
  {
   "cell_type": "markdown",
   "metadata": {},
   "source": [
    "---\n",
    "### Return on Probability of Shortfall (RoPS)\n",
    "$$\n",
    "\\text{RoPS}_{xp} = \\frac{\\bar{r}_{xp}}{\\text{LPM}(\\Psi)_{0p}}\n",
    "$$"
   ]
  },
  {
   "cell_type": "code",
   "execution_count": 124,
   "metadata": {},
   "outputs": [
    {
     "data": {
      "text/plain": [
       "ex_ret_Apple     3.938678\n",
       "ex_ret_Nasdaq    1.009967\n",
       "dtype: float64"
      ]
     },
     "execution_count": 124,
     "metadata": {},
     "output_type": "execute_result"
    }
   ],
   "source": [
    "lpm00 = [lpm(apple, 0, 0), lpm(nasdaq, 0, 0)]\n",
    "A_N.mean()/lpm00"
   ]
  },
  {
   "cell_type": "markdown",
   "metadata": {},
   "source": [
    "---\n",
    "### Kappa 1 and Kappa 3\n",
    "$$\n",
    "\\text{Kn}_{xp} = \\frac{\\bar{r}_{xp}}{\\text{LPM}(\\Psi)_{np}}, n\\in{1,3}\n",
    "$$"
   ]
  },
  {
   "cell_type": "code",
   "execution_count": 125,
   "metadata": {},
   "outputs": [
    {
     "data": {
      "text/plain": [
       "ex_ret_Apple     0.577112\n",
       "ex_ret_Nasdaq    0.157398\n",
       "dtype: float64"
      ]
     },
     "execution_count": 125,
     "metadata": {},
     "output_type": "execute_result"
    }
   ],
   "source": [
    "lpm10 = [lpm(apple, 1, 0), lpm(nasdaq, 1, 0)]\n",
    "A_N.mean()/lpm10"
   ]
  },
  {
   "cell_type": "code",
   "execution_count": 126,
   "metadata": {},
   "outputs": [
    {
     "data": {
      "text/plain": [
       "ex_ret_Apple     0.145875\n",
       "ex_ret_Nasdaq    0.043595\n",
       "dtype: float64"
      ]
     },
     "execution_count": 126,
     "metadata": {},
     "output_type": "execute_result"
    }
   ],
   "source": [
    "lpm30 = [lpm(apple, 3, 0), lpm(nasdaq, 3, 0)]\n",
    "A_N.mean()/lpm30"
   ]
  },
  {
   "cell_type": "markdown",
   "metadata": {},
   "source": [
    "---\n",
    "### Return on Value at Risk (RoVaR)\n",
    "$$\n",
    "\\text{RoVaR}_{xp} = \\frac{\\bar{r}_{xp}}{|\\text{VaR}_{xp}|}\n",
    "$$"
   ]
  },
  {
   "cell_type": "code",
   "execution_count": 127,
   "metadata": {},
   "outputs": [
    {
     "data": {
      "text/plain": [
       "ex_ret_Apple     0.038963\n",
       "ex_ret_Nasdaq    0.010503\n",
       "dtype: float64"
      ]
     },
     "execution_count": 127,
     "metadata": {},
     "output_type": "execute_result"
    }
   ],
   "source": [
    "stocks_rovar = A_N.mean()/VaR\n",
    "stocks_rovar"
   ]
  },
  {
   "cell_type": "markdown",
   "metadata": {},
   "source": [
    "---\n",
    "\n",
    "## Fama/French 3-Factor Model\n",
    "You can [Download the monthly data](http://mba.tuck.dartmouth.edu/pages/faculty/ken.french/data_library.html#Developed). However, I already have it here."
   ]
  },
  {
   "cell_type": "code",
   "execution_count": 144,
   "metadata": {},
   "outputs": [
    {
     "data": {
      "text/html": [
       "<div>\n",
       "<style scoped>\n",
       "    .dataframe tbody tr th:only-of-type {\n",
       "        vertical-align: middle;\n",
       "    }\n",
       "\n",
       "    .dataframe tbody tr th {\n",
       "        vertical-align: top;\n",
       "    }\n",
       "\n",
       "    .dataframe thead th {\n",
       "        text-align: right;\n",
       "    }\n",
       "</style>\n",
       "<table border=\"1\" class=\"dataframe\">\n",
       "  <thead>\n",
       "    <tr style=\"text-align: right;\">\n",
       "      <th></th>\n",
       "      <th>year_month</th>\n",
       "      <th>mkt</th>\n",
       "      <th>smb</th>\n",
       "      <th>hml</th>\n",
       "    </tr>\n",
       "  </thead>\n",
       "  <tbody>\n",
       "    <tr>\n",
       "      <th>0</th>\n",
       "      <td>192607</td>\n",
       "      <td>2.96</td>\n",
       "      <td>-2.30</td>\n",
       "      <td>-2.87</td>\n",
       "    </tr>\n",
       "    <tr>\n",
       "      <th>1</th>\n",
       "      <td>192608</td>\n",
       "      <td>2.64</td>\n",
       "      <td>-1.40</td>\n",
       "      <td>4.19</td>\n",
       "    </tr>\n",
       "    <tr>\n",
       "      <th>2</th>\n",
       "      <td>192609</td>\n",
       "      <td>0.36</td>\n",
       "      <td>-1.32</td>\n",
       "      <td>0.01</td>\n",
       "    </tr>\n",
       "    <tr>\n",
       "      <th>3</th>\n",
       "      <td>192610</td>\n",
       "      <td>-3.24</td>\n",
       "      <td>0.04</td>\n",
       "      <td>0.51</td>\n",
       "    </tr>\n",
       "    <tr>\n",
       "      <th>4</th>\n",
       "      <td>192611</td>\n",
       "      <td>2.53</td>\n",
       "      <td>-0.20</td>\n",
       "      <td>-0.35</td>\n",
       "    </tr>\n",
       "  </tbody>\n",
       "</table>\n",
       "</div>"
      ],
      "text/plain": [
       "   year_month   mkt   smb   hml\n",
       "0      192607  2.96 -2.30 -2.87\n",
       "1      192608  2.64 -1.40  4.19\n",
       "2      192609  0.36 -1.32  0.01\n",
       "3      192610 -3.24  0.04  0.51\n",
       "4      192611  2.53 -0.20 -0.35"
      ]
     },
     "execution_count": 144,
     "metadata": {},
     "output_type": "execute_result"
    }
   ],
   "source": [
    "fama_us = pd.read_csv('F-F_Research_Data_Factors.CSV', header=None, usecols=[0,1,2,3])\n",
    "fama_us.columns = ['year_month', 'mkt', 'smb', 'hml']\n",
    "fama_us.head()"
   ]
  },
  {
   "cell_type": "code",
   "execution_count": 145,
   "metadata": {},
   "outputs": [
    {
     "data": {
      "text/html": [
       "<div>\n",
       "<style scoped>\n",
       "    .dataframe tbody tr th:only-of-type {\n",
       "        vertical-align: middle;\n",
       "    }\n",
       "\n",
       "    .dataframe tbody tr th {\n",
       "        vertical-align: top;\n",
       "    }\n",
       "\n",
       "    .dataframe thead th {\n",
       "        text-align: right;\n",
       "    }\n",
       "</style>\n",
       "<table border=\"1\" class=\"dataframe\">\n",
       "  <thead>\n",
       "    <tr style=\"text-align: right;\">\n",
       "      <th></th>\n",
       "      <th>mkt</th>\n",
       "      <th>smb</th>\n",
       "      <th>hml</th>\n",
       "    </tr>\n",
       "    <tr>\n",
       "      <th>Date</th>\n",
       "      <th></th>\n",
       "      <th></th>\n",
       "      <th></th>\n",
       "    </tr>\n",
       "  </thead>\n",
       "  <tbody>\n",
       "    <tr>\n",
       "      <th>1926-07-31</th>\n",
       "      <td>2.96</td>\n",
       "      <td>-2.30</td>\n",
       "      <td>-2.87</td>\n",
       "    </tr>\n",
       "    <tr>\n",
       "      <th>1926-08-31</th>\n",
       "      <td>2.64</td>\n",
       "      <td>-1.40</td>\n",
       "      <td>4.19</td>\n",
       "    </tr>\n",
       "    <tr>\n",
       "      <th>1926-09-30</th>\n",
       "      <td>0.36</td>\n",
       "      <td>-1.32</td>\n",
       "      <td>0.01</td>\n",
       "    </tr>\n",
       "    <tr>\n",
       "      <th>1926-10-31</th>\n",
       "      <td>-3.24</td>\n",
       "      <td>0.04</td>\n",
       "      <td>0.51</td>\n",
       "    </tr>\n",
       "    <tr>\n",
       "      <th>1926-11-30</th>\n",
       "      <td>2.53</td>\n",
       "      <td>-0.20</td>\n",
       "      <td>-0.35</td>\n",
       "    </tr>\n",
       "  </tbody>\n",
       "</table>\n",
       "</div>"
      ],
      "text/plain": [
       "             mkt   smb   hml\n",
       "Date                        \n",
       "1926-07-31  2.96 -2.30 -2.87\n",
       "1926-08-31  2.64 -1.40  4.19\n",
       "1926-09-30  0.36 -1.32  0.01\n",
       "1926-10-31 -3.24  0.04  0.51\n",
       "1926-11-30  2.53 -0.20 -0.35"
      ]
     },
     "execution_count": 145,
     "metadata": {},
     "output_type": "execute_result"
    }
   ],
   "source": [
    "fama_us['Date']=pd.to_datetime(fama_us['year_month'].apply(str)+'01', yearfirst=True).dt.date + pd.tseries.offsets.MonthEnd(0)\n",
    "fama_us.set_index('Date', inplace=True)\n",
    "fama_us.drop(['year_month'], axis=1, inplace=True)\n",
    "fama_us.head()"
   ]
  },
  {
   "cell_type": "code",
   "execution_count": 146,
   "metadata": {},
   "outputs": [],
   "source": [
    "fama_us = fama_us['2008-01-31':'2017-12-31']"
   ]
  },
  {
   "cell_type": "code",
   "execution_count": 147,
   "metadata": {},
   "outputs": [
    {
     "name": "stdout",
     "output_type": "stream",
     "text": [
      "<class 'pandas.core.frame.DataFrame'>\n",
      "DatetimeIndex: 120 entries, 2008-01-31 to 2017-12-31\n",
      "Data columns (total 3 columns):\n",
      "mkt    120 non-null float64\n",
      "smb    120 non-null float64\n",
      "hml    120 non-null float64\n",
      "dtypes: float64(3)\n",
      "memory usage: 3.8 KB\n"
     ]
    }
   ],
   "source": [
    "fama_us.info()"
   ]
  },
  {
   "cell_type": "code",
   "execution_count": 148,
   "metadata": {},
   "outputs": [
    {
     "data": {
      "text/html": [
       "<div>\n",
       "<style scoped>\n",
       "    .dataframe tbody tr th:only-of-type {\n",
       "        vertical-align: middle;\n",
       "    }\n",
       "\n",
       "    .dataframe tbody tr th {\n",
       "        vertical-align: top;\n",
       "    }\n",
       "\n",
       "    .dataframe thead th {\n",
       "        text-align: right;\n",
       "    }\n",
       "</style>\n",
       "<table border=\"1\" class=\"dataframe\">\n",
       "  <thead>\n",
       "    <tr style=\"text-align: right;\">\n",
       "      <th></th>\n",
       "      <th>Apple</th>\n",
       "      <th>Nasdaq</th>\n",
       "      <th>ir_3m</th>\n",
       "      <th>log_ret_Apple</th>\n",
       "      <th>log_ret_Nasdaq</th>\n",
       "      <th>ir</th>\n",
       "      <th>ex_ret_Apple</th>\n",
       "      <th>ex_ret_Nasdaq</th>\n",
       "      <th>ex_Nasdaq_Apple</th>\n",
       "      <th>mkt</th>\n",
       "      <th>smb</th>\n",
       "      <th>hml</th>\n",
       "    </tr>\n",
       "    <tr>\n",
       "      <th>Date</th>\n",
       "      <th></th>\n",
       "      <th></th>\n",
       "      <th></th>\n",
       "      <th></th>\n",
       "      <th></th>\n",
       "      <th></th>\n",
       "      <th></th>\n",
       "      <th></th>\n",
       "      <th></th>\n",
       "      <th></th>\n",
       "      <th></th>\n",
       "      <th></th>\n",
       "    </tr>\n",
       "  </thead>\n",
       "  <tbody>\n",
       "    <tr>\n",
       "      <th>2008-01-31</th>\n",
       "      <td>17.395647</td>\n",
       "      <td>41.993721</td>\n",
       "      <td>2.12</td>\n",
       "      <td>-38.073309</td>\n",
       "      <td>-6.727683</td>\n",
       "      <td>0.141846</td>\n",
       "      <td>-38.215155</td>\n",
       "      <td>-6.869529</td>\n",
       "      <td>-31.345627</td>\n",
       "      <td>-6.36</td>\n",
       "      <td>-0.89</td>\n",
       "      <td>3.65</td>\n",
       "    </tr>\n",
       "    <tr>\n",
       "      <th>2008-02-29</th>\n",
       "      <td>16.066812</td>\n",
       "      <td>37.673640</td>\n",
       "      <td>1.26</td>\n",
       "      <td>-7.946417</td>\n",
       "      <td>-10.855944</td>\n",
       "      <td>0.091318</td>\n",
       "      <td>-8.037735</td>\n",
       "      <td>-10.947262</td>\n",
       "      <td>2.909527</td>\n",
       "      <td>-3.09</td>\n",
       "      <td>-0.23</td>\n",
       "      <td>-0.95</td>\n",
       "    </tr>\n",
       "    <tr>\n",
       "      <th>2008-03-31</th>\n",
       "      <td>18.441750</td>\n",
       "      <td>35.087038</td>\n",
       "      <td>1.29</td>\n",
       "      <td>13.786131</td>\n",
       "      <td>-7.112889</td>\n",
       "      <td>0.093215</td>\n",
       "      <td>13.692916</td>\n",
       "      <td>-7.206104</td>\n",
       "      <td>20.899020</td>\n",
       "      <td>-0.93</td>\n",
       "      <td>0.94</td>\n",
       "      <td>-0.15</td>\n",
       "    </tr>\n",
       "    <tr>\n",
       "      <th>2008-04-30</th>\n",
       "      <td>22.354999</td>\n",
       "      <td>33.081286</td>\n",
       "      <td>1.73</td>\n",
       "      <td>19.243287</td>\n",
       "      <td>-5.886402</td>\n",
       "      <td>0.119873</td>\n",
       "      <td>19.123414</td>\n",
       "      <td>-6.006274</td>\n",
       "      <td>25.129688</td>\n",
       "      <td>4.60</td>\n",
       "      <td>-1.64</td>\n",
       "      <td>-0.96</td>\n",
       "    </tr>\n",
       "    <tr>\n",
       "      <th>2008-05-31</th>\n",
       "      <td>24.257006</td>\n",
       "      <td>31.792523</td>\n",
       "      <td>1.86</td>\n",
       "      <td>8.165549</td>\n",
       "      <td>-3.973662</td>\n",
       "      <td>0.127359</td>\n",
       "      <td>8.038190</td>\n",
       "      <td>-4.101021</td>\n",
       "      <td>12.139211</td>\n",
       "      <td>1.86</td>\n",
       "      <td>3.22</td>\n",
       "      <td>-1.38</td>\n",
       "    </tr>\n",
       "  </tbody>\n",
       "</table>\n",
       "</div>"
      ],
      "text/plain": [
       "                Apple     Nasdaq  ir_3m  log_ret_Apple  log_ret_Nasdaq  \\\n",
       "Date                                                                     \n",
       "2008-01-31  17.395647  41.993721   2.12     -38.073309       -6.727683   \n",
       "2008-02-29  16.066812  37.673640   1.26      -7.946417      -10.855944   \n",
       "2008-03-31  18.441750  35.087038   1.29      13.786131       -7.112889   \n",
       "2008-04-30  22.354999  33.081286   1.73      19.243287       -5.886402   \n",
       "2008-05-31  24.257006  31.792523   1.86       8.165549       -3.973662   \n",
       "\n",
       "                  ir  ex_ret_Apple  ex_ret_Nasdaq  ex_Nasdaq_Apple   mkt  \\\n",
       "Date                                                                       \n",
       "2008-01-31  0.141846    -38.215155      -6.869529       -31.345627 -6.36   \n",
       "2008-02-29  0.091318     -8.037735     -10.947262         2.909527 -3.09   \n",
       "2008-03-31  0.093215     13.692916      -7.206104        20.899020 -0.93   \n",
       "2008-04-30  0.119873     19.123414      -6.006274        25.129688  4.60   \n",
       "2008-05-31  0.127359      8.038190      -4.101021        12.139211  1.86   \n",
       "\n",
       "             smb   hml  \n",
       "Date                    \n",
       "2008-01-31 -0.89  3.65  \n",
       "2008-02-29 -0.23 -0.95  \n",
       "2008-03-31  0.94 -0.15  \n",
       "2008-04-30 -1.64 -0.96  \n",
       "2008-05-31  3.22 -1.38  "
      ]
     },
     "execution_count": 148,
     "metadata": {},
     "output_type": "execute_result"
    }
   ],
   "source": [
    "stocks_fama = pd.concat([stocks_data, fama_us], axis=1)\n",
    "stocks_fama.head()"
   ]
  },
  {
   "cell_type": "code",
   "execution_count": 149,
   "metadata": {},
   "outputs": [],
   "source": [
    "%matplotlib inline"
   ]
  },
  {
   "cell_type": "code",
   "execution_count": 151,
   "metadata": {},
   "outputs": [],
   "source": [
    "import matplotlib\n",
    "import matplotlib.pyplot as plt\n",
    "matplotlib.rcParams['figure.figsize']=[14, 10]"
   ]
  },
  {
   "cell_type": "code",
   "execution_count": 154,
   "metadata": {},
   "outputs": [
    {
     "data": {
      "image/png": "[encoded data removed]",
      "text/plain": [
       "<Figure size 1008x720 with 1 Axes>"
      ]
     },
     "metadata": {
      "needs_background": "light"
     },
     "output_type": "display_data"
    }
   ],
   "source": [
    "plt.plot(stocks_fama['ex_ret_Apple'], 'r-', label='Excess return of Apple')\n",
    "plt.plot(stocks_fama['ex_ret_Nasdaq'], 'b-', label='Excess return of Nasdaq')\n",
    "plt.plot(stocks_fama['smb'], 'g--', label='SMB US')\n",
    "plt.plot(stocks_fama['hml'], 'y-*', label='HML US')\n",
    "plt.legend(loc='lower right')\n",
    "plt.savefig('Apple_Nasdaq_SMB_HML.png', bbox_inches='tight')\n",
    "plt.show()"
   ]
  },
  {
   "cell_type": "code",
   "execution_count": 155,
   "metadata": {},
   "outputs": [],
   "source": [
    "import statsmodels.formula.api as smf"
   ]
  },
  {
   "cell_type": "code",
   "execution_count": 158,
   "metadata": {},
   "outputs": [],
   "source": [
    "model = smf.ols(formula='ex_ret_Apple~ex_ret_Nasdaq+smb+hml', data=stocks_fama)"
   ]
  },
  {
   "cell_type": "code",
   "execution_count": 159,
   "metadata": {},
   "outputs": [],
   "source": [
    "results = model.fit(cov_type='HAC', cov_kwds={'maxlags': 12, 'use_correction':True})"
   ]
  },
  {
   "cell_type": "code",
   "execution_count": 160,
   "metadata": {},
   "outputs": [
    {
     "name": "stdout",
     "output_type": "stream",
     "text": [
      "                            OLS Regression Results                            \n",
      "==============================================================================\n",
      "Dep. Variable:           ex_ret_Apple   R-squared:                       0.091\n",
      "Model:                            OLS   Adj. R-squared:                  0.067\n",
      "Method:                 Least Squares   F-statistic:                     2.457\n",
      "Date:                Wed, 17 Apr 2019   Prob (F-statistic):             0.0665\n",
      "Time:                        00:14:05   Log-Likelihood:                -430.31\n",
      "No. Observations:                 120   AIC:                             868.6\n",
      "Df Residuals:                     116   BIC:                             879.8\n",
      "Df Model:                           3                                         \n",
      "Covariance Type:                  HAC                                         \n",
      "=================================================================================\n",
      "                    coef    std err          z      P>|z|      [0.025      0.975]\n",
      "---------------------------------------------------------------------------------\n",
      "Intercept         1.3401      0.949      1.412      0.158      -0.520       3.200\n",
      "ex_ret_Nasdaq     0.3045      0.116      2.625      0.009       0.077       0.532\n",
      "smb               0.3291      0.345      0.955      0.339      -0.346       1.004\n",
      "hml              -0.6550      0.483     -1.355      0.175      -1.603       0.293\n",
      "==============================================================================\n",
      "Omnibus:                       26.025   Durbin-Watson:                   1.446\n",
      "Prob(Omnibus):                  0.000   Jarque-Bera (JB):               57.605\n",
      "Skew:                          -0.852   Prob(JB):                     3.10e-13\n",
      "Kurtosis:                       5.936   Cond. No.                         7.95\n",
      "==============================================================================\n",
      "\n",
      "Warnings:\n",
      "[1] Standard Errors are heteroscedasticity and autocorrelation robust (HAC) using 12 lags and with small sample correction\n"
     ]
    }
   ],
   "source": [
    "print(results.summary())"
   ]
  },
  {
   "cell_type": "code",
   "execution_count": null,
   "metadata": {},
   "outputs": [],
   "source": []
  }
 ],
 "metadata": {
  "kernelspec": {
   "display_name": "Python 3",
   "language": "python",
   "name": "python3"
  },
  "language_info": {
   "codemirror_mode": {
    "name": "ipython",
    "version": 3
   },
   "file_extension": ".py",
   "mimetype": "text/x-python",
   "name": "python",
   "nbconvert_exporter": "python",
   "pygments_lexer": "ipython3",
   "version": "3.6.4"
  }
 },
 "nbformat": 4,
 "nbformat_minor": 2
}
