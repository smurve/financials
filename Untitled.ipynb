{
 "cells": [
  {
   "cell_type": "code",
   "execution_count": 1,
   "metadata": {},
   "outputs": [],
   "source": [
    "%load_ext autoreload\n",
    "%autoreload 2"
   ]
  },
  {
   "cell_type": "code",
   "execution_count": 2,
   "metadata": {},
   "outputs": [],
   "source": [
    "import warnings\n",
    "warnings.filterwarnings('ignore')"
   ]
  },
  {
   "cell_type": "code",
   "execution_count": 3,
   "metadata": {},
   "outputs": [
    {
     "name": "stdout",
     "output_type": "stream",
     "text": [
      "Running on scylla\n",
      "2 Physical GPUs, 2 Logical GPUs\n",
      "Tensorflow version is: 2.0.0-beta0\n",
      "GPU available for TF:  True\n"
     ]
    }
   ],
   "source": [
    "import numpy as np\n",
    "import seaborn as sns\n",
    "import tensorflow as tf\n",
    "\n",
    "host,=!uname -n\n",
    "print(\"Running on \" + host)\n",
    "gpus = tf.config.experimental.list_physical_devices('GPU')\n",
    "if gpus:\n",
    "    try:\n",
    "    # Currently, memory growth needs to be the same across GPUs\n",
    "        for gpu in gpus:\n",
    "            tf.config.experimental.set_memory_growth(gpu, True)\n",
    "        logical_gpus = tf.config.experimental.list_logical_devices('GPU')\n",
    "        print(len(gpus), \"Physical GPUs,\", len(logical_gpus), \"Logical GPUs\")\n",
    "    except RuntimeError as e:\n",
    "        # Memory growth must be set before GPUs have been initialized\n",
    "        print(e)\n",
    "print(\"Tensorflow version is: %s\" % tf.__version__)\n",
    "print(\"GPU available for TF:  %s\" % tf.test.is_gpu_available())"
   ]
  },
  {
   "cell_type": "raw",
   "metadata": {},
   "source": [
    "from tensorflow.python.framework.ops import disable_eager_execution\n",
    "disable_eager_execution()"
   ]
  },
  {
   "cell_type": "code",
   "execution_count": 4,
   "metadata": {},
   "outputs": [],
   "source": [
    "import tensorflow.keras.layers as tkl"
   ]
  },
  {
   "cell_type": "code",
   "execution_count": 15,
   "metadata": {},
   "outputs": [],
   "source": [
    "s_i = np.random.random([7, 3]).astype(np.float32)\n",
    "a_i = np.random.random([7,2]).astype(np.float32)\n",
    "s_i1 = np.random.random([7, 3]).astype(np.float32)\n",
    "r_i = np.random.random([7, 1]).astype(np.float32)\n",
    "gamma=0.9"
   ]
  },
  {
   "cell_type": "code",
   "execution_count": 31,
   "metadata": {},
   "outputs": [],
   "source": [
    "inp_s_i = tf.keras.Input(shape=[3], dtype=tf.float32, name=\"s_i\")\n",
    "inp_s_i1 = tf.keras.Input(shape=[3], dtype=tf.float32)\n",
    "inp_a_i = tf.keras.Input(shape=[2], dtype=tf.float32, name=\"a_i\")\n",
    "inp_sa_i = tf.keras.Input(shape=[5], dtype=tf.float32, name=\"sa_i\")\n",
    "inp_r_i = tf.keras.Input(shape=[1], dtype=tf.float32)"
   ]
  },
  {
   "cell_type": "markdown",
   "metadata": {},
   "source": [
    "### Compute Q-targets with $Q^\\prime(s_{i+1}, \\mu^\\prime(s_{i+1}))$\n"
   ]
  },
  {
   "cell_type": "code",
   "execution_count": 98,
   "metadata": {},
   "outputs": [],
   "source": [
    "_mu_p = tkl.Dense(units=2)(inp_s_i1)\n",
    "mu_p = tf.keras.Model(inputs=inp_s_i1, outputs = _mu_p)\n",
    "#mu_p(s_i)"
   ]
  },
  {
   "cell_type": "code",
   "execution_count": 102,
   "metadata": {},
   "outputs": [
    {
     "data": {
      "text/plain": [
       "<tf.Tensor: id=4780, shape=(7, 1), dtype=float32, numpy=\n",
       "array([[ 0.03405249],\n",
       "       [-0.27064836],\n",
       "       [-0.16780281],\n",
       "       [-0.27436382],\n",
       "       [ 0.25991043],\n",
       "       [-0.2601297 ],\n",
       "       [-0.21631756]], dtype=float32)>"
      ]
     },
     "execution_count": 102,
     "metadata": {},
     "output_type": "execute_result"
    }
   ],
   "source": [
    "_qa = tf.concat([inp_s_i1, _mu_p], axis=1)\n",
    "_q_p = tkl.Dense(units=1)(_qa)\n",
    "q_p = tf.keras.Model(inputs = inp_s_i1, outputs = _q_p)\n",
    "q_p(s_i1)"
   ]
  },
  {
   "cell_type": "code",
   "execution_count": 103,
   "metadata": {},
   "outputs": [
    {
     "data": {
      "text/plain": [
       "((7, 1), TensorShape([7, 1]))"
      ]
     },
     "execution_count": 103,
     "metadata": {},
     "output_type": "execute_result"
    }
   ],
   "source": [
    "np.shape(r_i), q_p(s_i1).shape"
   ]
  },
  {
   "cell_type": "code",
   "execution_count": 104,
   "metadata": {},
   "outputs": [
    {
     "data": {
      "text/plain": [
       "<tf.Tensor: id=4805, shape=(7, 1), dtype=float32, numpy=\n",
       "array([[0.4604171 ],\n",
       "       [0.66652423],\n",
       "       [0.64694166],\n",
       "       [0.3128847 ],\n",
       "       [0.32144117],\n",
       "       [0.11276259],\n",
       "       [0.38577908]], dtype=float32)>"
      ]
     },
     "execution_count": 104,
     "metadata": {},
     "output_type": "execute_result"
    }
   ],
   "source": [
    "y_i = r_i + gamma * q_p(s_i1)\n",
    "y_i"
   ]
  },
  {
   "cell_type": "markdown",
   "metadata": {},
   "source": [
    "### Update the primary critic $Q(s,a)$"
   ]
  },
  {
   "cell_type": "code",
   "execution_count": 95,
   "metadata": {},
   "outputs": [],
   "source": [
    "sa_i = np.concatenate([s_i, a_i], axis=-1)\n",
    "#sa_i"
   ]
  },
  {
   "cell_type": "code",
   "execution_count": 118,
   "metadata": {},
   "outputs": [],
   "source": [
    "QWeights = tkl.Dense(units=1)\n",
    "_qsa = QWeights(inp_sa_i)\n",
    "q = tf.keras.Model(inputs = [inp_sa_i], outputs = _qsa)\n",
    "#q(sa_i)"
   ]
  },
  {
   "cell_type": "code",
   "execution_count": 108,
   "metadata": {},
   "outputs": [],
   "source": [
    "L = tf.keras.losses.mean_squared_error"
   ]
  },
  {
   "cell_type": "code",
   "execution_count": 109,
   "metadata": {},
   "outputs": [],
   "source": [
    "q.compile(optimizer='sgd', loss=L)"
   ]
  },
  {
   "cell_type": "code",
   "execution_count": 115,
   "metadata": {},
   "outputs": [
    {
     "name": "stdout",
     "output_type": "stream",
     "text": [
      "Train on 7 samples\n",
      "7/7 [==============================] - 0s 197us/sample - loss: 0.8965\n"
     ]
    },
    {
     "data": {
      "text/plain": [
       "<tensorflow.python.keras.callbacks.History at 0x7f15501e7cf8>"
      ]
     },
     "execution_count": 115,
     "metadata": {},
     "output_type": "execute_result"
    }
   ],
   "source": [
    "q.fit(x=sa_i, y=y_i, epochs=1)"
   ]
  },
  {
   "cell_type": "markdown",
   "metadata": {},
   "source": [
    "### Update the actor policy using $\\nabla_\\theta J$"
   ]
  },
  {
   "cell_type": "code",
   "execution_count": 116,
   "metadata": {},
   "outputs": [
    {
     "data": {
      "text/plain": [
       "[<tf.Variable 'dense_11/kernel:0' shape=(5, 1) dtype=float32, numpy=\n",
       " array([[-0.48475665],\n",
       "        [ 0.79936653],\n",
       "        [ 0.88704085],\n",
       "        [ 0.19409314],\n",
       "        [ 0.8269266 ]], dtype=float32)>,\n",
       " <tf.Variable 'dense_11/bias:0' shape=(1,) dtype=float32, numpy=array([-0.11527392], dtype=float32)>]"
      ]
     },
     "execution_count": 116,
     "metadata": {},
     "output_type": "execute_result"
    }
   ],
   "source": [
    "q.trainable_variables"
   ]
  },
  {
   "cell_type": "code",
   "execution_count": null,
   "metadata": {},
   "outputs": [],
   "source": []
  }
 ],
 "metadata": {
  "kernelspec": {
   "display_name": "Python 3",
   "language": "python",
   "name": "python3"
  },
  "language_info": {
   "codemirror_mode": {
    "name": "ipython",
    "version": 3
   },
   "file_extension": ".py",
   "mimetype": "text/x-python",
   "name": "python",
   "nbconvert_exporter": "python",
   "pygments_lexer": "ipython3",
   "version": "3.6.8"
  }
 },
 "nbformat": 4,
 "nbformat_minor": 4
}
