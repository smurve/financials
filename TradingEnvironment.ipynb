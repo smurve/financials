{
 "cells": [
  {
   "cell_type": "code",
   "execution_count": 1,
   "metadata": {},
   "outputs": [],
   "source": [
    "%load_ext autoreload\n",
    "%autoreload 2"
   ]
  },
  {
   "cell_type": "code",
   "execution_count": 2,
   "metadata": {},
   "outputs": [],
   "source": [
    "import warnings\n",
    "warnings.filterwarnings('ignore')"
   ]
  },
  {
   "cell_type": "code",
   "execution_count": 3,
   "metadata": {},
   "outputs": [],
   "source": [
    "import numpy as np\n",
    "import seaborn as sns\n",
    "import tensorflow as tf"
   ]
  },
  {
   "cell_type": "code",
   "execution_count": 4,
   "metadata": {},
   "outputs": [],
   "source": [
    "from investors import MomentumInvestor\n",
    "from market_instance import new_market, make_investors\n",
    "from stockmarket import Ask, Bid, Investor"
   ]
  },
  {
   "cell_type": "code",
   "execution_count": 5,
   "metadata": {},
   "outputs": [],
   "source": [
    "class TradingEnvironment:\n",
    "    \"\"\"\n",
    "    This class represents the RL environment of a single investor. It comprises of a\n",
    "    portfolio of holdings - which includes a cash position - and the market with its\n",
    "    players, in this case a bunch of momentum investors with limited reason...;-)\n",
    "    \"\"\"\n",
    "    def __init__(self, config, holdings, market, tx_cost):\n",
    "        self.config = config\n",
    "        self.investor = self.create_investor(holdings)\n",
    "        self.market = market\n",
    "        self.other_investors = make_investors(config['num_investors'])\n",
    "        self.tx_cost = tx_cost\n",
    "        \n",
    "    def create_investor(self, holdings):\n",
    "        cash = holdings['cash']\n",
    "        del(holdings['cash'])\n",
    "        return Investor(\"WB\", cash, holdings)        \n",
    "        \n",
    "    def let_others_trade(self):\n",
    "        for _ in range(config['num_rounds_per_day']):\n",
    "            for investor in self.other_investors:\n",
    "                investor.act(self.market)\n",
    "    \n",
    "    def total_wealth(self):\n",
    "\n",
    "        wealth = self.investor.cash\n",
    "        for ticker in self.investor.portfolio:\n",
    "            size = self.investor.portfolio[ticker]\n",
    "            wealth += size * self.market.price_for(ticker)[1]\n",
    "        return round(wealth,3)\n",
    "    \n",
    "    def normalized_holdings(self):\n",
    "        values = {}\n",
    "        values['cash'] = self.investor.cash\n",
    "        for ticker in self.investor.portfolio:\n",
    "            values[ticker] = holdings[ticker] * self.market.price_for(ticker)[1]\n",
    "        w = environment.total_wealth()\n",
    "        return np.array([v/w for _,v in sorted(values.items())])\n",
    "    \n",
    "    def act(self, new_weights):\n",
    "        \"\"\"\n",
    "        This constitutes a trading day. We act, and then the market moves on.\n",
    "        \"\"\"\n",
    "        market.open()\n",
    "\n",
    "        orders = self.create_orders(new_weights)\n",
    "        for order in orders:\n",
    "            market.execute(order)\n",
    "\n",
    "            total_tx_volume = np.sum(\n",
    "                [order.amount * order.price for order in orders])\n",
    "        \n",
    "        fee = total_tx_volume * self.tx_cost\n",
    "        self.investor.cash = round(self.investor.cash - fee, 3)\n",
    "        \n",
    "        self.let_others_trade()\n",
    "        self.market.close()\n",
    "        \n",
    "        return self.state_rep()\n",
    "    \n",
    "    def state_rep(self):\n",
    "        return \"To be implemented\"\n",
    "    \n",
    "    def create_orders (self, new_weights):\n",
    "        \"\"\"\n",
    "        Create an order book from the target portfolio weights\n",
    "        new_weights: list of normalized weights of the holdings\n",
    "        sorted by the holdings' ticker names, cash last\n",
    "        \"\"\"\n",
    "        cur_weights = self.normalized_holdings()\n",
    "        vols = ((new_weights - cur_weights) * self.total_wealth())[:-1]\n",
    "        holdings = self.investor.portfolio\n",
    "        tickers = sorted(holdings)\n",
    "        prices = np.array([self.market.price_for(t) for t in tickers])\n",
    "\n",
    "        # identify the correct prices for bid and ask transactions\n",
    "        bid_asks = [p[(v<0).astype(int)] for v,p in zip(vols, prices)]\n",
    "\n",
    "        orders = []\n",
    "        for v, ba, t in zip(vols, bid_asks, tickers):\n",
    "            amt = np.abs((v/ba).astype(int))\n",
    "            B_or_A = Bid if v>0 else Ask\n",
    "            if v != 0:\n",
    "                orders.append(B_or_A(price=ba, amount=amt, \n",
    "                                  ticker=t, other_party=self.investor))\n",
    "        return orders"
   ]
  },
  {
   "cell_type": "markdown",
   "metadata": {},
   "source": [
    "### Configuration for the synthetic market"
   ]
  },
  {
   "cell_type": "code",
   "execution_count": 6,
   "metadata": {},
   "outputs": [],
   "source": [
    "config = {\n",
    "    'num_investors': 10,\n",
    "    'num_rounds_per_day': 3\n",
    "}"
   ]
  },
  {
   "cell_type": "markdown",
   "metadata": {},
   "source": [
    "### Our own portfolio"
   ]
  },
  {
   "cell_type": "code",
   "execution_count": 7,
   "metadata": {},
   "outputs": [],
   "source": [
    "holdings = {\n",
    "    'cash': 100000.00, \n",
    "    'TSLA': 300, \n",
    "    'AAPL': 200, \n",
    "    'MSFT': 400}"
   ]
  },
  {
   "cell_type": "markdown",
   "metadata": {},
   "source": [
    "### Create the RL Environment"
   ]
  },
  {
   "cell_type": "code",
   "execution_count": 8,
   "metadata": {},
   "outputs": [],
   "source": [
    "market = new_market()\n",
    "environment = TradingEnvironment(config, holdings, market, 0.002)"
   ]
  },
  {
   "cell_type": "markdown",
   "metadata": {},
   "source": [
    "## The market in action"
   ]
  },
  {
   "cell_type": "code",
   "execution_count": 9,
   "metadata": {},
   "outputs": [],
   "source": [
    "for _ in range(360):\n",
    "    market.open()\n",
    "    daily = environment.let_others_trade()\n",
    "    market.close()"
   ]
  },
  {
   "cell_type": "code",
   "execution_count": 10,
   "metadata": {},
   "outputs": [
    {
     "data": {
      "image/png": "[encoded data removed]",
      "text/plain": [
       "<Figure size 576x288 with 1 Axes>"
      ]
     },
     "metadata": {},
     "output_type": "display_data"
    }
   ],
   "source": [
    "def plot(ticker):\n",
    "    sns.set(rc={'figure.figsize':(8.0,4.0)})\n",
    "    h = market.history_for(ticker)\n",
    "    s = market.stocks[ticker]\n",
    "    p_open, p_close, p_high, p_low = np.transpose(h)\n",
    "    t = np.array(range(len(p_open)))\n",
    "    sns.lineplot(t, p_open);\n",
    "    sns.lineplot(t, [s.psi(tt) for tt in t]);\n",
    "plot('AAPL')"
   ]
  },
  {
   "cell_type": "markdown",
   "metadata": {},
   "source": [
    "## Perform an Action = Re-Balance"
   ]
  },
  {
   "cell_type": "code",
   "execution_count": 11,
   "metadata": {},
   "outputs": [],
   "source": [
    "target_weights = np.array([.1, .3, .4, .2])"
   ]
  },
  {
   "cell_type": "code",
   "execution_count": 12,
   "metadata": {},
   "outputs": [
    {
     "name": "stdout",
     "output_type": "stream",
     "text": [
      "WB (cash: 100000.0, {'TSLA': 300, 'AAPL': 200, 'MSFT': 400}) 251308.7\n",
      "WB (cash: 50186.974, {'TSLA': 698, 'AAPL': 231, 'MSFT': 349}) 251673.266\n"
     ]
    }
   ],
   "source": [
    "investor = environment.investor\n",
    "print(investor, environment.total_wealth())\n",
    "environment.act(target_weights)\n",
    "print(investor, environment.total_wealth())"
   ]
  },
  {
   "cell_type": "code",
   "execution_count": 13,
   "metadata": {},
   "outputs": [
    {
     "data": {
      "text/plain": [
       "array([0.0993121 , 0.29599509, 0.40527961, 0.19941321])"
      ]
     },
     "execution_count": 13,
     "metadata": {},
     "output_type": "execute_result"
    }
   ],
   "source": [
    "# slightly off-target because of integer stock counts and the trading costs.\n",
    "environment.normalized_holdings()"
   ]
  },
  {
   "cell_type": "code",
   "execution_count": null,
   "metadata": {},
   "outputs": [],
   "source": []
  }
 ],
 "metadata": {
  "kernelspec": {
   "display_name": "Python 3",
   "language": "python",
   "name": "python3"
  },
  "language_info": {
   "codemirror_mode": {
    "name": "ipython",
    "version": 3
   },
   "file_extension": ".py",
   "mimetype": "text/x-python",
   "name": "python",
   "nbconvert_exporter": "python",
   "pygments_lexer": "ipython3",
   "version": "3.6.8"
  }
 },
 "nbformat": 4,
 "nbformat_minor": 4
}
