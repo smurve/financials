{
 "cells": [
  {
   "cell_type": "code",
   "execution_count": null,
   "metadata": {},
   "outputs": [],
   "source": [
    "%load_ext autoreload\n",
    "%autoreload 2"
   ]
  },
  {
   "cell_type": "code",
   "execution_count": null,
   "metadata": {},
   "outputs": [],
   "source": [
    "import warnings\n",
    "warnings.filterwarnings('ignore')"
   ]
  },
  {
   "cell_type": "code",
   "execution_count": null,
   "metadata": {},
   "outputs": [],
   "source": [
    "import numpy as np\n",
    "import seaborn as sns\n",
    "import tensorflow as tf"
   ]
  },
  {
   "cell_type": "code",
   "execution_count": null,
   "metadata": {},
   "outputs": [],
   "source": [
    "from environment import TradingEnvironment\n",
    "from market_instance import new_market, make_investors"
   ]
  },
  {
   "cell_type": "markdown",
   "metadata": {},
   "source": [
    "### Configuration for the synthetic market"
   ]
  },
  {
   "cell_type": "code",
   "execution_count": null,
   "metadata": {},
   "outputs": [],
   "source": [
    "config = {\n",
    "    'num_investors': 10,\n",
    "    'num_rounds_per_day': 3\n",
    "}"
   ]
  },
  {
   "cell_type": "markdown",
   "metadata": {},
   "source": [
    "### Our own portfolio"
   ]
  },
  {
   "cell_type": "code",
   "execution_count": null,
   "metadata": {},
   "outputs": [],
   "source": [
    "holdings = {\n",
    "    'cash': 100000.00, \n",
    "    'TSLA': 300, \n",
    "    'AAPL': 200, \n",
    "    'MSFT': 400}"
   ]
  },
  {
   "cell_type": "markdown",
   "metadata": {},
   "source": [
    "### Create the RL Environment"
   ]
  },
  {
   "cell_type": "code",
   "execution_count": null,
   "metadata": {},
   "outputs": [],
   "source": [
    "market = new_market()\n",
    "environment = TradingEnvironment(config, holdings, market, 0.002)"
   ]
  },
  {
   "cell_type": "markdown",
   "metadata": {},
   "source": [
    "## The market in action"
   ]
  },
  {
   "cell_type": "code",
   "execution_count": null,
   "metadata": {},
   "outputs": [],
   "source": [
    "for _ in range(360):\n",
    "    market.open()\n",
    "    daily = environment.let_others_trade()\n",
    "    market.close()"
   ]
  },
  {
   "cell_type": "code",
   "execution_count": null,
   "metadata": {},
   "outputs": [],
   "source": [
    "def plot(ticker):\n",
    "    sns.set(rc={'figure.figsize':(8.0,4.0)})\n",
    "    h = market.history_for(ticker)\n",
    "    s = market.stocks[ticker]\n",
    "    p_open, p_close, p_high, p_low = np.transpose(h)\n",
    "    t = np.array(range(len(p_open)))\n",
    "    sns.lineplot(t, p_open);\n",
    "    sns.lineplot(t, [s.psi(tt) for tt in t]);\n",
    "plot('AAPL')"
   ]
  },
  {
   "cell_type": "markdown",
   "metadata": {},
   "source": [
    "## Perform an Action = Re-Balance"
   ]
  },
  {
   "cell_type": "code",
   "execution_count": null,
   "metadata": {},
   "outputs": [],
   "source": [
    "target_weights = np.array([.1, .3, .4, .2])"
   ]
  },
  {
   "cell_type": "code",
   "execution_count": null,
   "metadata": {},
   "outputs": [],
   "source": [
    "investor = environment.investor\n",
    "print(investor, environment.total_wealth())\n",
    "environment.act(target_weights)\n",
    "print(investor, environment.total_wealth())"
   ]
  },
  {
   "cell_type": "code",
   "execution_count": null,
   "metadata": {},
   "outputs": [],
   "source": [
    "# slightly off-target because of integer stock counts and the trading costs.\n",
    "environment.normalized_holdings()"
   ]
  },
  {
   "cell_type": "markdown",
   "metadata": {},
   "source": [
    "### The ANN-based Trader Model"
   ]
  },
  {
   "cell_type": "code",
   "execution_count": null,
   "metadata": {},
   "outputs": [],
   "source": [
    "N_LSTM_NEURONS = 128\n",
    "N_STOCKS = len(holdings)-1\n",
    "BATCH_SIZE = 128\n",
    "N_STEPS = 20                  # history length for the LSTM\n",
    "N_OUT = N_STOCKS + 1          # stocks and cash\n",
    "# current log returns, positions' weights, cash weight\n",
    "N_FEATURES = N_STOCKS * 2 + 1"
   ]
  },
  {
   "cell_type": "code",
   "execution_count": null,
   "metadata": {},
   "outputs": [],
   "source": [
    "from models import LSTM_TraderModel"
   ]
  },
  {
   "cell_type": "code",
   "execution_count": null,
   "metadata": {},
   "outputs": [],
   "source": [
    "lstm_model = LSTM_TraderModel(\n",
    "    n_neurons=N_LSTM_NEURONS, \n",
    "    n_steps=N_STEPS,\n",
    "    n_features=N_FEATURES,\n",
    "    n_out=N_OUT)\n",
    "\n",
    "x = np.random.random(\n",
    "    [BATCH_SIZE, N_STEPS, N_FEATURES]).astype(np.float32)\n",
    "\n",
    "y = lstm_model(x) # initialize the model\n",
    "test_portfolio = lstm_model.portfolio(x)\n",
    "lstm_model.summary()"
   ]
  },
  {
   "cell_type": "code",
   "execution_count": null,
   "metadata": {},
   "outputs": [],
   "source": [
    "x = np.random.random(\n",
    "    [1, 5, N_FEATURES]).astype(np.float32)\n",
    "x"
   ]
  },
  {
   "cell_type": "code",
   "execution_count": null,
   "metadata": {},
   "outputs": [],
   "source": [
    "lstm_model.portfolio(x)"
   ]
  },
  {
   "cell_type": "markdown",
   "metadata": {},
   "source": [
    "### Observation And Reward\n",
    "The observation consists of the normalized holdings and the normalized log returns of the traded assets with respect to the closing prices. "
   ]
  },
  {
   "cell_type": "code",
   "execution_count": null,
   "metadata": {},
   "outputs": [],
   "source": [
    "obs, reward = environment.act([.2, .2, .3, .3])\n",
    "print(\"Observations: 4x normalized holdings, 3x normalized log returns:\")\n",
    "print(obs)\n",
    "print(\"Reward: %s\" % reward)"
   ]
  },
  {
   "cell_type": "markdown",
   "metadata": {},
   "source": [
    "Observe the time lag. This is a super-expensive method. We may need to consider parallel execution with Ray here...;-("
   ]
  },
  {
   "cell_type": "code",
   "execution_count": null,
   "metadata": {},
   "outputs": [],
   "source": []
  }
 ],
 "metadata": {
  "kernelspec": {
   "display_name": "Python 3",
   "language": "python",
   "name": "python3"
  },
  "language_info": {
   "codemirror_mode": {
    "name": "ipython",
    "version": 3
   },
   "file_extension": ".py",
   "mimetype": "text/x-python",
   "name": "python",
   "nbconvert_exporter": "python",
   "pygments_lexer": "ipython3",
   "version": "3.6.8"
  }
 },
 "nbformat": 4,
 "nbformat_minor": 4
}
